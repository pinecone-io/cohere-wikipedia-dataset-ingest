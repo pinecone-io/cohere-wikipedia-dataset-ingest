{
 "cells": [
  {
   "cell_type": "code",
   "execution_count": 1,
   "id": "e4257b52",
   "metadata": {
    "scrolled": true,
    "tags": []
   },
   "outputs": [
    {
     "name": "stdout",
     "output_type": "stream",
     "text": [
      "\u001b[33mWARNING: Ignoring invalid distribution - (/efs/workspaces/expwrk_29zpzgzej6di5jgqf9k25at5f8/cluster_storage/pypi/lib/python3.10/site-packages)\u001b[0m\u001b[33m\n",
      "\u001b[0m\u001b[33mWARNING: Ignoring invalid distribution -inecone-client (/efs/workspaces/expwrk_29zpzgzej6di5jgqf9k25at5f8/cluster_storage/pypi/lib/python3.10/site-packages)\u001b[0m\u001b[33m\n",
      "\u001b[0m\u001b[33mWARNING: Ignoring invalid distribution -necone-client (/efs/workspaces/expwrk_29zpzgzej6di5jgqf9k25at5f8/cluster_storage/pypi/lib/python3.10/site-packages)\u001b[0m\u001b[33m\n",
      "\u001b[0m\u001b[33mWARNING: Ignoring invalid distribution - (/efs/workspaces/expwrk_29zpzgzej6di5jgqf9k25at5f8/cluster_storage/pypi/lib/python3.10/site-packages)\u001b[0m\u001b[33m\n",
      "\u001b[0m\u001b[33mWARNING: Ignoring invalid distribution -inecone-client (/efs/workspaces/expwrk_29zpzgzej6di5jgqf9k25at5f8/cluster_storage/pypi/lib/python3.10/site-packages)\u001b[0m\u001b[33m\n",
      "\u001b[0m\u001b[33mWARNING: Ignoring invalid distribution -necone-client (/efs/workspaces/expwrk_29zpzgzej6di5jgqf9k25at5f8/cluster_storage/pypi/lib/python3.10/site-packages)\u001b[0m\u001b[33m\n",
      "\u001b[0mRequirement already satisfied: pinecone-client[grpc]==3.0.0.dev4 in /efs/workspaces/expwrk_29zpzgzej6di5jgqf9k25at5f8/cluster_storage/pypi/lib/python3.10/site-packages (3.0.0.dev4)\n",
      "Requirement already satisfied: python-dateutil>=2.5.3 in /home/ray/anaconda3/lib/python3.10/site-packages (from pinecone-client[grpc]==3.0.0.dev4) (2.8.2)\n",
      "Requirement already satisfied: requests<3.0.0,>=2.31.0 in /home/ray/anaconda3/lib/python3.10/site-packages (from pinecone-client[grpc]==3.0.0.dev4) (2.31.0)\n",
      "Requirement already satisfied: tqdm>=4.64.1 in /home/ray/anaconda3/lib/python3.10/site-packages (from pinecone-client[grpc]==3.0.0.dev4) (4.66.1)\n",
      "Requirement already satisfied: typing-extensions>=3.7.4 in /home/ray/anaconda3/lib/python3.10/site-packages (from pinecone-client[grpc]==3.0.0.dev4) (4.9.0)\n",
      "Requirement already satisfied: urllib3==2.0.7 in /home/ray/anaconda3/lib/python3.10/site-packages (from pinecone-client[grpc]==3.0.0.dev4) (2.0.7)\n",
      "Requirement already satisfied: googleapis-common-protos>=1.53.0 in /home/ray/anaconda3/lib/python3.10/site-packages (from pinecone-client[grpc]==3.0.0.dev4) (1.62.0)\n",
      "Requirement already satisfied: grpc-gateway-protoc-gen-openapiv2==0.1.0 in /home/ray/anaconda3/lib/python3.10/site-packages (from pinecone-client[grpc]==3.0.0.dev4) (0.1.0)\n",
      "Requirement already satisfied: grpcio>=1.44.0 in /home/ray/anaconda3/lib/python3.10/site-packages (from pinecone-client[grpc]==3.0.0.dev4) (1.60.0)\n",
      "Requirement already satisfied: lz4>=3.1.3 in /home/ray/anaconda3/lib/python3.10/site-packages (from pinecone-client[grpc]==3.0.0.dev4) (4.3.3)\n",
      "Requirement already satisfied: protobuf<3.21.0,>=3.20.0 in /home/ray/anaconda3/lib/python3.10/site-packages (from pinecone-client[grpc]==3.0.0.dev4) (3.20.3)\n",
      "Requirement already satisfied: six>=1.5 in /home/ray/anaconda3/lib/python3.10/site-packages (from python-dateutil>=2.5.3->pinecone-client[grpc]==3.0.0.dev4) (1.16.0)\n",
      "Requirement already satisfied: charset-normalizer<4,>=2 in /home/ray/anaconda3/lib/python3.10/site-packages (from requests<3.0.0,>=2.31.0->pinecone-client[grpc]==3.0.0.dev4) (3.3.2)\n",
      "Requirement already satisfied: idna<4,>=2.5 in /home/ray/anaconda3/lib/python3.10/site-packages (from requests<3.0.0,>=2.31.0->pinecone-client[grpc]==3.0.0.dev4) (3.6)\n",
      "Requirement already satisfied: certifi>=2017.4.17 in /home/ray/anaconda3/lib/python3.10/site-packages (from requests<3.0.0,>=2.31.0->pinecone-client[grpc]==3.0.0.dev4) (2023.11.17)\n",
      "\u001b[33mWARNING: Ignoring invalid distribution - (/efs/workspaces/expwrk_29zpzgzej6di5jgqf9k25at5f8/cluster_storage/pypi/lib/python3.10/site-packages)\u001b[0m\u001b[33m\n",
      "\u001b[0m\u001b[33mWARNING: Ignoring invalid distribution -inecone-client (/efs/workspaces/expwrk_29zpzgzej6di5jgqf9k25at5f8/cluster_storage/pypi/lib/python3.10/site-packages)\u001b[0m\u001b[33m\n",
      "\u001b[0m\u001b[33mWARNING: Ignoring invalid distribution -necone-client (/efs/workspaces/expwrk_29zpzgzej6di5jgqf9k25at5f8/cluster_storage/pypi/lib/python3.10/site-packages)\u001b[0m\u001b[33m\n",
      "\u001b[0m\u001b[33mWARNING: Ignoring invalid distribution - (/efs/workspaces/expwrk_29zpzgzej6di5jgqf9k25at5f8/cluster_storage/pypi/lib/python3.10/site-packages)\u001b[0m\u001b[33m\n",
      "\u001b[0m\u001b[33mWARNING: Ignoring invalid distribution -inecone-client (/efs/workspaces/expwrk_29zpzgzej6di5jgqf9k25at5f8/cluster_storage/pypi/lib/python3.10/site-packages)\u001b[0m\u001b[33m\n",
      "\u001b[0m\u001b[33mWARNING: Ignoring invalid distribution -necone-client (/efs/workspaces/expwrk_29zpzgzej6di5jgqf9k25at5f8/cluster_storage/pypi/lib/python3.10/site-packages)\u001b[0m\u001b[33m\n",
      "\u001b[0m\u001b[33mWARNING: Ignoring invalid distribution - (/efs/workspaces/expwrk_29zpzgzej6di5jgqf9k25at5f8/cluster_storage/pypi/lib/python3.10/site-packages)\u001b[0m\u001b[33m\n",
      "\u001b[0m\u001b[33mWARNING: Ignoring invalid distribution -inecone-client (/efs/workspaces/expwrk_29zpzgzej6di5jgqf9k25at5f8/cluster_storage/pypi/lib/python3.10/site-packages)\u001b[0m\u001b[33m\n",
      "\u001b[0m\u001b[33mWARNING: Ignoring invalid distribution -necone-client (/efs/workspaces/expwrk_29zpzgzej6di5jgqf9k25at5f8/cluster_storage/pypi/lib/python3.10/site-packages)\u001b[0m\u001b[33m\n",
      "\u001b[0m\u001b[33mWARNING: There was an error checking the latest version of pip.\u001b[0m\u001b[33m\n",
      "\u001b[0m"
     ]
    }
   ],
   "source": [
    "# !pip uninstall -y pinecone-client\n",
    "!pip install --user pinecone-client[grpc]==3.0.0.dev4"
   ]
  },
  {
   "cell_type": "code",
   "execution_count": 2,
   "id": "e6b2bb0c",
   "metadata": {},
   "outputs": [
    {
     "name": "stdout",
     "output_type": "stream",
     "text": [
      "\u001b[33mWARNING: Ignoring invalid distribution - (/efs/workspaces/expwrk_29zpzgzej6di5jgqf9k25at5f8/cluster_storage/pypi/lib/python3.10/site-packages)\u001b[0m\u001b[33m\n",
      "\u001b[0m\u001b[33mWARNING: Ignoring invalid distribution -inecone-client (/efs/workspaces/expwrk_29zpzgzej6di5jgqf9k25at5f8/cluster_storage/pypi/lib/python3.10/site-packages)\u001b[0m\u001b[33m\n",
      "\u001b[0m\u001b[33mWARNING: Ignoring invalid distribution -necone-client (/efs/workspaces/expwrk_29zpzgzej6di5jgqf9k25at5f8/cluster_storage/pypi/lib/python3.10/site-packages)\u001b[0m\u001b[33m\n",
      "\u001b[0m\u001b[33mWARNING: Ignoring invalid distribution - (/efs/workspaces/expwrk_29zpzgzej6di5jgqf9k25at5f8/cluster_storage/pypi/lib/python3.10/site-packages)\u001b[0m\u001b[33m\n",
      "\u001b[0m\u001b[33mWARNING: Ignoring invalid distribution -inecone-client (/efs/workspaces/expwrk_29zpzgzej6di5jgqf9k25at5f8/cluster_storage/pypi/lib/python3.10/site-packages)\u001b[0m\u001b[33m\n",
      "\u001b[0m\u001b[33mWARNING: Ignoring invalid distribution -necone-client (/efs/workspaces/expwrk_29zpzgzej6di5jgqf9k25at5f8/cluster_storage/pypi/lib/python3.10/site-packages)\u001b[0m\u001b[33m\n",
      "\u001b[0mRequirement already satisfied: pandas in /home/ray/anaconda3/lib/python3.10/site-packages (2.1.4)\n",
      "Requirement already satisfied: numpy in /home/ray/anaconda3/lib/python3.10/site-packages (1.26.3)\n",
      "Requirement already satisfied: sentence_transformers in /home/ray/anaconda3/lib/python3.10/site-packages (2.2.2)\n",
      "Requirement already satisfied: pyarrow in /home/ray/anaconda3/lib/python3.10/site-packages (14.0.2)\n",
      "Requirement already satisfied: python-dateutil>=2.8.2 in /home/ray/anaconda3/lib/python3.10/site-packages (from pandas) (2.8.2)\n",
      "Requirement already satisfied: pytz>=2020.1 in /home/ray/anaconda3/lib/python3.10/site-packages (from pandas) (2023.3.post1)\n",
      "Requirement already satisfied: tzdata>=2022.1 in /home/ray/anaconda3/lib/python3.10/site-packages (from pandas) (2023.4)\n",
      "Requirement already satisfied: transformers<5.0.0,>=4.6.0 in /home/ray/anaconda3/lib/python3.10/site-packages (from sentence_transformers) (4.19.1)\n",
      "Requirement already satisfied: tqdm in /home/ray/anaconda3/lib/python3.10/site-packages (from sentence_transformers) (4.66.1)\n",
      "Requirement already satisfied: torch>=1.6.0 in /home/ray/anaconda3/lib/python3.10/site-packages (from sentence_transformers) (2.0.1+cu118)\n",
      "Requirement already satisfied: torchvision in /home/ray/anaconda3/lib/python3.10/site-packages (from sentence_transformers) (0.15.2+cu118)\n",
      "Requirement already satisfied: scikit-learn in /home/ray/anaconda3/lib/python3.10/site-packages (from sentence_transformers) (1.0.2)\n",
      "Requirement already satisfied: scipy in /home/ray/anaconda3/lib/python3.10/site-packages (from sentence_transformers) (1.10.1)\n",
      "Requirement already satisfied: nltk in /home/ray/anaconda3/lib/python3.10/site-packages (from sentence_transformers) (3.8.1)\n",
      "Requirement already satisfied: sentencepiece in /home/ray/anaconda3/lib/python3.10/site-packages (from sentence_transformers) (0.1.96)\n",
      "Requirement already satisfied: huggingface-hub>=0.4.0 in /home/ray/anaconda3/lib/python3.10/site-packages (from sentence_transformers) (0.20.2)\n",
      "Requirement already satisfied: filelock in /home/ray/anaconda3/lib/python3.10/site-packages (from huggingface-hub>=0.4.0->sentence_transformers) (3.13.1)\n",
      "Requirement already satisfied: fsspec>=2023.5.0 in /home/ray/anaconda3/lib/python3.10/site-packages (from huggingface-hub>=0.4.0->sentence_transformers) (2023.10.0)\n",
      "Requirement already satisfied: requests in /home/ray/anaconda3/lib/python3.10/site-packages (from huggingface-hub>=0.4.0->sentence_transformers) (2.31.0)\n",
      "Requirement already satisfied: pyyaml>=5.1 in /home/ray/anaconda3/lib/python3.10/site-packages (from huggingface-hub>=0.4.0->sentence_transformers) (6.0.1)\n",
      "Requirement already satisfied: typing-extensions>=3.7.4.3 in /home/ray/anaconda3/lib/python3.10/site-packages (from huggingface-hub>=0.4.0->sentence_transformers) (4.9.0)\n",
      "Requirement already satisfied: packaging>=20.9 in /home/ray/anaconda3/lib/python3.10/site-packages (from huggingface-hub>=0.4.0->sentence_transformers) (23.2)\n",
      "Requirement already satisfied: six>=1.5 in /home/ray/anaconda3/lib/python3.10/site-packages (from python-dateutil>=2.8.2->pandas) (1.16.0)\n",
      "Requirement already satisfied: sympy in /home/ray/anaconda3/lib/python3.10/site-packages (from torch>=1.6.0->sentence_transformers) (1.12)\n",
      "Requirement already satisfied: networkx in /home/ray/anaconda3/lib/python3.10/site-packages (from torch>=1.6.0->sentence_transformers) (3.1)\n",
      "Requirement already satisfied: jinja2 in /home/ray/anaconda3/lib/python3.10/site-packages (from torch>=1.6.0->sentence_transformers) (3.0.3)\n",
      "Requirement already satisfied: triton==2.0.0 in /home/ray/anaconda3/lib/python3.10/site-packages (from torch>=1.6.0->sentence_transformers) (2.0.0)\n",
      "Requirement already satisfied: cmake in /home/ray/anaconda3/lib/python3.10/site-packages (from triton==2.0.0->torch>=1.6.0->sentence_transformers) (3.28.1)\n",
      "Requirement already satisfied: lit in /home/ray/anaconda3/lib/python3.10/site-packages (from triton==2.0.0->torch>=1.6.0->sentence_transformers) (17.0.6)\n",
      "Requirement already satisfied: regex!=2019.12.17 in /home/ray/anaconda3/lib/python3.10/site-packages (from transformers<5.0.0,>=4.6.0->sentence_transformers) (2023.10.3)\n",
      "Requirement already satisfied: tokenizers!=0.11.3,<0.13,>=0.11.1 in /home/ray/anaconda3/lib/python3.10/site-packages (from transformers<5.0.0,>=4.6.0->sentence_transformers) (0.12.1)\n",
      "Requirement already satisfied: click in /home/ray/anaconda3/lib/python3.10/site-packages (from nltk->sentence_transformers) (8.1.7)\n",
      "Requirement already satisfied: joblib in /home/ray/anaconda3/lib/python3.10/site-packages (from nltk->sentence_transformers) (1.2.0)\n",
      "Requirement already satisfied: threadpoolctl>=2.0.0 in /home/ray/anaconda3/lib/python3.10/site-packages (from scikit-learn->sentence_transformers) (3.1.0)\n",
      "Requirement already satisfied: pillow!=8.3.*,>=5.3.0 in /home/ray/anaconda3/lib/python3.10/site-packages (from torchvision->sentence_transformers) (9.2.0)\n",
      "Requirement already satisfied: MarkupSafe>=2.0 in /home/ray/anaconda3/lib/python3.10/site-packages (from jinja2->torch>=1.6.0->sentence_transformers) (2.1.3)\n",
      "Requirement already satisfied: charset-normalizer<4,>=2 in /home/ray/anaconda3/lib/python3.10/site-packages (from requests->huggingface-hub>=0.4.0->sentence_transformers) (3.3.2)\n",
      "Requirement already satisfied: idna<4,>=2.5 in /home/ray/anaconda3/lib/python3.10/site-packages (from requests->huggingface-hub>=0.4.0->sentence_transformers) (3.6)\n",
      "Requirement already satisfied: urllib3<3,>=1.21.1 in /home/ray/anaconda3/lib/python3.10/site-packages (from requests->huggingface-hub>=0.4.0->sentence_transformers) (2.0.7)\n",
      "Requirement already satisfied: certifi>=2017.4.17 in /home/ray/anaconda3/lib/python3.10/site-packages (from requests->huggingface-hub>=0.4.0->sentence_transformers) (2023.11.17)\n",
      "Requirement already satisfied: mpmath>=0.19 in /home/ray/anaconda3/lib/python3.10/site-packages (from sympy->torch>=1.6.0->sentence_transformers) (1.3.0)\n",
      "\u001b[33mWARNING: Ignoring invalid distribution - (/efs/workspaces/expwrk_29zpzgzej6di5jgqf9k25at5f8/cluster_storage/pypi/lib/python3.10/site-packages)\u001b[0m\u001b[33m\n",
      "\u001b[0m\u001b[33mWARNING: Ignoring invalid distribution -inecone-client (/efs/workspaces/expwrk_29zpzgzej6di5jgqf9k25at5f8/cluster_storage/pypi/lib/python3.10/site-packages)\u001b[0m\u001b[33m\n",
      "\u001b[0m\u001b[33mWARNING: Ignoring invalid distribution -necone-client (/efs/workspaces/expwrk_29zpzgzej6di5jgqf9k25at5f8/cluster_storage/pypi/lib/python3.10/site-packages)\u001b[0m\u001b[33m\n",
      "\u001b[0m\u001b[33mWARNING: Ignoring invalid distribution - (/efs/workspaces/expwrk_29zpzgzej6di5jgqf9k25at5f8/cluster_storage/pypi/lib/python3.10/site-packages)\u001b[0m\u001b[33m\n",
      "\u001b[0m\u001b[33mWARNING: Ignoring invalid distribution -inecone-client (/efs/workspaces/expwrk_29zpzgzej6di5jgqf9k25at5f8/cluster_storage/pypi/lib/python3.10/site-packages)\u001b[0m\u001b[33m\n",
      "\u001b[0m\u001b[33mWARNING: Ignoring invalid distribution -necone-client (/efs/workspaces/expwrk_29zpzgzej6di5jgqf9k25at5f8/cluster_storage/pypi/lib/python3.10/site-packages)\u001b[0m\u001b[33m\n",
      "\u001b[0m\u001b[33mWARNING: Ignoring invalid distribution - (/efs/workspaces/expwrk_29zpzgzej6di5jgqf9k25at5f8/cluster_storage/pypi/lib/python3.10/site-packages)\u001b[0m\u001b[33m\n",
      "\u001b[0m\u001b[33mWARNING: Ignoring invalid distribution -inecone-client (/efs/workspaces/expwrk_29zpzgzej6di5jgqf9k25at5f8/cluster_storage/pypi/lib/python3.10/site-packages)\u001b[0m\u001b[33m\n",
      "\u001b[0m\u001b[33mWARNING: Ignoring invalid distribution -necone-client (/efs/workspaces/expwrk_29zpzgzej6di5jgqf9k25at5f8/cluster_storage/pypi/lib/python3.10/site-packages)\u001b[0m\u001b[33m\n",
      "\u001b[0m\u001b[33mWARNING: There was an error checking the latest version of pip.\u001b[0m\u001b[33m\n",
      "\u001b[0m"
     ]
    }
   ],
   "source": [
    "!pip install pandas numpy sentence_transformers pyarrow"
   ]
  },
  {
   "cell_type": "code",
   "execution_count": 3,
   "id": "b994d41c",
   "metadata": {},
   "outputs": [
    {
     "name": "stdout",
     "output_type": "stream",
     "text": [
      "\u001b[33mWARNING: Ignoring invalid distribution - (/efs/workspaces/expwrk_29zpzgzej6di5jgqf9k25at5f8/cluster_storage/pypi/lib/python3.10/site-packages)\u001b[0m\u001b[33m\n",
      "\u001b[0m\u001b[33mWARNING: Ignoring invalid distribution -inecone-client (/efs/workspaces/expwrk_29zpzgzej6di5jgqf9k25at5f8/cluster_storage/pypi/lib/python3.10/site-packages)\u001b[0m\u001b[33m\n",
      "\u001b[0m\u001b[33mWARNING: Ignoring invalid distribution -necone-client (/efs/workspaces/expwrk_29zpzgzej6di5jgqf9k25at5f8/cluster_storage/pypi/lib/python3.10/site-packages)\u001b[0m\u001b[33m\n",
      "\u001b[0m\u001b[33mWARNING: Ignoring invalid distribution - (/efs/workspaces/expwrk_29zpzgzej6di5jgqf9k25at5f8/cluster_storage/pypi/lib/python3.10/site-packages)\u001b[0m\u001b[33m\n",
      "\u001b[0m\u001b[33mWARNING: Ignoring invalid distribution -inecone-client (/efs/workspaces/expwrk_29zpzgzej6di5jgqf9k25at5f8/cluster_storage/pypi/lib/python3.10/site-packages)\u001b[0m\u001b[33m\n",
      "\u001b[0m\u001b[33mWARNING: Ignoring invalid distribution -necone-client (/efs/workspaces/expwrk_29zpzgzej6di5jgqf9k25at5f8/cluster_storage/pypi/lib/python3.10/site-packages)\u001b[0m\u001b[33m\n",
      "\u001b[0mRequirement already satisfied: python-dotenv in /home/ray/anaconda3/lib/python3.10/site-packages (1.0.0)\n",
      "\u001b[33mWARNING: Ignoring invalid distribution - (/efs/workspaces/expwrk_29zpzgzej6di5jgqf9k25at5f8/cluster_storage/pypi/lib/python3.10/site-packages)\u001b[0m\u001b[33m\n",
      "\u001b[0m\u001b[33mWARNING: Ignoring invalid distribution -inecone-client (/efs/workspaces/expwrk_29zpzgzej6di5jgqf9k25at5f8/cluster_storage/pypi/lib/python3.10/site-packages)\u001b[0m\u001b[33m\n",
      "\u001b[0m\u001b[33mWARNING: Ignoring invalid distribution -necone-client (/efs/workspaces/expwrk_29zpzgzej6di5jgqf9k25at5f8/cluster_storage/pypi/lib/python3.10/site-packages)\u001b[0m\u001b[33m\n",
      "\u001b[0m\u001b[33mWARNING: Ignoring invalid distribution - (/efs/workspaces/expwrk_29zpzgzej6di5jgqf9k25at5f8/cluster_storage/pypi/lib/python3.10/site-packages)\u001b[0m\u001b[33m\n",
      "\u001b[0m\u001b[33mWARNING: Ignoring invalid distribution -inecone-client (/efs/workspaces/expwrk_29zpzgzej6di5jgqf9k25at5f8/cluster_storage/pypi/lib/python3.10/site-packages)\u001b[0m\u001b[33m\n",
      "\u001b[0m\u001b[33mWARNING: Ignoring invalid distribution -necone-client (/efs/workspaces/expwrk_29zpzgzej6di5jgqf9k25at5f8/cluster_storage/pypi/lib/python3.10/site-packages)\u001b[0m\u001b[33m\n",
      "\u001b[0m\u001b[33mWARNING: Ignoring invalid distribution - (/efs/workspaces/expwrk_29zpzgzej6di5jgqf9k25at5f8/cluster_storage/pypi/lib/python3.10/site-packages)\u001b[0m\u001b[33m\n",
      "\u001b[0m\u001b[33mWARNING: Ignoring invalid distribution -inecone-client (/efs/workspaces/expwrk_29zpzgzej6di5jgqf9k25at5f8/cluster_storage/pypi/lib/python3.10/site-packages)\u001b[0m\u001b[33m\n",
      "\u001b[0m\u001b[33mWARNING: Ignoring invalid distribution -necone-client (/efs/workspaces/expwrk_29zpzgzej6di5jgqf9k25at5f8/cluster_storage/pypi/lib/python3.10/site-packages)\u001b[0m\u001b[33m\n",
      "\u001b[0m\u001b[33mWARNING: There was an error checking the latest version of pip.\u001b[0m\u001b[33m\n",
      "\u001b[0m"
     ]
    }
   ],
   "source": [
    "!pip install python-dotenv"
   ]
  },
  {
   "cell_type": "code",
   "execution_count": 4,
   "id": "8436191d-908a-4ed3-9633-ee31ef70e900",
   "metadata": {
    "tags": []
   },
   "outputs": [
    {
     "name": "stdout",
     "output_type": "stream",
     "text": [
      "\u001b[33mWARNING: Ignoring invalid distribution - (/efs/workspaces/expwrk_29zpzgzej6di5jgqf9k25at5f8/cluster_storage/pypi/lib/python3.10/site-packages)\u001b[0m\u001b[33m\n",
      "\u001b[0m\u001b[33mWARNING: Ignoring invalid distribution -inecone-client (/efs/workspaces/expwrk_29zpzgzej6di5jgqf9k25at5f8/cluster_storage/pypi/lib/python3.10/site-packages)\u001b[0m\u001b[33m\n",
      "\u001b[0m\u001b[33mWARNING: Ignoring invalid distribution -necone-client (/efs/workspaces/expwrk_29zpzgzej6di5jgqf9k25at5f8/cluster_storage/pypi/lib/python3.10/site-packages)\u001b[0m\u001b[33m\n",
      "\u001b[0m\u001b[33mWARNING: Ignoring invalid distribution - (/efs/workspaces/expwrk_29zpzgzej6di5jgqf9k25at5f8/cluster_storage/pypi/lib/python3.10/site-packages)\u001b[0m\u001b[33m\n",
      "\u001b[0m\u001b[33mWARNING: Ignoring invalid distribution -inecone-client (/efs/workspaces/expwrk_29zpzgzej6di5jgqf9k25at5f8/cluster_storage/pypi/lib/python3.10/site-packages)\u001b[0m\u001b[33m\n",
      "\u001b[0m\u001b[33mWARNING: Ignoring invalid distribution -necone-client (/efs/workspaces/expwrk_29zpzgzej6di5jgqf9k25at5f8/cluster_storage/pypi/lib/python3.10/site-packages)\u001b[0m\u001b[33m\n",
      "\u001b[0mRequirement already satisfied: tenacity in /home/ray/anaconda3/lib/python3.10/site-packages (8.2.3)\n",
      "\u001b[33mWARNING: Ignoring invalid distribution - (/efs/workspaces/expwrk_29zpzgzej6di5jgqf9k25at5f8/cluster_storage/pypi/lib/python3.10/site-packages)\u001b[0m\u001b[33m\n",
      "\u001b[0m\u001b[33mWARNING: Ignoring invalid distribution -inecone-client (/efs/workspaces/expwrk_29zpzgzej6di5jgqf9k25at5f8/cluster_storage/pypi/lib/python3.10/site-packages)\u001b[0m\u001b[33m\n",
      "\u001b[0m\u001b[33mWARNING: Ignoring invalid distribution -necone-client (/efs/workspaces/expwrk_29zpzgzej6di5jgqf9k25at5f8/cluster_storage/pypi/lib/python3.10/site-packages)\u001b[0m\u001b[33m\n",
      "\u001b[0m\u001b[33mWARNING: Ignoring invalid distribution - (/efs/workspaces/expwrk_29zpzgzej6di5jgqf9k25at5f8/cluster_storage/pypi/lib/python3.10/site-packages)\u001b[0m\u001b[33m\n",
      "\u001b[0m\u001b[33mWARNING: Ignoring invalid distribution -inecone-client (/efs/workspaces/expwrk_29zpzgzej6di5jgqf9k25at5f8/cluster_storage/pypi/lib/python3.10/site-packages)\u001b[0m\u001b[33m\n",
      "\u001b[0m\u001b[33mWARNING: Ignoring invalid distribution -necone-client (/efs/workspaces/expwrk_29zpzgzej6di5jgqf9k25at5f8/cluster_storage/pypi/lib/python3.10/site-packages)\u001b[0m\u001b[33m\n",
      "\u001b[0m\u001b[33mWARNING: Ignoring invalid distribution - (/efs/workspaces/expwrk_29zpzgzej6di5jgqf9k25at5f8/cluster_storage/pypi/lib/python3.10/site-packages)\u001b[0m\u001b[33m\n",
      "\u001b[0m\u001b[33mWARNING: Ignoring invalid distribution -inecone-client (/efs/workspaces/expwrk_29zpzgzej6di5jgqf9k25at5f8/cluster_storage/pypi/lib/python3.10/site-packages)\u001b[0m\u001b[33m\n",
      "\u001b[0m\u001b[33mWARNING: Ignoring invalid distribution -necone-client (/efs/workspaces/expwrk_29zpzgzej6di5jgqf9k25at5f8/cluster_storage/pypi/lib/python3.10/site-packages)\u001b[0m\u001b[33m\n",
      "\u001b[0m\u001b[33mWARNING: There was an error checking the latest version of pip.\u001b[0m\u001b[33m\n",
      "\u001b[0m"
     ]
    }
   ],
   "source": [
    "!pip install --user tenacity"
   ]
  },
  {
   "cell_type": "code",
   "execution_count": 5,
   "id": "ca452a0d",
   "metadata": {
    "tags": []
   },
   "outputs": [],
   "source": [
    "import ray\n",
    "import os\n",
    "import pandas as pd\n",
    "import uuid\n",
    "import json\n",
    "import numpy as np\n",
    "from time import time\n",
    "from random import shuffle\n",
    "from datetime import datetime\n",
    "from tenacity import retry, stop_after_attempt, wait_exponential\n",
    "import logging"
   ]
  },
  {
   "cell_type": "code",
   "execution_count": 6,
   "id": "f3c513b3",
   "metadata": {
    "tags": []
   },
   "outputs": [
    {
     "data": {
      "text/plain": [
       "True"
      ]
     },
     "execution_count": 6,
     "metadata": {},
     "output_type": "execute_result"
    }
   ],
   "source": [
    "from dotenv import load_dotenv\n",
    "load_dotenv()"
   ]
  },
  {
   "cell_type": "code",
   "execution_count": 7,
   "id": "811dc76a",
   "metadata": {
    "tags": []
   },
   "outputs": [
    {
     "name": "stderr",
     "output_type": "stream",
     "text": [
      "2024-01-12 12:29:33,739\tINFO worker.py:1540 -- Connecting to existing Ray cluster at address: 10.0.0.33:6379...\n",
      "2024-01-12 12:29:33,746\tINFO worker.py:1715 -- Connected to Ray cluster. View the dashboard at \u001b[1m\u001b[32mhttps://session-tq9iqwenrl97au1eh61tat4fii.i.anyscaleuserdata.com \u001b[39m\u001b[22m\n",
      "2024-01-12 12:29:33,753\tINFO packaging.py:358 -- Pushing file package 'gcs://_ray_pkg_8d24b4baf867aea16b05f81a9b5ebdc7.zip' (0.73MiB) to Ray cluster...\n",
      "2024-01-12 12:29:33,755\tINFO packaging.py:371 -- Successfully pushed file package 'gcs://_ray_pkg_8d24b4baf867aea16b05f81a9b5ebdc7.zip'.\n"
     ]
    },
    {
     "data": {
      "application/vnd.jupyter.widget-view+json": {
       "model_id": "43f15efb2323414daea6dc65cde93fa5",
       "version_major": 2,
       "version_minor": 0
      },
      "text/html": [
       "<div class=\"lm-Widget p-Widget lm-Panel p-Panel jp-Cell-outputWrapper\">\n",
       "    <div style=\"margin-left: 50px;display: flex;flex-direction: row;align-items: center\">\n",
       "        <div class=\"jp-RenderedHTMLCommon\" style=\"display: flex; flex-direction: row;\">\n",
       "  <svg viewBox=\"0 0 567 224\" fill=\"none\" xmlns=\"http://www.w3.org/2000/svg\" style=\"height: 3em;\">\n",
       "    <g clip-path=\"url(#clip0_4338_178347)\">\n",
       "        <path d=\"M341.29 165.561H355.29L330.13 129.051C345.63 123.991 354.21 112.051 354.21 94.2307C354.21 71.3707 338.72 58.1807 311.88 58.1807H271V165.561H283.27V131.661H311.8C314.25 131.661 316.71 131.501 319.01 131.351L341.25 165.561H341.29ZM283.29 119.851V70.0007H311.82C331.3 70.0007 342.34 78.2907 342.34 94.5507C342.34 111.271 331.34 119.861 311.82 119.861L283.29 119.851ZM451.4 138.411L463.4 165.561H476.74L428.74 58.1807H416L367.83 165.561H380.83L392.83 138.411H451.4ZM446.19 126.601H398L422 72.1407L446.24 126.601H446.19ZM526.11 128.741L566.91 58.1807H554.35L519.99 114.181L485.17 58.1807H472.44L514.01 129.181V165.541H526.13V128.741H526.11Z\" fill=\"var(--jp-ui-font-color0)\"/>\n",
       "        <path d=\"M82.35 104.44C84.0187 97.8827 87.8248 92.0678 93.1671 87.9146C98.5094 83.7614 105.083 81.5067 111.85 81.5067C118.617 81.5067 125.191 83.7614 130.533 87.9146C135.875 92.0678 139.681 97.8827 141.35 104.44H163.75C164.476 101.562 165.622 98.8057 167.15 96.2605L127.45 56.5605C121.071 60.3522 113.526 61.6823 106.235 60.3005C98.9443 58.9187 92.4094 54.9203 87.8602 49.0574C83.3109 43.1946 81.0609 35.8714 81.5332 28.4656C82.0056 21.0599 85.1679 14.0819 90.4252 8.8446C95.6824 3.60726 102.672 0.471508 110.08 0.0272655C117.487 -0.416977 124.802 1.86091 130.647 6.4324C136.493 11.0039 140.467 17.5539 141.821 24.8501C143.175 32.1463 141.816 39.6859 138 46.0505L177.69 85.7505C182.31 82.9877 187.58 81.4995 192.962 81.4375C198.345 81.3755 203.648 82.742 208.33 85.3976C213.012 88.0532 216.907 91.9029 219.616 96.5544C222.326 101.206 223.753 106.492 223.753 111.875C223.753 117.258 222.326 122.545 219.616 127.197C216.907 131.848 213.012 135.698 208.33 138.353C203.648 141.009 198.345 142.375 192.962 142.313C187.58 142.251 182.31 140.763 177.69 138L138 177.7C141.808 184.071 143.155 191.614 141.79 198.91C140.424 206.205 136.44 212.75 130.585 217.313C124.731 221.875 117.412 224.141 110.004 223.683C102.596 223.226 95.6103 220.077 90.3621 214.828C85.1139 209.58 81.9647 202.595 81.5072 195.187C81.0497 187.779 83.3154 180.459 87.878 174.605C92.4405 168.751 98.9853 164.766 106.281 163.401C113.576 162.035 121.119 163.383 127.49 167.19L167.19 127.49C165.664 124.941 164.518 122.182 163.79 119.3H141.39C139.721 125.858 135.915 131.673 130.573 135.826C125.231 139.98 118.657 142.234 111.89 142.234C105.123 142.234 98.5494 139.98 93.2071 135.826C87.8648 131.673 84.0587 125.858 82.39 119.3H60C58.1878 126.495 53.8086 132.78 47.6863 136.971C41.5641 141.163 34.1211 142.972 26.7579 142.059C19.3947 141.146 12.6191 137.574 7.70605 132.014C2.79302 126.454 0.0813599 119.29 0.0813599 111.87C0.0813599 104.451 2.79302 97.2871 7.70605 91.7272C12.6191 86.1673 19.3947 82.5947 26.7579 81.6817C34.1211 80.7686 41.5641 82.5781 47.6863 86.7696C53.8086 90.9611 58.1878 97.2456 60 104.44H82.35ZM100.86 204.32C103.407 206.868 106.759 208.453 110.345 208.806C113.93 209.159 117.527 208.258 120.522 206.256C123.517 204.254 125.725 201.276 126.771 197.828C127.816 194.38 127.633 190.677 126.253 187.349C124.874 184.021 122.383 181.274 119.205 179.577C116.027 177.88 112.359 177.337 108.826 178.042C105.293 178.746 102.113 180.654 99.8291 183.44C97.5451 186.226 96.2979 189.718 96.3 193.32C96.2985 195.364 96.7006 197.388 97.4831 199.275C98.2656 201.163 99.4132 202.877 100.86 204.32ZM204.32 122.88C206.868 120.333 208.453 116.981 208.806 113.396C209.159 109.811 208.258 106.214 206.256 103.219C204.254 100.223 201.275 98.0151 197.827 96.97C194.38 95.9249 190.676 96.1077 187.348 97.4873C184.02 98.8669 181.274 101.358 179.577 104.536C177.879 107.714 177.337 111.382 178.041 114.915C178.746 118.448 180.653 121.627 183.439 123.911C186.226 126.195 189.717 127.443 193.32 127.44C195.364 127.443 197.388 127.042 199.275 126.259C201.163 125.476 202.878 124.328 204.32 122.88ZM122.88 19.4205C120.333 16.8729 116.981 15.2876 113.395 14.9347C109.81 14.5817 106.213 15.483 103.218 17.4849C100.223 19.4868 98.0146 22.4654 96.9696 25.9131C95.9245 29.3608 96.1073 33.0642 97.4869 36.3922C98.8665 39.7202 101.358 42.4668 104.535 44.1639C107.713 45.861 111.381 46.4036 114.914 45.6992C118.447 44.9949 121.627 43.0871 123.911 40.301C126.195 37.515 127.442 34.0231 127.44 30.4205C127.44 28.3772 127.038 26.3539 126.255 24.4664C125.473 22.5788 124.326 20.8642 122.88 19.4205ZM19.42 100.86C16.8725 103.408 15.2872 106.76 14.9342 110.345C14.5813 113.93 15.4826 117.527 17.4844 120.522C19.4863 123.518 22.4649 125.726 25.9127 126.771C29.3604 127.816 33.0638 127.633 36.3918 126.254C39.7198 124.874 42.4664 122.383 44.1635 119.205C45.8606 116.027 46.4032 112.359 45.6988 108.826C44.9944 105.293 43.0866 102.114 40.3006 99.8296C37.5145 97.5455 34.0227 96.2983 30.42 96.3005C26.2938 96.3018 22.337 97.9421 19.42 100.86ZM100.86 100.86C98.3125 103.408 96.7272 106.76 96.3742 110.345C96.0213 113.93 96.9226 117.527 98.9244 120.522C100.926 123.518 103.905 125.726 107.353 126.771C110.8 127.816 114.504 127.633 117.832 126.254C121.16 124.874 123.906 122.383 125.604 119.205C127.301 116.027 127.843 112.359 127.139 108.826C126.434 105.293 124.527 102.114 121.741 99.8296C118.955 97.5455 115.463 96.2983 111.86 96.3005C109.817 96.299 107.793 96.701 105.905 97.4835C104.018 98.2661 102.303 99.4136 100.86 100.86Z\" fill=\"#00AEEF\"/>\n",
       "    </g>\n",
       "    <defs>\n",
       "        <clipPath id=\"clip0_4338_178347\">\n",
       "            <rect width=\"566.93\" height=\"223.75\" fill=\"white\"/>\n",
       "        </clipPath>\n",
       "    </defs>\n",
       "  </svg>\n",
       "</div>\n",
       "\n",
       "        <table class=\"jp-RenderedHTMLCommon\" style=\"border-collapse: collapse;color: var(--jp-ui-font-color1);font-size: var(--jp-ui-font-size1);\">\n",
       "    <tr>\n",
       "        <td style=\"text-align: left\"><b>Python version:</b></td>\n",
       "        <td style=\"text-align: left\"><b>3.10.13</b></td>\n",
       "    </tr>\n",
       "    <tr>\n",
       "        <td style=\"text-align: left\"><b>Ray version:</b></td>\n",
       "        <td style=\"text-align: left\"><b>2.9.0</b></td>\n",
       "    </tr>\n",
       "    <tr>\n",
       "    <td style=\"text-align: left\"><b>Dashboard:</b></td>\n",
       "    <td style=\"text-align: left\"><b><a href=\"http://session-tq9iqwenrl97au1eh61tat4fii.i.anyscaleuserdata.com\" target=\"_blank\">http://session-tq9iqwenrl97au1eh61tat4fii.i.anyscaleuserdata.com</a></b></td>\n",
       "</tr>\n",
       "\n",
       "</table>\n",
       "\n",
       "    </div>\n",
       "</div>\n"
      ],
      "text/plain": [
       "RayContext(dashboard_url='session-tq9iqwenrl97au1eh61tat4fii.i.anyscaleuserdata.com', python_version='3.10.13', ray_version='2.9.0', ray_commit='34ab695d5248aff4ddecbf5fb7d6e8035f74437b', protocol_version=None)"
      ]
     },
     "execution_count": 7,
     "metadata": {},
     "output_type": "execute_result"
    }
   ],
   "source": [
    "ray.init(\n",
    "    runtime_env={\n",
    "        \"env_vars\": {\n",
    "          \"PINECONE_API_KEY\": os.getenv(\"PINECONE_API_KEY\"),\n",
    "        }\n",
    "    },\n",
    ")"
   ]
  },
  {
   "cell_type": "markdown",
   "id": "13965481",
   "metadata": {},
   "source": [
    "# Load data"
   ]
  },
  {
   "cell_type": "code",
   "execution_count": 8,
   "id": "be8da6c2",
   "metadata": {
    "tags": []
   },
   "outputs": [
    {
     "data": {
      "application/vnd.jupyter.widget-view+json": {
       "model_id": "373cc33a088e4128bc7207da01726465",
       "version_major": 2,
       "version_minor": 0
      },
      "text/plain": [
       "Metadata Fetch Progress 0:   0%|          | 0/42 [00:00<?, ?it/s]"
      ]
     },
     "metadata": {},
     "output_type": "display_data"
    },
    {
     "data": {
      "application/vnd.jupyter.widget-view+json": {
       "model_id": "0a994fb1a56545fab01a66f79c99f274",
       "version_major": 2,
       "version_minor": 0
      },
      "text/plain": [
       "Parquet Files Sample 0:   0%|          | 0/2 [00:00<?, ?it/s]"
      ]
     },
     "metadata": {},
     "output_type": "display_data"
    }
   ],
   "source": [
    "import requests\n",
    "import json\n",
    "\n",
    "url = \"https://huggingface.co/api/datasets/Cohere/wikipedia-22-12-en-embeddings/parquet/default/train\"\n",
    "response = requests.get(url)\n",
    "input_files = json.loads(response.content)\n",
    "columns = ['id', 'title', 'text', 'url', 'emb',] \n",
    "ds = ray.data.read_parquet(input_files, columns=columns)"
   ]
  },
  {
   "cell_type": "code",
   "execution_count": 9,
   "id": "7d36900d-e457-4a44-bd62-18b82f930c3a",
   "metadata": {
    "tags": []
   },
   "outputs": [
    {
     "name": "stdout",
     "output_type": "stream",
     "text": [
      "Dataset size: 35,167,920 vectors\n"
     ]
    }
   ],
   "source": [
    "print(f\"Dataset size: {ds.count():,} vectors\")"
   ]
  },
  {
   "cell_type": "code",
   "execution_count": 10,
   "id": "4ac8180f-d2d4-478d-ae37-a6d5848174a7",
   "metadata": {
    "tags": []
   },
   "outputs": [],
   "source": [
    "# Replace these with your actual column name:\n",
    "text_column = 'text'       \n",
    "title_column = 'title' \n",
    "url_column = 'url'\n",
    "embeddings_columm = 'emb'\n",
    "\n",
    "def process_data(df):\n",
    "    # Id column needs to be string\n",
    "    df['id'] = df['id'].astype(str)\n",
    "    \n",
    "    # Rename the vector values column\n",
    "    df.rename(columns={embeddings_columm: 'values'}, inplace=True)\n",
    "    \n",
    "    # Combine remaining columns to metadata\n",
    "    metadata_cols = [text_column, title_column, url_column]\n",
    "    df['metadata'] = df[metadata_cols].to_dict(orient='records')\n",
    "    df.drop(columns=metadata_cols, inplace=True)\n",
    "\n",
    "    return df\n",
    "\n"
   ]
  },
  {
   "cell_type": "markdown",
   "id": "6767795f-1743-4e59-b34d-9fad8e6d6192",
   "metadata": {},
   "source": [
    "For debugging and visualization only - apply the processing to 100 lines and read to df."
   ]
  },
  {
   "cell_type": "code",
   "execution_count": 11,
   "id": "1a6e457c",
   "metadata": {
    "tags": []
   },
   "outputs": [
    {
     "name": "stderr",
     "output_type": "stream",
     "text": [
      "2024-01-12 12:30:40,714\tINFO set_read_parallelism.py:115 -- Using autodetected parallelism=1879 for stage ReadParquet to satisfy output blocks of size at most DataContext.get_current().target_max_block_size=128.0MiB.\n",
      "2024-01-12 12:30:40,714\tINFO set_read_parallelism.py:122 -- To satisfy the requested parallelism of 1879, each read task output is split into 2 smaller blocks.\n",
      "2024-01-12 12:30:40,715\tINFO streaming_executor.py:112 -- Executing DAG InputDataBuffer[Input] -> TaskPoolMapOperator[ReadParquet] -> TaskPoolMapOperator[MapBatches(process_data)] -> LimitOperator[limit=100]\n",
      "2024-01-12 12:30:40,716\tINFO streaming_executor.py:113 -- Execution config: ExecutionOptions(resource_limits=ExecutionResources(cpu=None, gpu=None, object_store_memory=None), exclude_resources=ExecutionResources(cpu=0, gpu=0, object_store_memory=0), locality_with_output=False, preserve_order=False, actor_locality_enabled=True, verbose_progress=False)\n",
      "2024-01-12 12:30:40,716\tINFO streaming_executor.py:115 -- Tip: For detailed progress reporting, run `ray.data.DataContext.get_current().execution_options.verbose_progress = True`\n"
     ]
    },
    {
     "data": {
      "application/vnd.jupyter.widget-view+json": {
       "model_id": "bc04d42935c4456498b9fe8837279caa",
       "version_major": 2,
       "version_minor": 0
      },
      "text/plain": [
       "Running 0:   0%|          | 0/253 [00:00<?, ?it/s]"
      ]
     },
     "metadata": {},
     "output_type": "display_data"
    },
    {
     "name": "stderr",
     "output_type": "stream",
     "text": [
      "\u001b[36m(ReadParquet->SplitBlocks(2) pid=13562, ip=10.0.0.63)\u001b[0m /home/ray/anaconda3/lib/python3.10/site-packages/ray/data/_internal/arrow_block.py:148: FutureWarning: promote has been superseded by mode='default'.\n",
      "\u001b[36m(ReadParquet->SplitBlocks(2) pid=13562, ip=10.0.0.63)\u001b[0m   return transform_pyarrow.concat(tables)\n"
     ]
    },
    {
     "name": "stdout",
     "output_type": "stream",
     "text": [
      "\u001b[36m(autoscaler +1m13s)\u001b[0m Tip: use `ray status` to view detailed cluster status. To disable these messages, set RAY_SCHEDULER_EVENTS=0.\n",
      "\u001b[36m(autoscaler +1m13s)\u001b[0m [autoscaler] [worker-node-type-0] Upscaling 1 node(s) to satisfy cluster resource constraints.\n"
     ]
    },
    {
     "data": {
      "text/html": [
       "<div>\n",
       "<style scoped>\n",
       "    .dataframe tbody tr th:only-of-type {\n",
       "        vertical-align: middle;\n",
       "    }\n",
       "\n",
       "    .dataframe tbody tr th {\n",
       "        vertical-align: top;\n",
       "    }\n",
       "\n",
       "    .dataframe thead th {\n",
       "        text-align: right;\n",
       "    }\n",
       "</style>\n",
       "<table border=\"1\" class=\"dataframe\">\n",
       "  <thead>\n",
       "    <tr style=\"text-align: right;\">\n",
       "      <th></th>\n",
       "      <th>id</th>\n",
       "      <th>values</th>\n",
       "      <th>metadata</th>\n",
       "    </tr>\n",
       "  </thead>\n",
       "  <tbody>\n",
       "    <tr>\n",
       "      <th>0</th>\n",
       "      <td>2363068</td>\n",
       "      <td>[0.17667872, -0.13867834, -0.021413453, 0.2931...</td>\n",
       "      <td>{'text': 'Social conflicts among cats depend s...</td>\n",
       "    </tr>\n",
       "    <tr>\n",
       "      <th>1</th>\n",
       "      <td>2363069</td>\n",
       "      <td>[0.044649594, 0.15593667, 0.35089195, 0.345184...</td>\n",
       "      <td>{'text': 'The first sign of an imminent tomcat...</td>\n",
       "    </tr>\n",
       "    <tr>\n",
       "      <th>2</th>\n",
       "      <td>2363070</td>\n",
       "      <td>[0.11803974, 0.16034317, -0.11615362, 0.473689...</td>\n",
       "      <td>{'text': 'Fights can also happen between two f...</td>\n",
       "    </tr>\n",
       "    <tr>\n",
       "      <th>3</th>\n",
       "      <td>2363071</td>\n",
       "      <td>[0.2019098, 0.24923877, 0.053239096, 0.2989406...</td>\n",
       "      <td>{'text': 'Cats between the age of three and ni...</td>\n",
       "    </tr>\n",
       "    <tr>\n",
       "      <th>4</th>\n",
       "      <td>2363072</td>\n",
       "      <td>[0.1188415, 0.36787227, 0.1163324, 0.13749832,...</td>\n",
       "      <td>{'text': 'Feral kittens around two to seven we...</td>\n",
       "    </tr>\n",
       "  </tbody>\n",
       "</table>\n",
       "</div>"
      ],
      "text/plain": [
       "        id                                             values  \\\n",
       "0  2363068  [0.17667872, -0.13867834, -0.021413453, 0.2931...   \n",
       "1  2363069  [0.044649594, 0.15593667, 0.35089195, 0.345184...   \n",
       "2  2363070  [0.11803974, 0.16034317, -0.11615362, 0.473689...   \n",
       "3  2363071  [0.2019098, 0.24923877, 0.053239096, 0.2989406...   \n",
       "4  2363072  [0.1188415, 0.36787227, 0.1163324, 0.13749832,...   \n",
       "\n",
       "                                            metadata  \n",
       "0  {'text': 'Social conflicts among cats depend s...  \n",
       "1  {'text': 'The first sign of an imminent tomcat...  \n",
       "2  {'text': 'Fights can also happen between two f...  \n",
       "3  {'text': 'Cats between the age of three and ni...  \n",
       "4  {'text': 'Feral kittens around two to seven we...  "
      ]
     },
     "execution_count": 11,
     "metadata": {},
     "output_type": "execute_result"
    }
   ],
   "source": [
    "# For debugging and visualization only:\n",
    "\n",
    "df = ds.map_batches(process_data, batch_format=\"pandas\").take_batch(100, batch_format=\"pandas\")\n",
    "df.head()"
   ]
  },
  {
   "cell_type": "code",
   "execution_count": 12,
   "id": "f451c814-aaca-458c-987e-9056d7e244c5",
   "metadata": {
    "tags": []
   },
   "outputs": [
    {
     "data": {
      "text/plain": [
       "{'text': 'Social conflicts among cats depend solely on the behavior of the cats. Some research has shown that cats rarely pick fights, but when they do, it is usually for protecting food and/or litters, and defending their territory.',\n",
       " 'title': 'Cat communication',\n",
       " 'url': 'https://en.wikipedia.org/wiki?curid=5741167'}"
      ]
     },
     "execution_count": 12,
     "metadata": {},
     "output_type": "execute_result"
    }
   ],
   "source": [
    "df.metadata.iloc[0]"
   ]
  },
  {
   "cell_type": "markdown",
   "id": "9e91f3f4",
   "metadata": {},
   "source": [
    "# Upsert"
   ]
  },
  {
   "cell_type": "code",
   "execution_count": 13,
   "id": "6d023fc3",
   "metadata": {
    "scrolled": true,
    "tags": []
   },
   "outputs": [],
   "source": [
    "from pinecone.grpc import PineconeGRPC\n",
    "from pinecone import Pinecone, ServerlessSpec\n",
    "import os\n",
    "from datetime import datetime"
   ]
  },
  {
   "cell_type": "code",
   "execution_count": 14,
   "id": "84851ae8",
   "metadata": {
    "tags": []
   },
   "outputs": [],
   "source": [
    "pc = PineconeGRPC()"
   ]
  },
  {
   "cell_type": "code",
   "execution_count": 15,
   "id": "58ee04f3-f089-4ea3-bae7-8541283f0cce",
   "metadata": {
    "tags": []
   },
   "outputs": [],
   "source": [
    "index_name = 'cohere-test-2'"
   ]
  },
  {
   "cell_type": "code",
   "execution_count": 16,
   "id": "619d94ca-f7ca-4923-9437-4e0e3944af17",
   "metadata": {
    "tags": []
   },
   "outputs": [],
   "source": [
    "# pc.delete_index(index_name)"
   ]
  },
  {
   "cell_type": "code",
   "execution_count": 17,
   "id": "5dbd6ced",
   "metadata": {
    "scrolled": true,
    "tags": []
   },
   "outputs": [
    {
     "data": {
      "text/plain": [
       "['serverless-index',\n",
       " 'cohere-wiki-full-2',\n",
       " 'serverless-index-parallel',\n",
       " 'vercel-chatbot-serverless',\n",
       " 'anyscale-cohere-wiki',\n",
       " 'test',\n",
       " 'cohere-test',\n",
       " 'cohere-wiki-full',\n",
       " 'serverless-test']"
      ]
     },
     "execution_count": 17,
     "metadata": {},
     "output_type": "execute_result"
    }
   ],
   "source": [
    "indexes = pc.list_indexes().indexes\n",
    "names = [_['name'] for _ in indexes]\n",
    "names"
   ]
  },
  {
   "cell_type": "code",
   "execution_count": null,
   "id": "09b71ca8",
   "metadata": {},
   "outputs": [],
   "source": []
  },
  {
   "cell_type": "code",
   "execution_count": 18,
   "id": "befd0d0c",
   "metadata": {
    "tags": []
   },
   "outputs": [],
   "source": [
    "if index_name not in names:\n",
    "    pc.create_index(\n",
    "        name=index_name,\n",
    "        dimension=768,\n",
    "        metric=\"cosine\",\n",
    "        spec=ServerlessSpec(cloud='aws', region='us-west-2') \n",
    "    ) "
   ]
  },
  {
   "cell_type": "code",
   "execution_count": 19,
   "id": "669edf9e",
   "metadata": {
    "tags": []
   },
   "outputs": [
    {
     "data": {
      "text/plain": [
       "[{'dimension': 768,\n",
       "  'host': 'cohere-test-2-pltuh67.svc.apw5-4e34-81fa.pinecone.io',\n",
       "  'metric': 'cosine',\n",
       "  'name': 'cohere-test-2',\n",
       "  'spec': {'serverless': {'cloud': 'aws', 'region': 'us-west-2'}},\n",
       "  'status': {'ready': True, 'state': 'Ready'}}]"
      ]
     },
     "execution_count": 19,
     "metadata": {},
     "output_type": "execute_result"
    }
   ],
   "source": [
    "indexes = pc.list_indexes().indexes\n",
    "[_ for _ in indexes if _['name'] == index_name]"
   ]
  },
  {
   "cell_type": "code",
   "execution_count": 20,
   "id": "d515c498-0cd2-4ded-93ee-6ee9550d07e7",
   "metadata": {
    "tags": []
   },
   "outputs": [
    {
     "data": {
      "text/plain": [
       "{'dimension': 768,\n",
       " 'index_fullness': 0.0,\n",
       " 'namespaces': {'': {'vector_count': 0}},\n",
       " 'total_vector_count': 0}"
      ]
     },
     "execution_count": 20,
     "metadata": {},
     "output_type": "execute_result"
    }
   ],
   "source": [
    "index = pc.Index(index_name)\n",
    "index.describe_index_stats()"
   ]
  },
  {
   "cell_type": "markdown",
   "id": "aa447317-b417-4fda-ba95-2189c88cb205",
   "metadata": {},
   "source": [
    "## Sync option\n",
    "\n",
    "Note: this option is more readable but much slower (unless you use x10 times more cpus...)"
   ]
  },
  {
   "cell_type": "code",
   "execution_count": null,
   "id": "4416ece2",
   "metadata": {
    "tags": []
   },
   "outputs": [],
   "source": [
    "batch_size = 350\n",
    "\n",
    "def upload(batch):\n",
    "    client = PineconeGRPC()\n",
    "    index = client.Index(index_name)\n",
    "    total_vectors = 0\n",
    "    num_failures = 0\n",
    "    # data = process_data(large_batch).to_dict(orient='records')\n",
    "    data = batch.to_dict(orient='records')\n",
    "    \n",
    "    @retry(stop=stop_after_attempt(2), wait=wait_exponential(multiplier=1, min=4, max=10))\n",
    "    def send_batch(batch):\n",
    "        return index.upsert(vectors=batch)\n",
    "    \n",
    "    try:\n",
    "        result = send_batch(data)\n",
    "        total_vectors += result.upserted_count\n",
    "    except Exception as e:\n",
    "        logging.exception(e)\n",
    "        num_failures += len(data)\n",
    "    return {'upsreted': np.array([total_vectors]), 'errors': np.array([num_failures])}\n",
    "\n",
    "class Upserter:\n",
    "    def __call__(self, large_batch):\n",
    "        return upload(large_batch)"
   ]
  },
  {
   "cell_type": "code",
   "execution_count": null,
   "id": "d63acada",
   "metadata": {
    "scrolled": true,
    "tags": []
   },
   "outputs": [],
   "source": [
    "%%time\n",
    "\n",
    "num_workers = 150\n",
    "\n",
    "new_ds = ds.map_batches(\n",
    "    process_data, \n",
    "    batch_format=\"pandas\"\n",
    ").map_batches(\n",
    "    Upserter, \n",
    "    batch_size=batch_size, \n",
    "    batch_format='pandas', \n",
    "    zero_copy_batch=True,\n",
    "    concurrency=(1, num_workers)\n",
    ")\n",
    "\n",
    "\n",
    "before = datetime.now()\n",
    "summary = new_ds.sum(['upsreted', 'errors'])\n",
    "duration = datetime.now() - before\n",
    "print({k: f\"{v: ,}\" for k,v in summary.items()})\n",
    "print(duration)"
   ]
  },
  {
   "cell_type": "code",
   "execution_count": null,
   "id": "6cae2d03",
   "metadata": {
    "tags": []
   },
   "outputs": [],
   "source": [
    "print(f\"Upserted {summary['sum(upsreted)']:,} vectors, duration: {duration}. Failed to upsert {summary['sum(errors)']:,} vectors, see log for more details\")"
   ]
  },
  {
   "cell_type": "markdown",
   "id": "5d08354b",
   "metadata": {},
   "source": [
    "## Async option\n",
    "\n",
    "This version is not as straight forward and readable as the sync option, but much much faster.\n",
    "\n",
    "However - it's also much more likely to hit the admission control on the Pinecone server side. If you're seeing too many errors (`\"Too many requests. Please retry shortly\"`) - try reducing `num_workers` and\\or `concurrent_reqests`."
   ]
  },
  {
   "cell_type": "code",
   "execution_count": 21,
   "id": "88884375-e3fb-44ee-b992-e85698a81f8c",
   "metadata": {
    "tags": []
   },
   "outputs": [],
   "source": [
    "from threading import Semaphore"
   ]
  },
  {
   "cell_type": "code",
   "execution_count": 22,
   "id": "fdf37136",
   "metadata": {},
   "outputs": [],
   "source": [
    "batch_size = 350\n",
    "concurrent_reqests = 5\n",
    "\n",
    "def chunker(seq, batch_size):\n",
    "    return ((pos, seq[pos:pos + batch_size]) for pos in range(0, len(seq), batch_size))\n",
    "\n",
    "\n",
    "def async_upload(large_batch):\n",
    "    client = PineconeGRPC()\n",
    "    index = client.Index(index_name)\n",
    "    total_vectors = 0\n",
    "    num_failures = 0\n",
    "    data = large_batch.to_dict(orient='records')\n",
    "\n",
    "    # The current implementation of `upsert(async_req=True)` uses thread pool, not asyncio - so we need threading Semaphore\n",
    "    sem = Semaphore(concurrent_reqests)\n",
    "\n",
    "    def done(future):\n",
    "        sem.release()\n",
    "    \n",
    "    def send_batch(batch):\n",
    "        sem.acquire()\n",
    "        future = index.upsert(vectors=batch, async_req=True)\n",
    "        future.add_done_callback(done)\n",
    "        return future\n",
    "    \n",
    "    tasks = [(pos, send_batch(batch)) for pos, batch in chunker(data, batch_size=batch_size)] \n",
    "    total_vectors = 0\n",
    "    failed_ids = []\n",
    "    num_failures = 0\n",
    "    for idx, task in tasks:\n",
    "        try:\n",
    "            result = task.result()\n",
    "            total_vectors += result.upserted_count\n",
    "        except Exception:\n",
    "            failed_batch = data[idx: idx + batch_size]\n",
    "            try:\n",
    "                result = index.upsert(failed_batch)\n",
    "                total_vectors += result.upserted_count\n",
    "            except Exception as e:\n",
    "                logging.exception(e)\n",
    "                num_failures += len(failed_batch)\n",
    "    return {'upsreted': np.array([total_vectors]), 'errors': np.array([num_failures])}\n",
    "    \n",
    "class UpserterConcurrent:\n",
    "    def __call__(self, large_batch):\n",
    "        return async_upload(large_batch)"
   ]
  },
  {
   "cell_type": "code",
   "execution_count": 23,
   "id": "248592d9",
   "metadata": {
    "scrolled": true,
    "tags": []
   },
   "outputs": [
    {
     "name": "stderr",
     "output_type": "stream",
     "text": [
      "2024-01-12 12:30:53,848\tINFO set_read_parallelism.py:115 -- Using autodetected parallelism=1879 for stage ReadParquet to satisfy output blocks of size at most DataContext.get_current().target_max_block_size=128.0MiB.\n",
      "2024-01-12 12:30:53,849\tINFO set_read_parallelism.py:122 -- To satisfy the requested parallelism of 1879, each read task output is split into 2 smaller blocks.\n",
      "2024-01-12 12:30:53,849\tINFO streaming_executor.py:112 -- Executing DAG InputDataBuffer[Input] -> TaskPoolMapOperator[ReadParquet] -> ActorPoolMapOperator[MapBatches(process_data)->MapBatches(UpserterConcurrent)]\n",
      "2024-01-12 12:30:53,850\tINFO streaming_executor.py:113 -- Execution config: ExecutionOptions(resource_limits=ExecutionResources(cpu=None, gpu=None, object_store_memory=None), exclude_resources=ExecutionResources(cpu=0, gpu=0, object_store_memory=0), locality_with_output=False, preserve_order=False, actor_locality_enabled=True, verbose_progress=False)\n",
      "2024-01-12 12:30:53,851\tINFO streaming_executor.py:115 -- Tip: For detailed progress reporting, run `ray.data.DataContext.get_current().execution_options.verbose_progress = True`\n",
      "2024-01-12 12:30:54,034\tINFO actor_pool_map_operator.py:114 -- MapBatches(process_data)->MapBatches(UpserterConcurrent): Waiting for 1 pool actors to start...\n"
     ]
    },
    {
     "data": {
      "application/vnd.jupyter.widget-view+json": {
       "model_id": "f3b7a947befe4bf8a0315905aad205f6",
       "version_major": 2,
       "version_minor": 0
      },
      "text/plain": [
       "Running 0:   0%|          | 0/253 [00:00<?, ?it/s]"
      ]
     },
     "metadata": {},
     "output_type": "display_data"
    },
    {
     "name": "stderr",
     "output_type": "stream",
     "text": [
      "\u001b[36m(ReadParquet->SplitBlocks(2) pid=44152, ip=10.0.0.62)\u001b[0m /home/ray/anaconda3/lib/python3.10/site-packages/ray/data/_internal/arrow_block.py:148: FutureWarning: promote has been superseded by mode='default'.\n",
      "\u001b[36m(ReadParquet->SplitBlocks(2) pid=44152, ip=10.0.0.62)\u001b[0m   return transform_pyarrow.concat(tables)\n"
     ]
    },
    {
     "name": "stdout",
     "output_type": "stream",
     "text": [
      "\u001b[36m(autoscaler +1m27s)\u001b[0m [autoscaler] [worker-node-type-0|n2-standard-32] [us-west1-b] [on-demand] Launched 1 instances.\n"
     ]
    },
    {
     "name": "stderr",
     "output_type": "stream",
     "text": [
      "\u001b[36m(MapWorker(MapBatches(process_data)->MapBatches(UpserterConcurrent)) pid=44830, ip=10.0.0.17)\u001b[0m /home/ray/anaconda3/lib/python3.10/site-packages/ray/data/_internal/arrow_block.py:148: FutureWarning: promote has been superseded by mode='default'.\u001b[32m [repeated 25x across cluster]\u001b[0m\n",
      "\u001b[36m(MapWorker(MapBatches(process_data)->MapBatches(UpserterConcurrent)) pid=44830, ip=10.0.0.17)\u001b[0m   return transform_pyarrow.concat(tables)\u001b[32m [repeated 25x across cluster]\u001b[0m\n",
      "\u001b[36m(MapWorker(MapBatches(process_data)->MapBatches(UpserterConcurrent)) pid=46641, ip=10.0.0.57)\u001b[0m /home/ray/anaconda3/lib/python3.10/site-packages/ray/data/_internal/arrow_block.py:148: FutureWarning: promote has been superseded by mode='default'.\u001b[32m [repeated 4x across cluster]\u001b[0m\n",
      "\u001b[36m(MapWorker(MapBatches(process_data)->MapBatches(UpserterConcurrent)) pid=46641, ip=10.0.0.57)\u001b[0m   return transform_pyarrow.concat(tables)\u001b[32m [repeated 4x across cluster]\u001b[0m\n",
      "\u001b[36m(MapWorker(MapBatches(process_data)->MapBatches(UpserterConcurrent)) pid=1215867)\u001b[0m /home/ray/anaconda3/lib/python3.10/site-packages/ray/data/_internal/arrow_block.py:148: FutureWarning: promote has been superseded by mode='default'.\u001b[32m [repeated 4x across cluster]\u001b[0m\n",
      "\u001b[36m(MapWorker(MapBatches(process_data)->MapBatches(UpserterConcurrent)) pid=1215867)\u001b[0m   return transform_pyarrow.concat(tables)\u001b[32m [repeated 4x across cluster]\u001b[0m\n",
      "\u001b[36m(MapWorker(MapBatches(process_data)->MapBatches(UpserterConcurrent)) pid=45188, ip=10.0.0.17)\u001b[0m /home/ray/anaconda3/lib/python3.10/site-packages/ray/data/_internal/arrow_block.py:148: FutureWarning: promote has been superseded by mode='default'.\u001b[32m [repeated 4x across cluster]\u001b[0m\n",
      "\u001b[36m(MapWorker(MapBatches(process_data)->MapBatches(UpserterConcurrent)) pid=45188, ip=10.0.0.17)\u001b[0m   return transform_pyarrow.concat(tables)\u001b[32m [repeated 4x across cluster]\u001b[0m\n",
      "\u001b[36m(MapWorker(MapBatches(process_data)->MapBatches(UpserterConcurrent)) pid=45188, ip=10.0.0.17)\u001b[0m /home/ray/anaconda3/lib/python3.10/site-packages/ray/data/_internal/arrow_block.py:148: FutureWarning: promote has been superseded by mode='default'.\u001b[32m [repeated 5x across cluster]\u001b[0m\n",
      "\u001b[36m(MapWorker(MapBatches(process_data)->MapBatches(UpserterConcurrent)) pid=45188, ip=10.0.0.17)\u001b[0m   return transform_pyarrow.concat(tables)\u001b[32m [repeated 5x across cluster]\u001b[0m\n",
      "\u001b[36m(MapWorker(MapBatches(process_data)->MapBatches(UpserterConcurrent)) pid=45188, ip=10.0.0.17)\u001b[0m /home/ray/anaconda3/lib/python3.10/site-packages/ray/data/_internal/arrow_block.py:148: FutureWarning: promote has been superseded by mode='default'.\u001b[32m [repeated 6x across cluster]\u001b[0m\n",
      "\u001b[36m(MapWorker(MapBatches(process_data)->MapBatches(UpserterConcurrent)) pid=45188, ip=10.0.0.17)\u001b[0m   return transform_pyarrow.concat(tables)\u001b[32m [repeated 6x across cluster]\u001b[0m\n",
      "\u001b[36m(MapWorker(MapBatches(process_data)->MapBatches(UpserterConcurrent)) pid=45188, ip=10.0.0.17)\u001b[0m /home/ray/anaconda3/lib/python3.10/site-packages/ray/data/_internal/arrow_block.py:148: FutureWarning: promote has been superseded by mode='default'.\u001b[32m [repeated 5x across cluster]\u001b[0m\n",
      "\u001b[36m(MapWorker(MapBatches(process_data)->MapBatches(UpserterConcurrent)) pid=45188, ip=10.0.0.17)\u001b[0m   return transform_pyarrow.concat(tables)\u001b[32m [repeated 5x across cluster]\u001b[0m\n"
     ]
    },
    {
     "name": "stdout",
     "output_type": "stream",
     "text": [
      "\u001b[36m(autoscaler +2m14s)\u001b[0m [autoscaler] Cluster upscaled to {192 CPU, 0 GPU}.\n"
     ]
    },
    {
     "name": "stderr",
     "output_type": "stream",
     "text": [
      "\u001b[36m(MapWorker(MapBatches(process_data)->MapBatches(UpserterConcurrent)) pid=45188, ip=10.0.0.17)\u001b[0m /home/ray/anaconda3/lib/python3.10/site-packages/ray/data/_internal/arrow_block.py:148: FutureWarning: promote has been superseded by mode='default'.\u001b[32m [repeated 5x across cluster]\u001b[0m\n",
      "\u001b[36m(MapWorker(MapBatches(process_data)->MapBatches(UpserterConcurrent)) pid=45188, ip=10.0.0.17)\u001b[0m   return transform_pyarrow.concat(tables)\u001b[32m [repeated 5x across cluster]\u001b[0m\n",
      "\u001b[36m(MapWorker(MapBatches(process_data)->MapBatches(UpserterConcurrent)) pid=45188, ip=10.0.0.17)\u001b[0m /home/ray/anaconda3/lib/python3.10/site-packages/ray/data/_internal/arrow_block.py:148: FutureWarning: promote has been superseded by mode='default'.\u001b[32m [repeated 7x across cluster]\u001b[0m\n",
      "\u001b[36m(MapWorker(MapBatches(process_data)->MapBatches(UpserterConcurrent)) pid=45188, ip=10.0.0.17)\u001b[0m   return transform_pyarrow.concat(tables)\u001b[32m [repeated 7x across cluster]\u001b[0m\n"
     ]
    },
    {
     "name": "stdout",
     "output_type": "stream",
     "text": [
      "\u001b[36m(autoscaler +2m26s)\u001b[0m [autoscaler] [worker-node-type-0] Upscaling 2 node(s) to satisfy cluster resource constraints.\n"
     ]
    },
    {
     "name": "stderr",
     "output_type": "stream",
     "text": [
      "\u001b[36m(MapWorker(MapBatches(process_data)->MapBatches(UpserterConcurrent)) pid=45188, ip=10.0.0.17)\u001b[0m /home/ray/anaconda3/lib/python3.10/site-packages/ray/data/_internal/arrow_block.py:148: FutureWarning: promote has been superseded by mode='default'.\u001b[32m [repeated 6x across cluster]\u001b[0m\n",
      "\u001b[36m(MapWorker(MapBatches(process_data)->MapBatches(UpserterConcurrent)) pid=45188, ip=10.0.0.17)\u001b[0m   return transform_pyarrow.concat(tables)\u001b[32m [repeated 6x across cluster]\u001b[0m\n",
      "\u001b[36m(MapWorker(MapBatches(process_data)->MapBatches(UpserterConcurrent)) pid=45188, ip=10.0.0.17)\u001b[0m /home/ray/anaconda3/lib/python3.10/site-packages/ray/data/_internal/arrow_block.py:148: FutureWarning: promote has been superseded by mode='default'.\u001b[32m [repeated 7x across cluster]\u001b[0m\n",
      "\u001b[36m(MapWorker(MapBatches(process_data)->MapBatches(UpserterConcurrent)) pid=45188, ip=10.0.0.17)\u001b[0m   return transform_pyarrow.concat(tables)\u001b[32m [repeated 7x across cluster]\u001b[0m\n",
      "\u001b[36m(MapWorker(MapBatches(process_data)->MapBatches(UpserterConcurrent)) pid=45188, ip=10.0.0.17)\u001b[0m /home/ray/anaconda3/lib/python3.10/site-packages/ray/data/_internal/arrow_block.py:148: FutureWarning: promote has been superseded by mode='default'.\u001b[32m [repeated 5x across cluster]\u001b[0m\n",
      "\u001b[36m(MapWorker(MapBatches(process_data)->MapBatches(UpserterConcurrent)) pid=45188, ip=10.0.0.17)\u001b[0m   return transform_pyarrow.concat(tables)\u001b[32m [repeated 5x across cluster]\u001b[0m\n",
      "\u001b[36m(MapWorker(MapBatches(process_data)->MapBatches(UpserterConcurrent)) pid=15918, ip=10.0.0.63)\u001b[0m /home/ray/anaconda3/lib/python3.10/site-packages/ray/data/_internal/arrow_block.py:148: FutureWarning: promote has been superseded by mode='default'.\u001b[32m [repeated 4x across cluster]\u001b[0m\n",
      "\u001b[36m(MapWorker(MapBatches(process_data)->MapBatches(UpserterConcurrent)) pid=15918, ip=10.0.0.63)\u001b[0m   return transform_pyarrow.concat(tables)\u001b[32m [repeated 4x across cluster]\u001b[0m\n",
      "\u001b[36m(MapWorker(MapBatches(process_data)->MapBatches(UpserterConcurrent)) pid=44830, ip=10.0.0.17)\u001b[0m /home/ray/anaconda3/lib/python3.10/site-packages/ray/data/_internal/arrow_block.py:148: FutureWarning: promote has been superseded by mode='default'.\u001b[32m [repeated 3x across cluster]\u001b[0m\n",
      "\u001b[36m(MapWorker(MapBatches(process_data)->MapBatches(UpserterConcurrent)) pid=44830, ip=10.0.0.17)\u001b[0m   return transform_pyarrow.concat(tables)\u001b[32m [repeated 3x across cluster]\u001b[0m\n",
      "\u001b[36m(MapWorker(MapBatches(process_data)->MapBatches(UpserterConcurrent)) pid=46641, ip=10.0.0.57)\u001b[0m /home/ray/anaconda3/lib/python3.10/site-packages/ray/data/_internal/arrow_block.py:148: FutureWarning: promote has been superseded by mode='default'.\u001b[32m [repeated 4x across cluster]\u001b[0m\n",
      "\u001b[36m(MapWorker(MapBatches(process_data)->MapBatches(UpserterConcurrent)) pid=46641, ip=10.0.0.57)\u001b[0m   return transform_pyarrow.concat(tables)\u001b[32m [repeated 4x across cluster]\u001b[0m\n",
      "\u001b[36m(MapWorker(MapBatches(process_data)->MapBatches(UpserterConcurrent)) pid=46641, ip=10.0.0.57)\u001b[0m /home/ray/anaconda3/lib/python3.10/site-packages/ray/data/_internal/arrow_block.py:148: FutureWarning: promote has been superseded by mode='default'.\u001b[32m [repeated 5x across cluster]\u001b[0m\n",
      "\u001b[36m(MapWorker(MapBatches(process_data)->MapBatches(UpserterConcurrent)) pid=46641, ip=10.0.0.57)\u001b[0m   return transform_pyarrow.concat(tables)\u001b[32m [repeated 5x across cluster]\u001b[0m\n"
     ]
    },
    {
     "name": "stdout",
     "output_type": "stream",
     "text": [
      "\u001b[36m(autoscaler +3m10s)\u001b[0m [autoscaler] [worker-node-type-0|n2-standard-32] [us-west1-b] [on-demand] Launched 2 instances.\n"
     ]
    },
    {
     "name": "stderr",
     "output_type": "stream",
     "text": [
      "\u001b[36m(MapWorker(MapBatches(process_data)->MapBatches(UpserterConcurrent)) pid=46641, ip=10.0.0.57)\u001b[0m /home/ray/anaconda3/lib/python3.10/site-packages/ray/data/_internal/arrow_block.py:148: FutureWarning: promote has been superseded by mode='default'.\u001b[32m [repeated 5x across cluster]\u001b[0m\n",
      "\u001b[36m(MapWorker(MapBatches(process_data)->MapBatches(UpserterConcurrent)) pid=46641, ip=10.0.0.57)\u001b[0m   return transform_pyarrow.concat(tables)\u001b[32m [repeated 5x across cluster]\u001b[0m\n",
      "\u001b[36m(MapWorker(MapBatches(process_data)->MapBatches(UpserterConcurrent)) pid=46641, ip=10.0.0.57)\u001b[0m /home/ray/anaconda3/lib/python3.10/site-packages/ray/data/_internal/arrow_block.py:148: FutureWarning: promote has been superseded by mode='default'.\u001b[32m [repeated 5x across cluster]\u001b[0m\n",
      "\u001b[36m(MapWorker(MapBatches(process_data)->MapBatches(UpserterConcurrent)) pid=46641, ip=10.0.0.57)\u001b[0m   return transform_pyarrow.concat(tables)\u001b[32m [repeated 5x across cluster]\u001b[0m\n",
      "\u001b[36m(MapWorker(MapBatches(process_data)->MapBatches(UpserterConcurrent)) pid=46641, ip=10.0.0.57)\u001b[0m /home/ray/anaconda3/lib/python3.10/site-packages/ray/data/_internal/arrow_block.py:148: FutureWarning: promote has been superseded by mode='default'.\u001b[32m [repeated 5x across cluster]\u001b[0m\n",
      "\u001b[36m(MapWorker(MapBatches(process_data)->MapBatches(UpserterConcurrent)) pid=46641, ip=10.0.0.57)\u001b[0m   return transform_pyarrow.concat(tables)\u001b[32m [repeated 5x across cluster]\u001b[0m\n",
      "\u001b[36m(MapWorker(MapBatches(process_data)->MapBatches(UpserterConcurrent)) pid=46641, ip=10.0.0.57)\u001b[0m /home/ray/anaconda3/lib/python3.10/site-packages/ray/data/_internal/arrow_block.py:148: FutureWarning: promote has been superseded by mode='default'.\u001b[32m [repeated 5x across cluster]\u001b[0m\n",
      "\u001b[36m(MapWorker(MapBatches(process_data)->MapBatches(UpserterConcurrent)) pid=46641, ip=10.0.0.57)\u001b[0m   return transform_pyarrow.concat(tables)\u001b[32m [repeated 5x across cluster]\u001b[0m\n",
      "\u001b[36m(MapWorker(MapBatches(process_data)->MapBatches(UpserterConcurrent)) pid=46641, ip=10.0.0.57)\u001b[0m /home/ray/anaconda3/lib/python3.10/site-packages/ray/data/_internal/arrow_block.py:148: FutureWarning: promote has been superseded by mode='default'.\u001b[32m [repeated 5x across cluster]\u001b[0m\n",
      "\u001b[36m(MapWorker(MapBatches(process_data)->MapBatches(UpserterConcurrent)) pid=46641, ip=10.0.0.57)\u001b[0m   return transform_pyarrow.concat(tables)\u001b[32m [repeated 5x across cluster]\u001b[0m\n"
     ]
    },
    {
     "name": "stdout",
     "output_type": "stream",
     "text": [
      "\u001b[36m(autoscaler +3m48s)\u001b[0m [autoscaler] Cluster upscaled to {224 CPU, 0 GPU}.\n",
      "\u001b[36m(autoscaler +3m48s)\u001b[0m [autoscaler] [worker-node-type-0] Upscaling 1 node(s) to satisfy cluster resource constraints.\n"
     ]
    },
    {
     "name": "stderr",
     "output_type": "stream",
     "text": [
      "\u001b[36m(MapWorker(MapBatches(process_data)->MapBatches(UpserterConcurrent)) pid=44830, ip=10.0.0.17)\u001b[0m /home/ray/anaconda3/lib/python3.10/site-packages/ray/data/_internal/arrow_block.py:148: FutureWarning: promote has been superseded by mode='default'.\u001b[32m [repeated 5x across cluster]\u001b[0m\n",
      "\u001b[36m(MapWorker(MapBatches(process_data)->MapBatches(UpserterConcurrent)) pid=44830, ip=10.0.0.17)\u001b[0m   return transform_pyarrow.concat(tables)\u001b[32m [repeated 5x across cluster]\u001b[0m\n"
     ]
    },
    {
     "name": "stdout",
     "output_type": "stream",
     "text": [
      "\u001b[36m(autoscaler +3m54s)\u001b[0m [autoscaler] Cluster upscaled to {256 CPU, 0 GPU}.\n"
     ]
    },
    {
     "name": "stderr",
     "output_type": "stream",
     "text": [
      "\u001b[36m(ReadParquet->SplitBlocks(2) pid=1364, ip=10.0.0.4)\u001b[0m /home/ray/anaconda3/lib/python3.10/site-packages/ray/data/_internal/arrow_block.py:148: FutureWarning: promote has been superseded by mode='default'.\u001b[32m [repeated 7x across cluster]\u001b[0m\n",
      "\u001b[36m(ReadParquet->SplitBlocks(2) pid=1364, ip=10.0.0.4)\u001b[0m   return transform_pyarrow.concat(tables)\u001b[32m [repeated 7x across cluster]\u001b[0m\n",
      "\u001b[36m(ReadParquet->SplitBlocks(2) pid=712, ip=10.0.0.5)\u001b[0m /home/ray/anaconda3/lib/python3.10/site-packages/ray/data/_internal/arrow_block.py:148: FutureWarning: promote has been superseded by mode='default'.\u001b[32m [repeated 7x across cluster]\u001b[0m\n",
      "\u001b[36m(ReadParquet->SplitBlocks(2) pid=712, ip=10.0.0.5)\u001b[0m   return transform_pyarrow.concat(tables)\u001b[32m [repeated 7x across cluster]\u001b[0m\n"
     ]
    },
    {
     "name": "stdout",
     "output_type": "stream",
     "text": [
      "\u001b[36m(autoscaler +4m5s)\u001b[0m [autoscaler] [worker-node-type-0|n2-standard-32] [us-west1-b] [on-demand] Launched 1 instances.\n",
      "\u001b[36m(autoscaler +4m7s)\u001b[0m [autoscaler] [worker-node-type-0] Upscaling 1 node(s) to satisfy cluster resource constraints.\n"
     ]
    },
    {
     "name": "stderr",
     "output_type": "stream",
     "text": [
      "\u001b[36m(MapWorker(MapBatches(process_data)->MapBatches(UpserterConcurrent)) pid=44830, ip=10.0.0.17)\u001b[0m /home/ray/anaconda3/lib/python3.10/site-packages/ray/data/_internal/arrow_block.py:148: FutureWarning: promote has been superseded by mode='default'.\u001b[32m [repeated 7x across cluster]\u001b[0m\n",
      "\u001b[36m(MapWorker(MapBatches(process_data)->MapBatches(UpserterConcurrent)) pid=44830, ip=10.0.0.17)\u001b[0m   return transform_pyarrow.concat(tables)\u001b[32m [repeated 7x across cluster]\u001b[0m\n",
      "\u001b[36m(MapWorker(MapBatches(process_data)->MapBatches(UpserterConcurrent)) pid=44830, ip=10.0.0.17)\u001b[0m /home/ray/anaconda3/lib/python3.10/site-packages/ray/data/_internal/arrow_block.py:148: FutureWarning: promote has been superseded by mode='default'.\u001b[32m [repeated 5x across cluster]\u001b[0m\n",
      "\u001b[36m(MapWorker(MapBatches(process_data)->MapBatches(UpserterConcurrent)) pid=44830, ip=10.0.0.17)\u001b[0m   return transform_pyarrow.concat(tables)\u001b[32m [repeated 5x across cluster]\u001b[0m\n"
     ]
    },
    {
     "name": "stdout",
     "output_type": "stream",
     "text": [
      "\u001b[36m(autoscaler +4m18s)\u001b[0m [autoscaler] [worker-node-type-0|n2-standard-32] [us-west1-b] [on-demand] Launched 1 instances.\n"
     ]
    },
    {
     "name": "stderr",
     "output_type": "stream",
     "text": [
      "\u001b[36m(MapWorker(MapBatches(process_data)->MapBatches(UpserterConcurrent)) pid=44830, ip=10.0.0.17)\u001b[0m /home/ray/anaconda3/lib/python3.10/site-packages/ray/data/_internal/arrow_block.py:148: FutureWarning: promote has been superseded by mode='default'.\u001b[32m [repeated 5x across cluster]\u001b[0m\n",
      "\u001b[36m(MapWorker(MapBatches(process_data)->MapBatches(UpserterConcurrent)) pid=44830, ip=10.0.0.17)\u001b[0m   return transform_pyarrow.concat(tables)\u001b[32m [repeated 5x across cluster]\u001b[0m\n",
      "\u001b[36m(MapWorker(MapBatches(process_data)->MapBatches(UpserterConcurrent)) pid=44830, ip=10.0.0.17)\u001b[0m /home/ray/anaconda3/lib/python3.10/site-packages/ray/data/_internal/arrow_block.py:148: FutureWarning: promote has been superseded by mode='default'.\u001b[32m [repeated 5x across cluster]\u001b[0m\n",
      "\u001b[36m(MapWorker(MapBatches(process_data)->MapBatches(UpserterConcurrent)) pid=44830, ip=10.0.0.17)\u001b[0m   return transform_pyarrow.concat(tables)\u001b[32m [repeated 5x across cluster]\u001b[0m\n",
      "\u001b[36m(MapWorker(MapBatches(process_data)->MapBatches(UpserterConcurrent)) pid=44830, ip=10.0.0.17)\u001b[0m /home/ray/anaconda3/lib/python3.10/site-packages/ray/data/_internal/arrow_block.py:148: FutureWarning: promote has been superseded by mode='default'.\u001b[32m [repeated 5x across cluster]\u001b[0m\n",
      "\u001b[36m(MapWorker(MapBatches(process_data)->MapBatches(UpserterConcurrent)) pid=44830, ip=10.0.0.17)\u001b[0m   return transform_pyarrow.concat(tables)\u001b[32m [repeated 5x across cluster]\u001b[0m\n",
      "\u001b[36m(MapWorker(MapBatches(process_data)->MapBatches(UpserterConcurrent)) pid=44830, ip=10.0.0.17)\u001b[0m /home/ray/anaconda3/lib/python3.10/site-packages/ray/data/_internal/arrow_block.py:148: FutureWarning: promote has been superseded by mode='default'.\u001b[32m [repeated 5x across cluster]\u001b[0m\n",
      "\u001b[36m(MapWorker(MapBatches(process_data)->MapBatches(UpserterConcurrent)) pid=44830, ip=10.0.0.17)\u001b[0m   return transform_pyarrow.concat(tables)\u001b[32m [repeated 5x across cluster]\u001b[0m\n"
     ]
    },
    {
     "name": "stdout",
     "output_type": "stream",
     "text": [
      "\u001b[36m(autoscaler +4m49s)\u001b[0m [autoscaler] Cluster upscaled to {288 CPU, 0 GPU}.\n",
      "\u001b[36m(autoscaler +4m50s)\u001b[0m [autoscaler] [worker-node-type-0] Upscaling 1 node(s) to satisfy cluster resource constraints.\n"
     ]
    },
    {
     "name": "stderr",
     "output_type": "stream",
     "text": [
      "\u001b[36m(MapWorker(MapBatches(process_data)->MapBatches(UpserterConcurrent)) pid=44830, ip=10.0.0.17)\u001b[0m /home/ray/anaconda3/lib/python3.10/site-packages/ray/data/_internal/arrow_block.py:148: FutureWarning: promote has been superseded by mode='default'.\u001b[32m [repeated 5x across cluster]\u001b[0m\n",
      "\u001b[36m(MapWorker(MapBatches(process_data)->MapBatches(UpserterConcurrent)) pid=44830, ip=10.0.0.17)\u001b[0m   return transform_pyarrow.concat(tables)\u001b[32m [repeated 5x across cluster]\u001b[0m\n",
      "\u001b[36m(MapWorker(MapBatches(process_data)->MapBatches(UpserterConcurrent)) pid=44830, ip=10.0.0.17)\u001b[0m /home/ray/anaconda3/lib/python3.10/site-packages/ray/data/_internal/arrow_block.py:148: FutureWarning: promote has been superseded by mode='default'.\u001b[32m [repeated 6x across cluster]\u001b[0m\n",
      "\u001b[36m(MapWorker(MapBatches(process_data)->MapBatches(UpserterConcurrent)) pid=44830, ip=10.0.0.17)\u001b[0m   return transform_pyarrow.concat(tables)\u001b[32m [repeated 6x across cluster]\u001b[0m\n"
     ]
    },
    {
     "name": "stdout",
     "output_type": "stream",
     "text": [
      "\u001b[36m(autoscaler +5m3s)\u001b[0m [autoscaler] [worker-node-type-0|n2-standard-32] [us-west1-b] [on-demand] Launched 1 instances.\n"
     ]
    },
    {
     "name": "stderr",
     "output_type": "stream",
     "text": [
      "\u001b[36m(MapWorker(MapBatches(process_data)->MapBatches(UpserterConcurrent)) pid=44830, ip=10.0.0.17)\u001b[0m /home/ray/anaconda3/lib/python3.10/site-packages/ray/data/_internal/arrow_block.py:148: FutureWarning: promote has been superseded by mode='default'.\u001b[32m [repeated 6x across cluster]\u001b[0m\n",
      "\u001b[36m(MapWorker(MapBatches(process_data)->MapBatches(UpserterConcurrent)) pid=44830, ip=10.0.0.17)\u001b[0m   return transform_pyarrow.concat(tables)\u001b[32m [repeated 6x across cluster]\u001b[0m\n"
     ]
    },
    {
     "name": "stdout",
     "output_type": "stream",
     "text": [
      "\u001b[36m(autoscaler +5m7s)\u001b[0m [autoscaler] Cluster upscaled to {320 CPU, 0 GPU}.\n",
      "\u001b[36m(autoscaler +5m8s)\u001b[0m [autoscaler] [worker-node-type-0] Upscaling 1 node(s) to satisfy cluster resource constraints.\n"
     ]
    },
    {
     "name": "stderr",
     "output_type": "stream",
     "text": [
      "\u001b[36m(ReadParquet->SplitBlocks(2) pid=472, ip=10.0.0.49)\u001b[0m /home/ray/anaconda3/lib/python3.10/site-packages/ray/data/_internal/arrow_block.py:148: FutureWarning: promote has been superseded by mode='default'.\u001b[32m [repeated 6x across cluster]\u001b[0m\n",
      "\u001b[36m(ReadParquet->SplitBlocks(2) pid=472, ip=10.0.0.49)\u001b[0m   return transform_pyarrow.concat(tables)\u001b[32m [repeated 6x across cluster]\u001b[0m\n",
      "\u001b[36m(ReadParquet->SplitBlocks(2) pid=583, ip=10.0.0.49)\u001b[0m /home/ray/anaconda3/lib/python3.10/site-packages/ray/data/_internal/arrow_block.py:148: FutureWarning: promote has been superseded by mode='default'.\u001b[32m [repeated 6x across cluster]\u001b[0m\n",
      "\u001b[36m(ReadParquet->SplitBlocks(2) pid=583, ip=10.0.0.49)\u001b[0m   return transform_pyarrow.concat(tables)\u001b[32m [repeated 6x across cluster]\u001b[0m\n",
      "\u001b[36m(MapWorker(MapBatches(process_data)->MapBatches(UpserterConcurrent)) pid=15918, ip=10.0.0.63)\u001b[0m /home/ray/anaconda3/lib/python3.10/site-packages/ray/data/_internal/arrow_block.py:148: FutureWarning: promote has been superseded by mode='default'.\u001b[32m [repeated 6x across cluster]\u001b[0m\n",
      "\u001b[36m(MapWorker(MapBatches(process_data)->MapBatches(UpserterConcurrent)) pid=15918, ip=10.0.0.63)\u001b[0m   return transform_pyarrow.concat(tables)\u001b[32m [repeated 6x across cluster]\u001b[0m\n"
     ]
    },
    {
     "name": "stdout",
     "output_type": "stream",
     "text": [
      "\u001b[36m(autoscaler +5m26s)\u001b[0m [autoscaler] [worker-node-type-0|n2-standard-32] [us-west1-b] [on-demand] Launched 1 instances.\n"
     ]
    },
    {
     "name": "stderr",
     "output_type": "stream",
     "text": [
      "\u001b[36m(MapWorker(MapBatches(process_data)->MapBatches(UpserterConcurrent)) pid=15918, ip=10.0.0.63)\u001b[0m /home/ray/anaconda3/lib/python3.10/site-packages/ray/data/_internal/arrow_block.py:148: FutureWarning: promote has been superseded by mode='default'.\u001b[32m [repeated 5x across cluster]\u001b[0m\n",
      "\u001b[36m(MapWorker(MapBatches(process_data)->MapBatches(UpserterConcurrent)) pid=15918, ip=10.0.0.63)\u001b[0m   return transform_pyarrow.concat(tables)\u001b[32m [repeated 5x across cluster]\u001b[0m\n",
      "\u001b[36m(MapWorker(MapBatches(process_data)->MapBatches(UpserterConcurrent)) pid=15918, ip=10.0.0.63)\u001b[0m /home/ray/anaconda3/lib/python3.10/site-packages/ray/data/_internal/arrow_block.py:148: FutureWarning: promote has been superseded by mode='default'.\u001b[32m [repeated 5x across cluster]\u001b[0m\n",
      "\u001b[36m(MapWorker(MapBatches(process_data)->MapBatches(UpserterConcurrent)) pid=15918, ip=10.0.0.63)\u001b[0m   return transform_pyarrow.concat(tables)\u001b[32m [repeated 5x across cluster]\u001b[0m\n",
      "\u001b[36m(MapWorker(MapBatches(process_data)->MapBatches(UpserterConcurrent)) pid=15918, ip=10.0.0.63)\u001b[0m /home/ray/anaconda3/lib/python3.10/site-packages/ray/data/_internal/arrow_block.py:148: FutureWarning: promote has been superseded by mode='default'.\u001b[32m [repeated 5x across cluster]\u001b[0m\n",
      "\u001b[36m(MapWorker(MapBatches(process_data)->MapBatches(UpserterConcurrent)) pid=15918, ip=10.0.0.63)\u001b[0m   return transform_pyarrow.concat(tables)\u001b[32m [repeated 5x across cluster]\u001b[0m\n"
     ]
    },
    {
     "name": "stdout",
     "output_type": "stream",
     "text": [
      "\u001b[36m(autoscaler +5m49s)\u001b[0m [autoscaler] Cluster upscaled to {352 CPU, 0 GPU}.\n"
     ]
    },
    {
     "name": "stderr",
     "output_type": "stream",
     "text": [
      "\u001b[36m(MapWorker(MapBatches(process_data)->MapBatches(UpserterConcurrent)) pid=15918, ip=10.0.0.63)\u001b[0m /home/ray/anaconda3/lib/python3.10/site-packages/ray/data/_internal/arrow_block.py:148: FutureWarning: promote has been superseded by mode='default'.\u001b[32m [repeated 5x across cluster]\u001b[0m\n",
      "\u001b[36m(MapWorker(MapBatches(process_data)->MapBatches(UpserterConcurrent)) pid=15918, ip=10.0.0.63)\u001b[0m   return transform_pyarrow.concat(tables)\u001b[32m [repeated 5x across cluster]\u001b[0m\n",
      "\u001b[36m(MapWorker(MapBatches(process_data)->MapBatches(UpserterConcurrent)) pid=15918, ip=10.0.0.63)\u001b[0m /home/ray/anaconda3/lib/python3.10/site-packages/ray/data/_internal/arrow_block.py:148: FutureWarning: promote has been superseded by mode='default'.\u001b[32m [repeated 6x across cluster]\u001b[0m\n",
      "\u001b[36m(MapWorker(MapBatches(process_data)->MapBatches(UpserterConcurrent)) pid=15918, ip=10.0.0.63)\u001b[0m   return transform_pyarrow.concat(tables)\u001b[32m [repeated 6x across cluster]\u001b[0m\n",
      "\u001b[36m(MapWorker(MapBatches(process_data)->MapBatches(UpserterConcurrent)) pid=15918, ip=10.0.0.63)\u001b[0m /home/ray/anaconda3/lib/python3.10/site-packages/ray/data/_internal/arrow_block.py:148: FutureWarning: promote has been superseded by mode='default'.\u001b[32m [repeated 5x across cluster]\u001b[0m\n",
      "\u001b[36m(MapWorker(MapBatches(process_data)->MapBatches(UpserterConcurrent)) pid=15918, ip=10.0.0.63)\u001b[0m   return transform_pyarrow.concat(tables)\u001b[32m [repeated 5x across cluster]\u001b[0m\n"
     ]
    },
    {
     "name": "stdout",
     "output_type": "stream",
     "text": [
      "\u001b[36m(autoscaler +6m7s)\u001b[0m [autoscaler] [worker-node-type-0] Upscaling 2 node(s) to satisfy cluster resource constraints.\n"
     ]
    },
    {
     "name": "stderr",
     "output_type": "stream",
     "text": [
      "\u001b[36m(MapWorker(MapBatches(process_data)->MapBatches(UpserterConcurrent)) pid=15918, ip=10.0.0.63)\u001b[0m /home/ray/anaconda3/lib/python3.10/site-packages/ray/data/_internal/arrow_block.py:148: FutureWarning: promote has been superseded by mode='default'.\u001b[32m [repeated 5x across cluster]\u001b[0m\n",
      "\u001b[36m(MapWorker(MapBatches(process_data)->MapBatches(UpserterConcurrent)) pid=15918, ip=10.0.0.63)\u001b[0m   return transform_pyarrow.concat(tables)\u001b[32m [repeated 5x across cluster]\u001b[0m\n"
     ]
    },
    {
     "name": "stdout",
     "output_type": "stream",
     "text": [
      "\u001b[36m(autoscaler +6m13s)\u001b[0m [autoscaler] Cluster upscaled to {384 CPU, 0 GPU}.\n"
     ]
    },
    {
     "name": "stderr",
     "output_type": "stream",
     "text": [
      "\u001b[36m(MapWorker(MapBatches(process_data)->MapBatches(UpserterConcurrent)) pid=15918, ip=10.0.0.63)\u001b[0m /home/ray/anaconda3/lib/python3.10/site-packages/ray/data/_internal/arrow_block.py:148: FutureWarning: promote has been superseded by mode='default'.\u001b[32m [repeated 6x across cluster]\u001b[0m\n",
      "\u001b[36m(MapWorker(MapBatches(process_data)->MapBatches(UpserterConcurrent)) pid=15918, ip=10.0.0.63)\u001b[0m   return transform_pyarrow.concat(tables)\u001b[32m [repeated 6x across cluster]\u001b[0m\n",
      "\u001b[36m(MapWorker(MapBatches(process_data)->MapBatches(UpserterConcurrent)) pid=15918, ip=10.0.0.63)\u001b[0m /home/ray/anaconda3/lib/python3.10/site-packages/ray/data/_internal/arrow_block.py:148: FutureWarning: promote has been superseded by mode='default'.\u001b[32m [repeated 5x across cluster]\u001b[0m\n",
      "\u001b[36m(MapWorker(MapBatches(process_data)->MapBatches(UpserterConcurrent)) pid=15918, ip=10.0.0.63)\u001b[0m   return transform_pyarrow.concat(tables)\u001b[32m [repeated 5x across cluster]\u001b[0m\n"
     ]
    },
    {
     "name": "stdout",
     "output_type": "stream",
     "text": [
      "\u001b[36m(autoscaler +6m26s)\u001b[0m [autoscaler] [worker-node-type-0|n2-standard-32] [us-west1-b] [on-demand] Launched 2 instances.\n",
      "\u001b[36m(autoscaler +6m26s)\u001b[0m [autoscaler] [worker-node-type-0] Upscaling 1 node(s) to satisfy cluster resource constraints.\n"
     ]
    },
    {
     "name": "stderr",
     "output_type": "stream",
     "text": [
      "\u001b[36m(MapWorker(MapBatches(process_data)->MapBatches(UpserterConcurrent)) pid=15918, ip=10.0.0.63)\u001b[0m /home/ray/anaconda3/lib/python3.10/site-packages/ray/data/_internal/arrow_block.py:148: FutureWarning: promote has been superseded by mode='default'.\u001b[32m [repeated 5x across cluster]\u001b[0m\n",
      "\u001b[36m(MapWorker(MapBatches(process_data)->MapBatches(UpserterConcurrent)) pid=15918, ip=10.0.0.63)\u001b[0m   return transform_pyarrow.concat(tables)\u001b[32m [repeated 5x across cluster]\u001b[0m\n",
      "\u001b[36m(MapWorker(MapBatches(process_data)->MapBatches(UpserterConcurrent)) pid=15918, ip=10.0.0.63)\u001b[0m /home/ray/anaconda3/lib/python3.10/site-packages/ray/data/_internal/arrow_block.py:148: FutureWarning: promote has been superseded by mode='default'.\u001b[32m [repeated 5x across cluster]\u001b[0m\n",
      "\u001b[36m(MapWorker(MapBatches(process_data)->MapBatches(UpserterConcurrent)) pid=15918, ip=10.0.0.63)\u001b[0m   return transform_pyarrow.concat(tables)\u001b[32m [repeated 5x across cluster]\u001b[0m\n",
      "\u001b[36m(MapWorker(MapBatches(process_data)->MapBatches(UpserterConcurrent)) pid=45188, ip=10.0.0.17)\u001b[0m /home/ray/anaconda3/lib/python3.10/site-packages/ray/data/_internal/arrow_block.py:148: FutureWarning: promote has been superseded by mode='default'.\u001b[32m [repeated 5x across cluster]\u001b[0m\n",
      "\u001b[36m(MapWorker(MapBatches(process_data)->MapBatches(UpserterConcurrent)) pid=45188, ip=10.0.0.17)\u001b[0m   return transform_pyarrow.concat(tables)\u001b[32m [repeated 5x across cluster]\u001b[0m\n",
      "\u001b[36m(MapWorker(MapBatches(process_data)->MapBatches(UpserterConcurrent)) pid=46641, ip=10.0.0.57)\u001b[0m /home/ray/anaconda3/lib/python3.10/site-packages/ray/data/_internal/arrow_block.py:148: FutureWarning: promote has been superseded by mode='default'.\u001b[32m [repeated 5x across cluster]\u001b[0m\n",
      "\u001b[36m(MapWorker(MapBatches(process_data)->MapBatches(UpserterConcurrent)) pid=46641, ip=10.0.0.57)\u001b[0m   return transform_pyarrow.concat(tables)\u001b[32m [repeated 5x across cluster]\u001b[0m\n",
      "\u001b[36m(MapWorker(MapBatches(process_data)->MapBatches(UpserterConcurrent)) pid=45188, ip=10.0.0.17)\u001b[0m /home/ray/anaconda3/lib/python3.10/site-packages/ray/data/_internal/arrow_block.py:148: FutureWarning: promote has been superseded by mode='default'.\u001b[32m [repeated 5x across cluster]\u001b[0m\n",
      "\u001b[36m(MapWorker(MapBatches(process_data)->MapBatches(UpserterConcurrent)) pid=45188, ip=10.0.0.17)\u001b[0m   return transform_pyarrow.concat(tables)\u001b[32m [repeated 5x across cluster]\u001b[0m\n"
     ]
    },
    {
     "name": "stdout",
     "output_type": "stream",
     "text": [
      "\u001b[36m(autoscaler +7m0s)\u001b[0m [autoscaler] [worker-node-type-0|n2-standard-32] [us-west1-b] [on-demand] Launched 1 instances.\n"
     ]
    },
    {
     "name": "stderr",
     "output_type": "stream",
     "text": [
      "\u001b[36m(MapWorker(MapBatches(process_data)->MapBatches(UpserterConcurrent)) pid=45188, ip=10.0.0.17)\u001b[0m /home/ray/anaconda3/lib/python3.10/site-packages/ray/data/_internal/arrow_block.py:148: FutureWarning: promote has been superseded by mode='default'.\u001b[32m [repeated 5x across cluster]\u001b[0m\n",
      "\u001b[36m(MapWorker(MapBatches(process_data)->MapBatches(UpserterConcurrent)) pid=45188, ip=10.0.0.17)\u001b[0m   return transform_pyarrow.concat(tables)\u001b[32m [repeated 5x across cluster]\u001b[0m\n"
     ]
    },
    {
     "name": "stdout",
     "output_type": "stream",
     "text": [
      "\u001b[36m(autoscaler +7m8s)\u001b[0m [autoscaler] Cluster upscaled to {416 CPU, 0 GPU}.\n"
     ]
    },
    {
     "name": "stderr",
     "output_type": "stream",
     "text": [
      "\u001b[36m(MapWorker(MapBatches(process_data)->MapBatches(UpserterConcurrent)) pid=46641, ip=10.0.0.57)\u001b[0m /home/ray/anaconda3/lib/python3.10/site-packages/ray/data/_internal/arrow_block.py:148: FutureWarning: promote has been superseded by mode='default'.\u001b[32m [repeated 5x across cluster]\u001b[0m\n",
      "\u001b[36m(MapWorker(MapBatches(process_data)->MapBatches(UpserterConcurrent)) pid=46641, ip=10.0.0.57)\u001b[0m   return transform_pyarrow.concat(tables)\u001b[32m [repeated 5x across cluster]\u001b[0m\n"
     ]
    },
    {
     "name": "stdout",
     "output_type": "stream",
     "text": [
      "\u001b[36m(autoscaler +7m14s)\u001b[0m [autoscaler] Cluster upscaled to {448 CPU, 0 GPU}.\n"
     ]
    },
    {
     "name": "stderr",
     "output_type": "stream",
     "text": [
      "\u001b[36m(MapWorker(MapBatches(process_data)->MapBatches(UpserterConcurrent)) pid=45188, ip=10.0.0.17)\u001b[0m /home/ray/anaconda3/lib/python3.10/site-packages/ray/data/_internal/arrow_block.py:148: FutureWarning: promote has been superseded by mode='default'.\u001b[32m [repeated 5x across cluster]\u001b[0m\n",
      "\u001b[36m(MapWorker(MapBatches(process_data)->MapBatches(UpserterConcurrent)) pid=45188, ip=10.0.0.17)\u001b[0m   return transform_pyarrow.concat(tables)\u001b[32m [repeated 5x across cluster]\u001b[0m\n",
      "\u001b[36m(MapWorker(MapBatches(process_data)->MapBatches(UpserterConcurrent)) pid=45188, ip=10.0.0.17)\u001b[0m /home/ray/anaconda3/lib/python3.10/site-packages/ray/data/_internal/arrow_block.py:148: FutureWarning: promote has been superseded by mode='default'.\u001b[32m [repeated 5x across cluster]\u001b[0m\n",
      "\u001b[36m(MapWorker(MapBatches(process_data)->MapBatches(UpserterConcurrent)) pid=45188, ip=10.0.0.17)\u001b[0m   return transform_pyarrow.concat(tables)\u001b[32m [repeated 5x across cluster]\u001b[0m\n",
      "\u001b[36m(MapWorker(MapBatches(process_data)->MapBatches(UpserterConcurrent)) pid=45188, ip=10.0.0.17)\u001b[0m /home/ray/anaconda3/lib/python3.10/site-packages/ray/data/_internal/arrow_block.py:148: FutureWarning: promote has been superseded by mode='default'.\u001b[32m [repeated 5x across cluster]\u001b[0m\n",
      "\u001b[36m(MapWorker(MapBatches(process_data)->MapBatches(UpserterConcurrent)) pid=45188, ip=10.0.0.17)\u001b[0m   return transform_pyarrow.concat(tables)\u001b[32m [repeated 5x across cluster]\u001b[0m\n"
     ]
    },
    {
     "name": "stdout",
     "output_type": "stream",
     "text": [
      "\u001b[36m(autoscaler +7m36s)\u001b[0m [autoscaler] Downscaling node g-36417ab9a79100001 (node IP: 10.0.0.89) due to node idle termination.\n",
      "\u001b[36m(autoscaler +7m37s)\u001b[0m [autoscaler] Cluster resized to {416 CPU, 0 GPU}.\n"
     ]
    },
    {
     "name": "stderr",
     "output_type": "stream",
     "text": [
      "\u001b[36m(MapWorker(MapBatches(process_data)->MapBatches(UpserterConcurrent)) pid=45188, ip=10.0.0.17)\u001b[0m /home/ray/anaconda3/lib/python3.10/site-packages/ray/data/_internal/arrow_block.py:148: FutureWarning: promote has been superseded by mode='default'.\u001b[32m [repeated 5x across cluster]\u001b[0m\n",
      "\u001b[36m(MapWorker(MapBatches(process_data)->MapBatches(UpserterConcurrent)) pid=45188, ip=10.0.0.17)\u001b[0m   return transform_pyarrow.concat(tables)\u001b[32m [repeated 5x across cluster]\u001b[0m\n"
     ]
    },
    {
     "name": "stdout",
     "output_type": "stream",
     "text": [
      "\u001b[36m(autoscaler +7m42s)\u001b[0m [autoscaler] Downscaling node g-36417ab9a79100002 (node IP: 10.0.0.99) due to node idle termination.\n",
      "\u001b[36m(autoscaler +7m43s)\u001b[0m [autoscaler] Cluster resized to {384 CPU, 0 GPU}.\n"
     ]
    },
    {
     "name": "stderr",
     "output_type": "stream",
     "text": [
      "\u001b[36m(MapWorker(MapBatches(process_data)->MapBatches(UpserterConcurrent)) pid=45188, ip=10.0.0.17)\u001b[0m /home/ray/anaconda3/lib/python3.10/site-packages/ray/data/_internal/arrow_block.py:148: FutureWarning: promote has been superseded by mode='default'.\u001b[32m [repeated 5x across cluster]\u001b[0m\n",
      "\u001b[36m(MapWorker(MapBatches(process_data)->MapBatches(UpserterConcurrent)) pid=45188, ip=10.0.0.17)\u001b[0m   return transform_pyarrow.concat(tables)\u001b[32m [repeated 5x across cluster]\u001b[0m\n"
     ]
    },
    {
     "name": "stdout",
     "output_type": "stream",
     "text": [
      "\u001b[36m(autoscaler +7m48s)\u001b[0m [autoscaler] Cluster upscaled to {416 CPU, 0 GPU}.\n"
     ]
    },
    {
     "name": "stderr",
     "output_type": "stream",
     "text": [
      "\u001b[36m(MapWorker(MapBatches(process_data)->MapBatches(UpserterConcurrent)) pid=45188, ip=10.0.0.17)\u001b[0m /home/ray/anaconda3/lib/python3.10/site-packages/ray/data/_internal/arrow_block.py:148: FutureWarning: promote has been superseded by mode='default'.\u001b[32m [repeated 5x across cluster]\u001b[0m\n",
      "\u001b[36m(MapWorker(MapBatches(process_data)->MapBatches(UpserterConcurrent)) pid=45188, ip=10.0.0.17)\u001b[0m   return transform_pyarrow.concat(tables)\u001b[32m [repeated 5x across cluster]\u001b[0m\n",
      "\u001b[36m(MapWorker(MapBatches(process_data)->MapBatches(UpserterConcurrent)) pid=45188, ip=10.0.0.17)\u001b[0m /home/ray/anaconda3/lib/python3.10/site-packages/ray/data/_internal/arrow_block.py:148: FutureWarning: promote has been superseded by mode='default'.\u001b[32m [repeated 5x across cluster]\u001b[0m\n",
      "\u001b[36m(MapWorker(MapBatches(process_data)->MapBatches(UpserterConcurrent)) pid=45188, ip=10.0.0.17)\u001b[0m   return transform_pyarrow.concat(tables)\u001b[32m [repeated 5x across cluster]\u001b[0m\n",
      "\u001b[36m(MapWorker(MapBatches(process_data)->MapBatches(UpserterConcurrent)) pid=45188, ip=10.0.0.17)\u001b[0m /home/ray/anaconda3/lib/python3.10/site-packages/ray/data/_internal/arrow_block.py:148: FutureWarning: promote has been superseded by mode='default'.\u001b[32m [repeated 5x across cluster]\u001b[0m\n",
      "\u001b[36m(MapWorker(MapBatches(process_data)->MapBatches(UpserterConcurrent)) pid=45188, ip=10.0.0.17)\u001b[0m   return transform_pyarrow.concat(tables)\u001b[32m [repeated 5x across cluster]\u001b[0m\n"
     ]
    },
    {
     "name": "stdout",
     "output_type": "stream",
     "text": [
      "\u001b[36m(autoscaler +8m3s)\u001b[0m Instance g-36417ab9a79100002 (node IP: 10.0.0.99) is now failing Ray health checks and may be terminated soon: the Raylet health check on this worker node is failing: check node metrics or 'raylet.[out|err]' for details.\n"
     ]
    },
    {
     "name": "stderr",
     "output_type": "stream",
     "text": [
      "\u001b[36m(MapWorker(MapBatches(process_data)->MapBatches(UpserterConcurrent)) pid=45188, ip=10.0.0.17)\u001b[0m /home/ray/anaconda3/lib/python3.10/site-packages/ray/data/_internal/arrow_block.py:148: FutureWarning: promote has been superseded by mode='default'.\u001b[32m [repeated 5x across cluster]\u001b[0m\n",
      "\u001b[36m(MapWorker(MapBatches(process_data)->MapBatches(UpserterConcurrent)) pid=45188, ip=10.0.0.17)\u001b[0m   return transform_pyarrow.concat(tables)\u001b[32m [repeated 5x across cluster]\u001b[0m\n",
      "\u001b[36m(MapWorker(MapBatches(process_data)->MapBatches(UpserterConcurrent)) pid=45188, ip=10.0.0.17)\u001b[0m /home/ray/anaconda3/lib/python3.10/site-packages/ray/data/_internal/arrow_block.py:148: FutureWarning: promote has been superseded by mode='default'.\u001b[32m [repeated 5x across cluster]\u001b[0m\n",
      "\u001b[36m(MapWorker(MapBatches(process_data)->MapBatches(UpserterConcurrent)) pid=45188, ip=10.0.0.17)\u001b[0m   return transform_pyarrow.concat(tables)\u001b[32m [repeated 5x across cluster]\u001b[0m\n"
     ]
    },
    {
     "name": "stdout",
     "output_type": "stream",
     "text": [
      "\u001b[36m(autoscaler +8m18s)\u001b[0m [autoscaler] Downscaling node g-062cd80b7d9290001 (node IP: 10.0.0.100) due to node idle termination.\n",
      "\u001b[36m(autoscaler +8m19s)\u001b[0m [autoscaler] Cluster resized to {384 CPU, 0 GPU}.\n"
     ]
    },
    {
     "name": "stderr",
     "output_type": "stream",
     "text": [
      "\u001b[36m(MapWorker(MapBatches(process_data)->MapBatches(UpserterConcurrent)) pid=15918, ip=10.0.0.63)\u001b[0m /home/ray/anaconda3/lib/python3.10/site-packages/ray/data/_internal/arrow_block.py:148: FutureWarning: promote has been superseded by mode='default'.\u001b[32m [repeated 5x across cluster]\u001b[0m\n",
      "\u001b[36m(MapWorker(MapBatches(process_data)->MapBatches(UpserterConcurrent)) pid=15918, ip=10.0.0.63)\u001b[0m   return transform_pyarrow.concat(tables)\u001b[32m [repeated 5x across cluster]\u001b[0m\n",
      "\u001b[36m(MapWorker(MapBatches(process_data)->MapBatches(UpserterConcurrent)) pid=15918, ip=10.0.0.63)\u001b[0m /home/ray/anaconda3/lib/python3.10/site-packages/ray/data/_internal/arrow_block.py:148: FutureWarning: promote has been superseded by mode='default'.\u001b[32m [repeated 5x across cluster]\u001b[0m\n",
      "\u001b[36m(MapWorker(MapBatches(process_data)->MapBatches(UpserterConcurrent)) pid=15918, ip=10.0.0.63)\u001b[0m   return transform_pyarrow.concat(tables)\u001b[32m [repeated 5x across cluster]\u001b[0m\n",
      "\u001b[36m(MapWorker(MapBatches(process_data)->MapBatches(UpserterConcurrent)) pid=45188, ip=10.0.0.17)\u001b[0m /home/ray/anaconda3/lib/python3.10/site-packages/ray/data/_internal/arrow_block.py:148: FutureWarning: promote has been superseded by mode='default'.\u001b[32m [repeated 5x across cluster]\u001b[0m\n",
      "\u001b[36m(MapWorker(MapBatches(process_data)->MapBatches(UpserterConcurrent)) pid=45188, ip=10.0.0.17)\u001b[0m   return transform_pyarrow.concat(tables)\u001b[32m [repeated 5x across cluster]\u001b[0m\n"
     ]
    },
    {
     "name": "stdout",
     "output_type": "stream",
     "text": [
      "\u001b[36m(autoscaler +8m36s)\u001b[0m Instance g-062cd80b7d9290001 (node IP: 10.0.0.100) is now failing Ray health checks and may be terminated soon: the Raylet health check on this worker node is failing: check node metrics or 'raylet.[out|err]' for details.\n"
     ]
    },
    {
     "name": "stderr",
     "output_type": "stream",
     "text": [
      "\u001b[36m(MapWorker(MapBatches(process_data)->MapBatches(UpserterConcurrent)) pid=45188, ip=10.0.0.17)\u001b[0m /home/ray/anaconda3/lib/python3.10/site-packages/ray/data/_internal/arrow_block.py:148: FutureWarning: promote has been superseded by mode='default'.\u001b[32m [repeated 5x across cluster]\u001b[0m\n",
      "\u001b[36m(MapWorker(MapBatches(process_data)->MapBatches(UpserterConcurrent)) pid=45188, ip=10.0.0.17)\u001b[0m   return transform_pyarrow.concat(tables)\u001b[32m [repeated 5x across cluster]\u001b[0m\n",
      "\u001b[36m(MapWorker(MapBatches(process_data)->MapBatches(UpserterConcurrent)) pid=46641, ip=10.0.0.57)\u001b[0m /home/ray/anaconda3/lib/python3.10/site-packages/ray/data/_internal/arrow_block.py:148: FutureWarning: promote has been superseded by mode='default'.\u001b[32m [repeated 5x across cluster]\u001b[0m\n",
      "\u001b[36m(MapWorker(MapBatches(process_data)->MapBatches(UpserterConcurrent)) pid=46641, ip=10.0.0.57)\u001b[0m   return transform_pyarrow.concat(tables)\u001b[32m [repeated 5x across cluster]\u001b[0m\n",
      "\u001b[36m(MapWorker(MapBatches(process_data)->MapBatches(UpserterConcurrent)) pid=46641, ip=10.0.0.57)\u001b[0m /home/ray/anaconda3/lib/python3.10/site-packages/ray/data/_internal/arrow_block.py:148: FutureWarning: promote has been superseded by mode='default'.\u001b[32m [repeated 5x across cluster]\u001b[0m\n",
      "\u001b[36m(MapWorker(MapBatches(process_data)->MapBatches(UpserterConcurrent)) pid=46641, ip=10.0.0.57)\u001b[0m   return transform_pyarrow.concat(tables)\u001b[32m [repeated 5x across cluster]\u001b[0m\n",
      "\u001b[36m(MapWorker(MapBatches(process_data)->MapBatches(UpserterConcurrent)) pid=46641, ip=10.0.0.57)\u001b[0m /home/ray/anaconda3/lib/python3.10/site-packages/ray/data/_internal/arrow_block.py:148: FutureWarning: promote has been superseded by mode='default'.\u001b[32m [repeated 5x across cluster]\u001b[0m\n",
      "\u001b[36m(MapWorker(MapBatches(process_data)->MapBatches(UpserterConcurrent)) pid=46641, ip=10.0.0.57)\u001b[0m   return transform_pyarrow.concat(tables)\u001b[32m [repeated 5x across cluster]\u001b[0m\n",
      "\u001b[36m(MapWorker(MapBatches(process_data)->MapBatches(UpserterConcurrent)) pid=1215867)\u001b[0m /home/ray/anaconda3/lib/python3.10/site-packages/ray/data/_internal/arrow_block.py:148: FutureWarning: promote has been superseded by mode='default'.\u001b[32m [repeated 5x across cluster]\u001b[0m\n",
      "\u001b[36m(MapWorker(MapBatches(process_data)->MapBatches(UpserterConcurrent)) pid=1215867)\u001b[0m   return transform_pyarrow.concat(tables)\u001b[32m [repeated 5x across cluster]\u001b[0m\n",
      "\u001b[36m(MapWorker(MapBatches(process_data)->MapBatches(UpserterConcurrent)) pid=1215867)\u001b[0m /home/ray/anaconda3/lib/python3.10/site-packages/ray/data/_internal/arrow_block.py:148: FutureWarning: promote has been superseded by mode='default'.\u001b[32m [repeated 5x across cluster]\u001b[0m\n",
      "\u001b[36m(MapWorker(MapBatches(process_data)->MapBatches(UpserterConcurrent)) pid=1215867)\u001b[0m   return transform_pyarrow.concat(tables)\u001b[32m [repeated 5x across cluster]\u001b[0m\n",
      "\u001b[36m(MapWorker(MapBatches(process_data)->MapBatches(UpserterConcurrent)) pid=1215867)\u001b[0m /home/ray/anaconda3/lib/python3.10/site-packages/ray/data/_internal/arrow_block.py:148: FutureWarning: promote has been superseded by mode='default'.\u001b[32m [repeated 5x across cluster]\u001b[0m\n",
      "\u001b[36m(MapWorker(MapBatches(process_data)->MapBatches(UpserterConcurrent)) pid=1215867)\u001b[0m   return transform_pyarrow.concat(tables)\u001b[32m [repeated 5x across cluster]\u001b[0m\n",
      "\u001b[36m(MapWorker(MapBatches(process_data)->MapBatches(UpserterConcurrent)) pid=1215867)\u001b[0m /home/ray/anaconda3/lib/python3.10/site-packages/ray/data/_internal/arrow_block.py:148: FutureWarning: promote has been superseded by mode='default'.\u001b[32m [repeated 5x across cluster]\u001b[0m\n",
      "\u001b[36m(MapWorker(MapBatches(process_data)->MapBatches(UpserterConcurrent)) pid=1215867)\u001b[0m   return transform_pyarrow.concat(tables)\u001b[32m [repeated 5x across cluster]\u001b[0m\n",
      "\u001b[36m(MapWorker(MapBatches(process_data)->MapBatches(UpserterConcurrent)) pid=1215867)\u001b[0m /home/ray/anaconda3/lib/python3.10/site-packages/ray/data/_internal/arrow_block.py:148: FutureWarning: promote has been superseded by mode='default'.\u001b[32m [repeated 5x across cluster]\u001b[0m\n",
      "\u001b[36m(MapWorker(MapBatches(process_data)->MapBatches(UpserterConcurrent)) pid=1215867)\u001b[0m   return transform_pyarrow.concat(tables)\u001b[32m [repeated 5x across cluster]\u001b[0m\n",
      "\u001b[36m(MapWorker(MapBatches(process_data)->MapBatches(UpserterConcurrent)) pid=1215867)\u001b[0m /home/ray/anaconda3/lib/python3.10/site-packages/ray/data/_internal/arrow_block.py:148: FutureWarning: promote has been superseded by mode='default'.\u001b[32m [repeated 5x across cluster]\u001b[0m\n",
      "\u001b[36m(MapWorker(MapBatches(process_data)->MapBatches(UpserterConcurrent)) pid=1215867)\u001b[0m   return transform_pyarrow.concat(tables)\u001b[32m [repeated 5x across cluster]\u001b[0m\n",
      "\u001b[36m(MapWorker(MapBatches(process_data)->MapBatches(UpserterConcurrent)) pid=1215867)\u001b[0m /home/ray/anaconda3/lib/python3.10/site-packages/ray/data/_internal/arrow_block.py:148: FutureWarning: promote has been superseded by mode='default'.\u001b[32m [repeated 5x across cluster]\u001b[0m\n",
      "\u001b[36m(MapWorker(MapBatches(process_data)->MapBatches(UpserterConcurrent)) pid=1215867)\u001b[0m   return transform_pyarrow.concat(tables)\u001b[32m [repeated 5x across cluster]\u001b[0m\n",
      "\u001b[36m(MapWorker(MapBatches(process_data)->MapBatches(UpserterConcurrent)) pid=1215867)\u001b[0m /home/ray/anaconda3/lib/python3.10/site-packages/ray/data/_internal/arrow_block.py:148: FutureWarning: promote has been superseded by mode='default'.\u001b[32m [repeated 5x across cluster]\u001b[0m\n",
      "\u001b[36m(MapWorker(MapBatches(process_data)->MapBatches(UpserterConcurrent)) pid=1215867)\u001b[0m   return transform_pyarrow.concat(tables)\u001b[32m [repeated 5x across cluster]\u001b[0m\n",
      "\u001b[36m(MapWorker(MapBatches(process_data)->MapBatches(UpserterConcurrent)) pid=1215867)\u001b[0m /home/ray/anaconda3/lib/python3.10/site-packages/ray/data/_internal/arrow_block.py:148: FutureWarning: promote has been superseded by mode='default'.\u001b[32m [repeated 5x across cluster]\u001b[0m\n",
      "\u001b[36m(MapWorker(MapBatches(process_data)->MapBatches(UpserterConcurrent)) pid=1215867)\u001b[0m   return transform_pyarrow.concat(tables)\u001b[32m [repeated 5x across cluster]\u001b[0m\n",
      "\u001b[36m(MapWorker(MapBatches(process_data)->MapBatches(UpserterConcurrent)) pid=45188, ip=10.0.0.17)\u001b[0m /home/ray/anaconda3/lib/python3.10/site-packages/ray/data/_internal/arrow_block.py:148: FutureWarning: promote has been superseded by mode='default'.\u001b[32m [repeated 5x across cluster]\u001b[0m\n",
      "\u001b[36m(MapWorker(MapBatches(process_data)->MapBatches(UpserterConcurrent)) pid=45188, ip=10.0.0.17)\u001b[0m   return transform_pyarrow.concat(tables)\u001b[32m [repeated 5x across cluster]\u001b[0m\n",
      "\u001b[36m(MapWorker(MapBatches(process_data)->MapBatches(UpserterConcurrent)) pid=45188, ip=10.0.0.17)\u001b[0m /home/ray/anaconda3/lib/python3.10/site-packages/ray/data/_internal/arrow_block.py:148: FutureWarning: promote has been superseded by mode='default'.\u001b[32m [repeated 5x across cluster]\u001b[0m\n",
      "\u001b[36m(MapWorker(MapBatches(process_data)->MapBatches(UpserterConcurrent)) pid=45188, ip=10.0.0.17)\u001b[0m   return transform_pyarrow.concat(tables)\u001b[32m [repeated 5x across cluster]\u001b[0m\n",
      "\u001b[36m(MapWorker(MapBatches(process_data)->MapBatches(UpserterConcurrent)) pid=45188, ip=10.0.0.17)\u001b[0m /home/ray/anaconda3/lib/python3.10/site-packages/ray/data/_internal/arrow_block.py:148: FutureWarning: promote has been superseded by mode='default'.\u001b[32m [repeated 5x across cluster]\u001b[0m\n",
      "\u001b[36m(MapWorker(MapBatches(process_data)->MapBatches(UpserterConcurrent)) pid=45188, ip=10.0.0.17)\u001b[0m   return transform_pyarrow.concat(tables)\u001b[32m [repeated 5x across cluster]\u001b[0m\n",
      "\u001b[36m(MapWorker(MapBatches(process_data)->MapBatches(UpserterConcurrent)) pid=45188, ip=10.0.0.17)\u001b[0m /home/ray/anaconda3/lib/python3.10/site-packages/ray/data/_internal/arrow_block.py:148: FutureWarning: promote has been superseded by mode='default'.\u001b[32m [repeated 5x across cluster]\u001b[0m\n",
      "\u001b[36m(MapWorker(MapBatches(process_data)->MapBatches(UpserterConcurrent)) pid=45188, ip=10.0.0.17)\u001b[0m   return transform_pyarrow.concat(tables)\u001b[32m [repeated 5x across cluster]\u001b[0m\n",
      "\u001b[36m(MapWorker(MapBatches(process_data)->MapBatches(UpserterConcurrent)) pid=1215867)\u001b[0m /home/ray/anaconda3/lib/python3.10/site-packages/ray/data/_internal/arrow_block.py:148: FutureWarning: promote has been superseded by mode='default'.\u001b[32m [repeated 5x across cluster]\u001b[0m\n",
      "\u001b[36m(MapWorker(MapBatches(process_data)->MapBatches(UpserterConcurrent)) pid=1215867)\u001b[0m   return transform_pyarrow.concat(tables)\u001b[32m [repeated 5x across cluster]\u001b[0m\n",
      "\u001b[36m(MapWorker(MapBatches(process_data)->MapBatches(UpserterConcurrent)) pid=45188, ip=10.0.0.17)\u001b[0m /home/ray/anaconda3/lib/python3.10/site-packages/ray/data/_internal/arrow_block.py:148: FutureWarning: promote has been superseded by mode='default'.\u001b[32m [repeated 5x across cluster]\u001b[0m\n",
      "\u001b[36m(MapWorker(MapBatches(process_data)->MapBatches(UpserterConcurrent)) pid=45188, ip=10.0.0.17)\u001b[0m   return transform_pyarrow.concat(tables)\u001b[32m [repeated 5x across cluster]\u001b[0m\n",
      "\u001b[36m(MapWorker(MapBatches(process_data)->MapBatches(UpserterConcurrent)) pid=1215867)\u001b[0m /home/ray/anaconda3/lib/python3.10/site-packages/ray/data/_internal/arrow_block.py:148: FutureWarning: promote has been superseded by mode='default'.\u001b[32m [repeated 5x across cluster]\u001b[0m\n",
      "\u001b[36m(MapWorker(MapBatches(process_data)->MapBatches(UpserterConcurrent)) pid=1215867)\u001b[0m   return transform_pyarrow.concat(tables)\u001b[32m [repeated 5x across cluster]\u001b[0m\n",
      "\u001b[36m(MapWorker(MapBatches(process_data)->MapBatches(UpserterConcurrent)) pid=45188, ip=10.0.0.17)\u001b[0m /home/ray/anaconda3/lib/python3.10/site-packages/ray/data/_internal/arrow_block.py:148: FutureWarning: promote has been superseded by mode='default'.\u001b[32m [repeated 5x across cluster]\u001b[0m\n",
      "\u001b[36m(MapWorker(MapBatches(process_data)->MapBatches(UpserterConcurrent)) pid=45188, ip=10.0.0.17)\u001b[0m   return transform_pyarrow.concat(tables)\u001b[32m [repeated 5x across cluster]\u001b[0m\n",
      "\u001b[36m(MapWorker(MapBatches(process_data)->MapBatches(UpserterConcurrent)) pid=1215867)\u001b[0m /home/ray/anaconda3/lib/python3.10/site-packages/ray/data/_internal/arrow_block.py:148: FutureWarning: promote has been superseded by mode='default'.\u001b[32m [repeated 5x across cluster]\u001b[0m\n",
      "\u001b[36m(MapWorker(MapBatches(process_data)->MapBatches(UpserterConcurrent)) pid=1215867)\u001b[0m   return transform_pyarrow.concat(tables)\u001b[32m [repeated 5x across cluster]\u001b[0m\n",
      "\u001b[36m(MapWorker(MapBatches(process_data)->MapBatches(UpserterConcurrent)) pid=45188, ip=10.0.0.17)\u001b[0m /home/ray/anaconda3/lib/python3.10/site-packages/ray/data/_internal/arrow_block.py:148: FutureWarning: promote has been superseded by mode='default'.\u001b[32m [repeated 5x across cluster]\u001b[0m\n",
      "\u001b[36m(MapWorker(MapBatches(process_data)->MapBatches(UpserterConcurrent)) pid=45188, ip=10.0.0.17)\u001b[0m   return transform_pyarrow.concat(tables)\u001b[32m [repeated 5x across cluster]\u001b[0m\n",
      "\u001b[36m(MapWorker(MapBatches(process_data)->MapBatches(UpserterConcurrent)) pid=45188, ip=10.0.0.17)\u001b[0m /home/ray/anaconda3/lib/python3.10/site-packages/ray/data/_internal/arrow_block.py:148: FutureWarning: promote has been superseded by mode='default'.\u001b[32m [repeated 5x across cluster]\u001b[0m\n",
      "\u001b[36m(MapWorker(MapBatches(process_data)->MapBatches(UpserterConcurrent)) pid=45188, ip=10.0.0.17)\u001b[0m   return transform_pyarrow.concat(tables)\u001b[32m [repeated 5x across cluster]\u001b[0m\n",
      "\u001b[36m(MapWorker(MapBatches(process_data)->MapBatches(UpserterConcurrent)) pid=45188, ip=10.0.0.17)\u001b[0m /home/ray/anaconda3/lib/python3.10/site-packages/ray/data/_internal/arrow_block.py:148: FutureWarning: promote has been superseded by mode='default'.\u001b[32m [repeated 5x across cluster]\u001b[0m\n",
      "\u001b[36m(MapWorker(MapBatches(process_data)->MapBatches(UpserterConcurrent)) pid=45188, ip=10.0.0.17)\u001b[0m   return transform_pyarrow.concat(tables)\u001b[32m [repeated 5x across cluster]\u001b[0m\n",
      "\u001b[36m(MapWorker(MapBatches(process_data)->MapBatches(UpserterConcurrent)) pid=45188, ip=10.0.0.17)\u001b[0m /home/ray/anaconda3/lib/python3.10/site-packages/ray/data/_internal/arrow_block.py:148: FutureWarning: promote has been superseded by mode='default'.\u001b[32m [repeated 5x across cluster]\u001b[0m\n",
      "\u001b[36m(MapWorker(MapBatches(process_data)->MapBatches(UpserterConcurrent)) pid=45188, ip=10.0.0.17)\u001b[0m   return transform_pyarrow.concat(tables)\u001b[32m [repeated 5x across cluster]\u001b[0m\n",
      "\u001b[36m(MapWorker(MapBatches(process_data)->MapBatches(UpserterConcurrent)) pid=45188, ip=10.0.0.17)\u001b[0m /home/ray/anaconda3/lib/python3.10/site-packages/ray/data/_internal/arrow_block.py:148: FutureWarning: promote has been superseded by mode='default'.\u001b[32m [repeated 5x across cluster]\u001b[0m\n",
      "\u001b[36m(MapWorker(MapBatches(process_data)->MapBatches(UpserterConcurrent)) pid=45188, ip=10.0.0.17)\u001b[0m   return transform_pyarrow.concat(tables)\u001b[32m [repeated 5x across cluster]\u001b[0m\n",
      "\u001b[36m(MapWorker(MapBatches(process_data)->MapBatches(UpserterConcurrent)) pid=45188, ip=10.0.0.17)\u001b[0m /home/ray/anaconda3/lib/python3.10/site-packages/ray/data/_internal/arrow_block.py:148: FutureWarning: promote has been superseded by mode='default'.\u001b[32m [repeated 5x across cluster]\u001b[0m\n",
      "\u001b[36m(MapWorker(MapBatches(process_data)->MapBatches(UpserterConcurrent)) pid=45188, ip=10.0.0.17)\u001b[0m   return transform_pyarrow.concat(tables)\u001b[32m [repeated 5x across cluster]\u001b[0m\n",
      "\u001b[36m(MapWorker(MapBatches(process_data)->MapBatches(UpserterConcurrent)) pid=1215867)\u001b[0m /home/ray/anaconda3/lib/python3.10/site-packages/ray/data/_internal/arrow_block.py:148: FutureWarning: promote has been superseded by mode='default'.\u001b[32m [repeated 5x across cluster]\u001b[0m\n",
      "\u001b[36m(MapWorker(MapBatches(process_data)->MapBatches(UpserterConcurrent)) pid=1215867)\u001b[0m   return transform_pyarrow.concat(tables)\u001b[32m [repeated 5x across cluster]\u001b[0m\n",
      "\u001b[36m(MapWorker(MapBatches(process_data)->MapBatches(UpserterConcurrent)) pid=1215867)\u001b[0m /home/ray/anaconda3/lib/python3.10/site-packages/ray/data/_internal/arrow_block.py:148: FutureWarning: promote has been superseded by mode='default'.\u001b[32m [repeated 5x across cluster]\u001b[0m\n",
      "\u001b[36m(MapWorker(MapBatches(process_data)->MapBatches(UpserterConcurrent)) pid=1215867)\u001b[0m   return transform_pyarrow.concat(tables)\u001b[32m [repeated 5x across cluster]\u001b[0m\n",
      "\u001b[36m(MapWorker(MapBatches(process_data)->MapBatches(UpserterConcurrent)) pid=1215867)\u001b[0m /home/ray/anaconda3/lib/python3.10/site-packages/ray/data/_internal/arrow_block.py:148: FutureWarning: promote has been superseded by mode='default'.\u001b[32m [repeated 5x across cluster]\u001b[0m\n",
      "\u001b[36m(MapWorker(MapBatches(process_data)->MapBatches(UpserterConcurrent)) pid=1215867)\u001b[0m   return transform_pyarrow.concat(tables)\u001b[32m [repeated 5x across cluster]\u001b[0m\n",
      "\u001b[36m(MapWorker(MapBatches(process_data)->MapBatches(UpserterConcurrent)) pid=46641, ip=10.0.0.57)\u001b[0m /home/ray/anaconda3/lib/python3.10/site-packages/ray/data/_internal/arrow_block.py:148: FutureWarning: promote has been superseded by mode='default'.\u001b[32m [repeated 3x across cluster]\u001b[0m\n",
      "\u001b[36m(MapWorker(MapBatches(process_data)->MapBatches(UpserterConcurrent)) pid=46641, ip=10.0.0.57)\u001b[0m   return transform_pyarrow.concat(tables)\u001b[32m [repeated 3x across cluster]\u001b[0m\n",
      "\u001b[36m(MapWorker(MapBatches(process_data)->MapBatches(UpserterConcurrent)) pid=44830, ip=10.0.0.17)\u001b[0m /home/ray/anaconda3/lib/python3.10/site-packages/ray/data/_internal/arrow_block.py:148: FutureWarning: promote has been superseded by mode='default'.\u001b[32m [repeated 4x across cluster]\u001b[0m\n",
      "\u001b[36m(MapWorker(MapBatches(process_data)->MapBatches(UpserterConcurrent)) pid=44830, ip=10.0.0.17)\u001b[0m   return transform_pyarrow.concat(tables)\u001b[32m [repeated 4x across cluster]\u001b[0m\n",
      "\u001b[36m(MapWorker(MapBatches(process_data)->MapBatches(UpserterConcurrent)) pid=44830, ip=10.0.0.17)\u001b[0m /home/ray/anaconda3/lib/python3.10/site-packages/ray/data/_internal/arrow_block.py:148: FutureWarning: promote has been superseded by mode='default'.\u001b[32m [repeated 5x across cluster]\u001b[0m\n",
      "\u001b[36m(MapWorker(MapBatches(process_data)->MapBatches(UpserterConcurrent)) pid=44830, ip=10.0.0.17)\u001b[0m   return transform_pyarrow.concat(tables)\u001b[32m [repeated 5x across cluster]\u001b[0m\n",
      "\u001b[36m(MapWorker(MapBatches(process_data)->MapBatches(UpserterConcurrent)) pid=44830, ip=10.0.0.17)\u001b[0m /home/ray/anaconda3/lib/python3.10/site-packages/ray/data/_internal/arrow_block.py:148: FutureWarning: promote has been superseded by mode='default'.\u001b[32m [repeated 5x across cluster]\u001b[0m\n",
      "\u001b[36m(MapWorker(MapBatches(process_data)->MapBatches(UpserterConcurrent)) pid=44830, ip=10.0.0.17)\u001b[0m   return transform_pyarrow.concat(tables)\u001b[32m [repeated 5x across cluster]\u001b[0m\n",
      "\u001b[36m(MapWorker(MapBatches(process_data)->MapBatches(UpserterConcurrent)) pid=44830, ip=10.0.0.17)\u001b[0m /home/ray/anaconda3/lib/python3.10/site-packages/ray/data/_internal/arrow_block.py:148: FutureWarning: promote has been superseded by mode='default'.\u001b[32m [repeated 5x across cluster]\u001b[0m\n",
      "\u001b[36m(MapWorker(MapBatches(process_data)->MapBatches(UpserterConcurrent)) pid=44830, ip=10.0.0.17)\u001b[0m   return transform_pyarrow.concat(tables)\u001b[32m [repeated 5x across cluster]\u001b[0m\n",
      "\u001b[36m(MapWorker(MapBatches(process_data)->MapBatches(UpserterConcurrent)) pid=1215867)\u001b[0m /home/ray/anaconda3/lib/python3.10/site-packages/ray/data/_internal/arrow_block.py:148: FutureWarning: promote has been superseded by mode='default'.\u001b[32m [repeated 5x across cluster]\u001b[0m\n",
      "\u001b[36m(MapWorker(MapBatches(process_data)->MapBatches(UpserterConcurrent)) pid=1215867)\u001b[0m   return transform_pyarrow.concat(tables)\u001b[32m [repeated 5x across cluster]\u001b[0m\n",
      "\u001b[36m(MapWorker(MapBatches(process_data)->MapBatches(UpserterConcurrent)) pid=1215867)\u001b[0m /home/ray/anaconda3/lib/python3.10/site-packages/ray/data/_internal/arrow_block.py:148: FutureWarning: promote has been superseded by mode='default'.\u001b[32m [repeated 5x across cluster]\u001b[0m\n",
      "\u001b[36m(MapWorker(MapBatches(process_data)->MapBatches(UpserterConcurrent)) pid=1215867)\u001b[0m   return transform_pyarrow.concat(tables)\u001b[32m [repeated 5x across cluster]\u001b[0m\n",
      "\u001b[36m(MapWorker(MapBatches(process_data)->MapBatches(UpserterConcurrent)) pid=1215867)\u001b[0m /home/ray/anaconda3/lib/python3.10/site-packages/ray/data/_internal/arrow_block.py:148: FutureWarning: promote has been superseded by mode='default'.\u001b[32m [repeated 5x across cluster]\u001b[0m\n",
      "\u001b[36m(MapWorker(MapBatches(process_data)->MapBatches(UpserterConcurrent)) pid=1215867)\u001b[0m   return transform_pyarrow.concat(tables)\u001b[32m [repeated 5x across cluster]\u001b[0m\n",
      "\u001b[36m(MapWorker(MapBatches(process_data)->MapBatches(UpserterConcurrent)) pid=1215867)\u001b[0m /home/ray/anaconda3/lib/python3.10/site-packages/ray/data/_internal/arrow_block.py:148: FutureWarning: promote has been superseded by mode='default'.\u001b[32m [repeated 5x across cluster]\u001b[0m\n",
      "\u001b[36m(MapWorker(MapBatches(process_data)->MapBatches(UpserterConcurrent)) pid=1215867)\u001b[0m   return transform_pyarrow.concat(tables)\u001b[32m [repeated 5x across cluster]\u001b[0m\n",
      "\u001b[36m(MapWorker(MapBatches(process_data)->MapBatches(UpserterConcurrent)) pid=46641, ip=10.0.0.57)\u001b[0m /home/ray/anaconda3/lib/python3.10/site-packages/ray/data/_internal/arrow_block.py:148: FutureWarning: promote has been superseded by mode='default'.\u001b[32m [repeated 5x across cluster]\u001b[0m\n",
      "\u001b[36m(MapWorker(MapBatches(process_data)->MapBatches(UpserterConcurrent)) pid=46641, ip=10.0.0.57)\u001b[0m   return transform_pyarrow.concat(tables)\u001b[32m [repeated 5x across cluster]\u001b[0m\n",
      "\u001b[36m(MapWorker(MapBatches(process_data)->MapBatches(UpserterConcurrent)) pid=46641, ip=10.0.0.57)\u001b[0m /home/ray/anaconda3/lib/python3.10/site-packages/ray/data/_internal/arrow_block.py:148: FutureWarning: promote has been superseded by mode='default'.\u001b[32m [repeated 5x across cluster]\u001b[0m\n",
      "\u001b[36m(MapWorker(MapBatches(process_data)->MapBatches(UpserterConcurrent)) pid=46641, ip=10.0.0.57)\u001b[0m   return transform_pyarrow.concat(tables)\u001b[32m [repeated 5x across cluster]\u001b[0m\n",
      "\u001b[36m(MapWorker(MapBatches(process_data)->MapBatches(UpserterConcurrent)) pid=45188, ip=10.0.0.17)\u001b[0m /home/ray/anaconda3/lib/python3.10/site-packages/ray/data/_internal/arrow_block.py:148: FutureWarning: promote has been superseded by mode='default'.\u001b[32m [repeated 4x across cluster]\u001b[0m\n",
      "\u001b[36m(MapWorker(MapBatches(process_data)->MapBatches(UpserterConcurrent)) pid=45188, ip=10.0.0.17)\u001b[0m   return transform_pyarrow.concat(tables)\u001b[32m [repeated 4x across cluster]\u001b[0m\n",
      "\u001b[36m(MapWorker(MapBatches(process_data)->MapBatches(UpserterConcurrent)) pid=46641, ip=10.0.0.57)\u001b[0m /home/ray/anaconda3/lib/python3.10/site-packages/ray/data/_internal/arrow_block.py:148: FutureWarning: promote has been superseded by mode='default'.\u001b[32m [repeated 5x across cluster]\u001b[0m\n",
      "\u001b[36m(MapWorker(MapBatches(process_data)->MapBatches(UpserterConcurrent)) pid=46641, ip=10.0.0.57)\u001b[0m   return transform_pyarrow.concat(tables)\u001b[32m [repeated 5x across cluster]\u001b[0m\n",
      "\u001b[36m(MapWorker(MapBatches(process_data)->MapBatches(UpserterConcurrent)) pid=44830, ip=10.0.0.17)\u001b[0m /home/ray/anaconda3/lib/python3.10/site-packages/ray/data/_internal/arrow_block.py:148: FutureWarning: promote has been superseded by mode='default'.\u001b[32m [repeated 4x across cluster]\u001b[0m\n",
      "\u001b[36m(MapWorker(MapBatches(process_data)->MapBatches(UpserterConcurrent)) pid=44830, ip=10.0.0.17)\u001b[0m   return transform_pyarrow.concat(tables)\u001b[32m [repeated 4x across cluster]\u001b[0m\n",
      "\u001b[36m(MapWorker(MapBatches(process_data)->MapBatches(UpserterConcurrent)) pid=44830, ip=10.0.0.17)\u001b[0m /home/ray/anaconda3/lib/python3.10/site-packages/ray/data/_internal/arrow_block.py:148: FutureWarning: promote has been superseded by mode='default'.\u001b[32m [repeated 5x across cluster]\u001b[0m\n",
      "\u001b[36m(MapWorker(MapBatches(process_data)->MapBatches(UpserterConcurrent)) pid=44830, ip=10.0.0.17)\u001b[0m   return transform_pyarrow.concat(tables)\u001b[32m [repeated 5x across cluster]\u001b[0m\n",
      "\u001b[36m(MapWorker(MapBatches(process_data)->MapBatches(UpserterConcurrent)) pid=44830, ip=10.0.0.17)\u001b[0m /home/ray/anaconda3/lib/python3.10/site-packages/ray/data/_internal/arrow_block.py:148: FutureWarning: promote has been superseded by mode='default'.\u001b[32m [repeated 5x across cluster]\u001b[0m\n",
      "\u001b[36m(MapWorker(MapBatches(process_data)->MapBatches(UpserterConcurrent)) pid=44830, ip=10.0.0.17)\u001b[0m   return transform_pyarrow.concat(tables)\u001b[32m [repeated 5x across cluster]\u001b[0m\n",
      "\u001b[36m(MapWorker(MapBatches(process_data)->MapBatches(UpserterConcurrent)) pid=44830, ip=10.0.0.17)\u001b[0m /home/ray/anaconda3/lib/python3.10/site-packages/ray/data/_internal/arrow_block.py:148: FutureWarning: promote has been superseded by mode='default'.\u001b[32m [repeated 5x across cluster]\u001b[0m\n",
      "\u001b[36m(MapWorker(MapBatches(process_data)->MapBatches(UpserterConcurrent)) pid=44830, ip=10.0.0.17)\u001b[0m   return transform_pyarrow.concat(tables)\u001b[32m [repeated 5x across cluster]\u001b[0m\n",
      "\u001b[36m(MapWorker(MapBatches(process_data)->MapBatches(UpserterConcurrent)) pid=44830, ip=10.0.0.17)\u001b[0m /home/ray/anaconda3/lib/python3.10/site-packages/ray/data/_internal/arrow_block.py:148: FutureWarning: promote has been superseded by mode='default'.\u001b[32m [repeated 5x across cluster]\u001b[0m\n",
      "\u001b[36m(MapWorker(MapBatches(process_data)->MapBatches(UpserterConcurrent)) pid=44830, ip=10.0.0.17)\u001b[0m   return transform_pyarrow.concat(tables)\u001b[32m [repeated 5x across cluster]\u001b[0m\n",
      "\u001b[36m(MapWorker(MapBatches(process_data)->MapBatches(UpserterConcurrent)) pid=1215867)\u001b[0m /home/ray/anaconda3/lib/python3.10/site-packages/ray/data/_internal/arrow_block.py:148: FutureWarning: promote has been superseded by mode='default'.\u001b[32m [repeated 6x across cluster]\u001b[0m\n",
      "\u001b[36m(MapWorker(MapBatches(process_data)->MapBatches(UpserterConcurrent)) pid=1215867)\u001b[0m   return transform_pyarrow.concat(tables)\u001b[32m [repeated 6x across cluster]\u001b[0m\n",
      "\u001b[36m(MapWorker(MapBatches(process_data)->MapBatches(UpserterConcurrent)) pid=1215867)\u001b[0m /home/ray/anaconda3/lib/python3.10/site-packages/ray/data/_internal/arrow_block.py:148: FutureWarning: promote has been superseded by mode='default'.\u001b[32m [repeated 5x across cluster]\u001b[0m\n",
      "\u001b[36m(MapWorker(MapBatches(process_data)->MapBatches(UpserterConcurrent)) pid=1215867)\u001b[0m   return transform_pyarrow.concat(tables)\u001b[32m [repeated 5x across cluster]\u001b[0m\n",
      "\u001b[36m(MapWorker(MapBatches(process_data)->MapBatches(UpserterConcurrent)) pid=1215867)\u001b[0m /home/ray/anaconda3/lib/python3.10/site-packages/ray/data/_internal/arrow_block.py:148: FutureWarning: promote has been superseded by mode='default'.\u001b[32m [repeated 5x across cluster]\u001b[0m\n",
      "\u001b[36m(MapWorker(MapBatches(process_data)->MapBatches(UpserterConcurrent)) pid=1215867)\u001b[0m   return transform_pyarrow.concat(tables)\u001b[32m [repeated 5x across cluster]\u001b[0m\n",
      "\u001b[36m(MapWorker(MapBatches(process_data)->MapBatches(UpserterConcurrent)) pid=1215867)\u001b[0m /home/ray/anaconda3/lib/python3.10/site-packages/ray/data/_internal/arrow_block.py:148: FutureWarning: promote has been superseded by mode='default'.\u001b[32m [repeated 5x across cluster]\u001b[0m\n",
      "\u001b[36m(MapWorker(MapBatches(process_data)->MapBatches(UpserterConcurrent)) pid=1215867)\u001b[0m   return transform_pyarrow.concat(tables)\u001b[32m [repeated 5x across cluster]\u001b[0m\n",
      "\u001b[36m(MapWorker(MapBatches(process_data)->MapBatches(UpserterConcurrent)) pid=1215867)\u001b[0m /home/ray/anaconda3/lib/python3.10/site-packages/ray/data/_internal/arrow_block.py:148: FutureWarning: promote has been superseded by mode='default'.\u001b[32m [repeated 5x across cluster]\u001b[0m\n",
      "\u001b[36m(MapWorker(MapBatches(process_data)->MapBatches(UpserterConcurrent)) pid=1215867)\u001b[0m   return transform_pyarrow.concat(tables)\u001b[32m [repeated 5x across cluster]\u001b[0m\n",
      "\u001b[36m(MapWorker(MapBatches(process_data)->MapBatches(UpserterConcurrent)) pid=15918, ip=10.0.0.63)\u001b[0m /home/ray/anaconda3/lib/python3.10/site-packages/ray/data/_internal/arrow_block.py:148: FutureWarning: promote has been superseded by mode='default'.\u001b[32m [repeated 5x across cluster]\u001b[0m\n",
      "\u001b[36m(MapWorker(MapBatches(process_data)->MapBatches(UpserterConcurrent)) pid=15918, ip=10.0.0.63)\u001b[0m   return transform_pyarrow.concat(tables)\u001b[32m [repeated 5x across cluster]\u001b[0m\n",
      "\u001b[36m(MapWorker(MapBatches(process_data)->MapBatches(UpserterConcurrent)) pid=1215867)\u001b[0m /home/ray/anaconda3/lib/python3.10/site-packages/ray/data/_internal/arrow_block.py:148: FutureWarning: promote has been superseded by mode='default'.\u001b[32m [repeated 5x across cluster]\u001b[0m\n",
      "\u001b[36m(MapWorker(MapBatches(process_data)->MapBatches(UpserterConcurrent)) pid=1215867)\u001b[0m   return transform_pyarrow.concat(tables)\u001b[32m [repeated 5x across cluster]\u001b[0m\n",
      "\u001b[36m(MapWorker(MapBatches(process_data)->MapBatches(UpserterConcurrent)) pid=1215867)\u001b[0m /home/ray/anaconda3/lib/python3.10/site-packages/ray/data/_internal/arrow_block.py:148: FutureWarning: promote has been superseded by mode='default'.\u001b[32m [repeated 5x across cluster]\u001b[0m\n",
      "\u001b[36m(MapWorker(MapBatches(process_data)->MapBatches(UpserterConcurrent)) pid=1215867)\u001b[0m   return transform_pyarrow.concat(tables)\u001b[32m [repeated 5x across cluster]\u001b[0m\n",
      "\u001b[36m(MapWorker(MapBatches(process_data)->MapBatches(UpserterConcurrent)) pid=15918, ip=10.0.0.63)\u001b[0m /home/ray/anaconda3/lib/python3.10/site-packages/ray/data/_internal/arrow_block.py:148: FutureWarning: promote has been superseded by mode='default'.\u001b[32m [repeated 6x across cluster]\u001b[0m\n",
      "\u001b[36m(MapWorker(MapBatches(process_data)->MapBatches(UpserterConcurrent)) pid=15918, ip=10.0.0.63)\u001b[0m   return transform_pyarrow.concat(tables)\u001b[32m [repeated 6x across cluster]\u001b[0m\n",
      "\u001b[36m(MapWorker(MapBatches(process_data)->MapBatches(UpserterConcurrent)) pid=46641, ip=10.0.0.57)\u001b[0m /home/ray/anaconda3/lib/python3.10/site-packages/ray/data/_internal/arrow_block.py:148: FutureWarning: promote has been superseded by mode='default'.\u001b[32m [repeated 6x across cluster]\u001b[0m\n",
      "\u001b[36m(MapWorker(MapBatches(process_data)->MapBatches(UpserterConcurrent)) pid=46641, ip=10.0.0.57)\u001b[0m   return transform_pyarrow.concat(tables)\u001b[32m [repeated 6x across cluster]\u001b[0m\n",
      "\u001b[36m(MapWorker(MapBatches(process_data)->MapBatches(UpserterConcurrent)) pid=46641, ip=10.0.0.57)\u001b[0m /home/ray/anaconda3/lib/python3.10/site-packages/ray/data/_internal/arrow_block.py:148: FutureWarning: promote has been superseded by mode='default'.\u001b[32m [repeated 5x across cluster]\u001b[0m\n",
      "\u001b[36m(MapWorker(MapBatches(process_data)->MapBatches(UpserterConcurrent)) pid=46641, ip=10.0.0.57)\u001b[0m   return transform_pyarrow.concat(tables)\u001b[32m [repeated 5x across cluster]\u001b[0m\n",
      "\u001b[36m(MapWorker(MapBatches(process_data)->MapBatches(UpserterConcurrent)) pid=46641, ip=10.0.0.57)\u001b[0m /home/ray/anaconda3/lib/python3.10/site-packages/ray/data/_internal/arrow_block.py:148: FutureWarning: promote has been superseded by mode='default'.\u001b[32m [repeated 5x across cluster]\u001b[0m\n",
      "\u001b[36m(MapWorker(MapBatches(process_data)->MapBatches(UpserterConcurrent)) pid=46641, ip=10.0.0.57)\u001b[0m   return transform_pyarrow.concat(tables)\u001b[32m [repeated 5x across cluster]\u001b[0m\n",
      "\u001b[36m(MapWorker(MapBatches(process_data)->MapBatches(UpserterConcurrent)) pid=44830, ip=10.0.0.17)\u001b[0m /home/ray/anaconda3/lib/python3.10/site-packages/ray/data/_internal/arrow_block.py:148: FutureWarning: promote has been superseded by mode='default'.\u001b[32m [repeated 5x across cluster]\u001b[0m\n",
      "\u001b[36m(MapWorker(MapBatches(process_data)->MapBatches(UpserterConcurrent)) pid=44830, ip=10.0.0.17)\u001b[0m   return transform_pyarrow.concat(tables)\u001b[32m [repeated 5x across cluster]\u001b[0m\n",
      "\u001b[36m(MapWorker(MapBatches(process_data)->MapBatches(UpserterConcurrent)) pid=1215867)\u001b[0m /home/ray/anaconda3/lib/python3.10/site-packages/ray/data/_internal/arrow_block.py:148: FutureWarning: promote has been superseded by mode='default'.\u001b[32m [repeated 5x across cluster]\u001b[0m\n",
      "\u001b[36m(MapWorker(MapBatches(process_data)->MapBatches(UpserterConcurrent)) pid=1215867)\u001b[0m   return transform_pyarrow.concat(tables)\u001b[32m [repeated 5x across cluster]\u001b[0m\n",
      "\u001b[36m(MapWorker(MapBatches(process_data)->MapBatches(UpserterConcurrent)) pid=1215867)\u001b[0m /home/ray/anaconda3/lib/python3.10/site-packages/ray/data/_internal/arrow_block.py:148: FutureWarning: promote has been superseded by mode='default'.\u001b[32m [repeated 5x across cluster]\u001b[0m\n",
      "\u001b[36m(MapWorker(MapBatches(process_data)->MapBatches(UpserterConcurrent)) pid=1215867)\u001b[0m   return transform_pyarrow.concat(tables)\u001b[32m [repeated 5x across cluster]\u001b[0m\n",
      "\u001b[36m(MapWorker(MapBatches(process_data)->MapBatches(UpserterConcurrent)) pid=1215867)\u001b[0m /home/ray/anaconda3/lib/python3.10/site-packages/ray/data/_internal/arrow_block.py:148: FutureWarning: promote has been superseded by mode='default'.\u001b[32m [repeated 5x across cluster]\u001b[0m\n",
      "\u001b[36m(MapWorker(MapBatches(process_data)->MapBatches(UpserterConcurrent)) pid=1215867)\u001b[0m   return transform_pyarrow.concat(tables)\u001b[32m [repeated 5x across cluster]\u001b[0m\n",
      "\u001b[36m(MapWorker(MapBatches(process_data)->MapBatches(UpserterConcurrent)) pid=1215867)\u001b[0m /home/ray/anaconda3/lib/python3.10/site-packages/ray/data/_internal/arrow_block.py:148: FutureWarning: promote has been superseded by mode='default'.\u001b[32m [repeated 5x across cluster]\u001b[0m\n",
      "\u001b[36m(MapWorker(MapBatches(process_data)->MapBatches(UpserterConcurrent)) pid=1215867)\u001b[0m   return transform_pyarrow.concat(tables)\u001b[32m [repeated 5x across cluster]\u001b[0m\n",
      "\u001b[36m(MapWorker(MapBatches(process_data)->MapBatches(UpserterConcurrent)) pid=46641, ip=10.0.0.57)\u001b[0m /home/ray/anaconda3/lib/python3.10/site-packages/ray/data/_internal/arrow_block.py:148: FutureWarning: promote has been superseded by mode='default'.\u001b[32m [repeated 5x across cluster]\u001b[0m\n",
      "\u001b[36m(MapWorker(MapBatches(process_data)->MapBatches(UpserterConcurrent)) pid=46641, ip=10.0.0.57)\u001b[0m   return transform_pyarrow.concat(tables)\u001b[32m [repeated 5x across cluster]\u001b[0m\n",
      "\u001b[36m(MapWorker(MapBatches(process_data)->MapBatches(UpserterConcurrent)) pid=1215867)\u001b[0m /home/ray/anaconda3/lib/python3.10/site-packages/ray/data/_internal/arrow_block.py:148: FutureWarning: promote has been superseded by mode='default'.\u001b[32m [repeated 5x across cluster]\u001b[0m\n",
      "\u001b[36m(MapWorker(MapBatches(process_data)->MapBatches(UpserterConcurrent)) pid=1215867)\u001b[0m   return transform_pyarrow.concat(tables)\u001b[32m [repeated 5x across cluster]\u001b[0m\n",
      "\u001b[36m(MapWorker(MapBatches(process_data)->MapBatches(UpserterConcurrent)) pid=46641, ip=10.0.0.57)\u001b[0m /home/ray/anaconda3/lib/python3.10/site-packages/ray/data/_internal/arrow_block.py:148: FutureWarning: promote has been superseded by mode='default'.\u001b[32m [repeated 5x across cluster]\u001b[0m\n",
      "\u001b[36m(MapWorker(MapBatches(process_data)->MapBatches(UpserterConcurrent)) pid=46641, ip=10.0.0.57)\u001b[0m   return transform_pyarrow.concat(tables)\u001b[32m [repeated 5x across cluster]\u001b[0m\n",
      "\u001b[36m(MapWorker(MapBatches(process_data)->MapBatches(UpserterConcurrent)) pid=1215867)\u001b[0m /home/ray/anaconda3/lib/python3.10/site-packages/ray/data/_internal/arrow_block.py:148: FutureWarning: promote has been superseded by mode='default'.\u001b[32m [repeated 5x across cluster]\u001b[0m\n",
      "\u001b[36m(MapWorker(MapBatches(process_data)->MapBatches(UpserterConcurrent)) pid=1215867)\u001b[0m   return transform_pyarrow.concat(tables)\u001b[32m [repeated 5x across cluster]\u001b[0m\n",
      "\u001b[36m(MapWorker(MapBatches(process_data)->MapBatches(UpserterConcurrent)) pid=1215867)\u001b[0m /home/ray/anaconda3/lib/python3.10/site-packages/ray/data/_internal/arrow_block.py:148: FutureWarning: promote has been superseded by mode='default'.\u001b[32m [repeated 5x across cluster]\u001b[0m\n",
      "\u001b[36m(MapWorker(MapBatches(process_data)->MapBatches(UpserterConcurrent)) pid=1215867)\u001b[0m   return transform_pyarrow.concat(tables)\u001b[32m [repeated 5x across cluster]\u001b[0m\n",
      "\u001b[36m(MapWorker(MapBatches(process_data)->MapBatches(UpserterConcurrent)) pid=45188, ip=10.0.0.17)\u001b[0m /home/ray/anaconda3/lib/python3.10/site-packages/ray/data/_internal/arrow_block.py:148: FutureWarning: promote has been superseded by mode='default'.\u001b[32m [repeated 5x across cluster]\u001b[0m\n",
      "\u001b[36m(MapWorker(MapBatches(process_data)->MapBatches(UpserterConcurrent)) pid=45188, ip=10.0.0.17)\u001b[0m   return transform_pyarrow.concat(tables)\u001b[32m [repeated 5x across cluster]\u001b[0m\n",
      "\u001b[36m(MapWorker(MapBatches(process_data)->MapBatches(UpserterConcurrent)) pid=45188, ip=10.0.0.17)\u001b[0m /home/ray/anaconda3/lib/python3.10/site-packages/ray/data/_internal/arrow_block.py:148: FutureWarning: promote has been superseded by mode='default'.\u001b[32m [repeated 5x across cluster]\u001b[0m\n",
      "\u001b[36m(MapWorker(MapBatches(process_data)->MapBatches(UpserterConcurrent)) pid=45188, ip=10.0.0.17)\u001b[0m   return transform_pyarrow.concat(tables)\u001b[32m [repeated 5x across cluster]\u001b[0m\n",
      "\u001b[36m(MapWorker(MapBatches(process_data)->MapBatches(UpserterConcurrent)) pid=44830, ip=10.0.0.17)\u001b[0m /home/ray/anaconda3/lib/python3.10/site-packages/ray/data/_internal/arrow_block.py:148: FutureWarning: promote has been superseded by mode='default'.\u001b[32m [repeated 5x across cluster]\u001b[0m\n",
      "\u001b[36m(MapWorker(MapBatches(process_data)->MapBatches(UpserterConcurrent)) pid=44830, ip=10.0.0.17)\u001b[0m   return transform_pyarrow.concat(tables)\u001b[32m [repeated 5x across cluster]\u001b[0m\n",
      "\u001b[36m(MapWorker(MapBatches(process_data)->MapBatches(UpserterConcurrent)) pid=44830, ip=10.0.0.17)\u001b[0m /home/ray/anaconda3/lib/python3.10/site-packages/ray/data/_internal/arrow_block.py:148: FutureWarning: promote has been superseded by mode='default'.\u001b[32m [repeated 5x across cluster]\u001b[0m\n",
      "\u001b[36m(MapWorker(MapBatches(process_data)->MapBatches(UpserterConcurrent)) pid=44830, ip=10.0.0.17)\u001b[0m   return transform_pyarrow.concat(tables)\u001b[32m [repeated 5x across cluster]\u001b[0m\n",
      "\u001b[36m(MapWorker(MapBatches(process_data)->MapBatches(UpserterConcurrent)) pid=44830, ip=10.0.0.17)\u001b[0m /home/ray/anaconda3/lib/python3.10/site-packages/ray/data/_internal/arrow_block.py:148: FutureWarning: promote has been superseded by mode='default'.\u001b[32m [repeated 5x across cluster]\u001b[0m\n",
      "\u001b[36m(MapWorker(MapBatches(process_data)->MapBatches(UpserterConcurrent)) pid=44830, ip=10.0.0.17)\u001b[0m   return transform_pyarrow.concat(tables)\u001b[32m [repeated 5x across cluster]\u001b[0m\n",
      "\u001b[36m(MapWorker(MapBatches(process_data)->MapBatches(UpserterConcurrent)) pid=44830, ip=10.0.0.17)\u001b[0m /home/ray/anaconda3/lib/python3.10/site-packages/ray/data/_internal/arrow_block.py:148: FutureWarning: promote has been superseded by mode='default'.\u001b[32m [repeated 5x across cluster]\u001b[0m\n",
      "\u001b[36m(MapWorker(MapBatches(process_data)->MapBatches(UpserterConcurrent)) pid=44830, ip=10.0.0.17)\u001b[0m   return transform_pyarrow.concat(tables)\u001b[32m [repeated 5x across cluster]\u001b[0m\n",
      "\u001b[36m(MapWorker(MapBatches(process_data)->MapBatches(UpserterConcurrent)) pid=44830, ip=10.0.0.17)\u001b[0m /home/ray/anaconda3/lib/python3.10/site-packages/ray/data/_internal/arrow_block.py:148: FutureWarning: promote has been superseded by mode='default'.\u001b[32m [repeated 5x across cluster]\u001b[0m\n",
      "\u001b[36m(MapWorker(MapBatches(process_data)->MapBatches(UpserterConcurrent)) pid=44830, ip=10.0.0.17)\u001b[0m   return transform_pyarrow.concat(tables)\u001b[32m [repeated 5x across cluster]\u001b[0m\n",
      "\u001b[36m(MapWorker(MapBatches(process_data)->MapBatches(UpserterConcurrent)) pid=44830, ip=10.0.0.17)\u001b[0m /home/ray/anaconda3/lib/python3.10/site-packages/ray/data/_internal/arrow_block.py:148: FutureWarning: promote has been superseded by mode='default'.\u001b[32m [repeated 5x across cluster]\u001b[0m\n",
      "\u001b[36m(MapWorker(MapBatches(process_data)->MapBatches(UpserterConcurrent)) pid=44830, ip=10.0.0.17)\u001b[0m   return transform_pyarrow.concat(tables)\u001b[32m [repeated 5x across cluster]\u001b[0m\n",
      "\u001b[36m(MapWorker(MapBatches(process_data)->MapBatches(UpserterConcurrent)) pid=45188, ip=10.0.0.17)\u001b[0m /home/ray/anaconda3/lib/python3.10/site-packages/ray/data/_internal/arrow_block.py:148: FutureWarning: promote has been superseded by mode='default'.\u001b[32m [repeated 6x across cluster]\u001b[0m\n",
      "\u001b[36m(MapWorker(MapBatches(process_data)->MapBatches(UpserterConcurrent)) pid=45188, ip=10.0.0.17)\u001b[0m   return transform_pyarrow.concat(tables)\u001b[32m [repeated 6x across cluster]\u001b[0m\n",
      "\u001b[36m(MapWorker(MapBatches(process_data)->MapBatches(UpserterConcurrent)) pid=45188, ip=10.0.0.17)\u001b[0m /home/ray/anaconda3/lib/python3.10/site-packages/ray/data/_internal/arrow_block.py:148: FutureWarning: promote has been superseded by mode='default'.\u001b[32m [repeated 5x across cluster]\u001b[0m\n",
      "\u001b[36m(MapWorker(MapBatches(process_data)->MapBatches(UpserterConcurrent)) pid=45188, ip=10.0.0.17)\u001b[0m   return transform_pyarrow.concat(tables)\u001b[32m [repeated 5x across cluster]\u001b[0m\n",
      "\u001b[36m(MapWorker(MapBatches(process_data)->MapBatches(UpserterConcurrent)) pid=1215867)\u001b[0m /home/ray/anaconda3/lib/python3.10/site-packages/ray/data/_internal/arrow_block.py:148: FutureWarning: promote has been superseded by mode='default'.\u001b[32m [repeated 4x across cluster]\u001b[0m\n",
      "\u001b[36m(MapWorker(MapBatches(process_data)->MapBatches(UpserterConcurrent)) pid=1215867)\u001b[0m   return transform_pyarrow.concat(tables)\u001b[32m [repeated 4x across cluster]\u001b[0m\n",
      "\u001b[36m(MapWorker(MapBatches(process_data)->MapBatches(UpserterConcurrent)) pid=1215867)\u001b[0m /home/ray/anaconda3/lib/python3.10/site-packages/ray/data/_internal/arrow_block.py:148: FutureWarning: promote has been superseded by mode='default'.\u001b[32m [repeated 4x across cluster]\u001b[0m\n",
      "\u001b[36m(MapWorker(MapBatches(process_data)->MapBatches(UpserterConcurrent)) pid=1215867)\u001b[0m   return transform_pyarrow.concat(tables)\u001b[32m [repeated 4x across cluster]\u001b[0m\n",
      "\u001b[36m(MapWorker(MapBatches(process_data)->MapBatches(UpserterConcurrent)) pid=45188, ip=10.0.0.17)\u001b[0m /home/ray/anaconda3/lib/python3.10/site-packages/ray/data/_internal/arrow_block.py:148: FutureWarning: promote has been superseded by mode='default'.\u001b[32m [repeated 5x across cluster]\u001b[0m\n",
      "\u001b[36m(MapWorker(MapBatches(process_data)->MapBatches(UpserterConcurrent)) pid=45188, ip=10.0.0.17)\u001b[0m   return transform_pyarrow.concat(tables)\u001b[32m [repeated 5x across cluster]\u001b[0m\n",
      "\u001b[36m(MapWorker(MapBatches(process_data)->MapBatches(UpserterConcurrent)) pid=45188, ip=10.0.0.17)\u001b[0m /home/ray/anaconda3/lib/python3.10/site-packages/ray/data/_internal/arrow_block.py:148: FutureWarning: promote has been superseded by mode='default'.\u001b[32m [repeated 5x across cluster]\u001b[0m\n",
      "\u001b[36m(MapWorker(MapBatches(process_data)->MapBatches(UpserterConcurrent)) pid=45188, ip=10.0.0.17)\u001b[0m   return transform_pyarrow.concat(tables)\u001b[32m [repeated 5x across cluster]\u001b[0m\n",
      "\u001b[36m(MapWorker(MapBatches(process_data)->MapBatches(UpserterConcurrent)) pid=44830, ip=10.0.0.17)\u001b[0m /home/ray/anaconda3/lib/python3.10/site-packages/ray/data/_internal/arrow_block.py:148: FutureWarning: promote has been superseded by mode='default'.\u001b[32m [repeated 6x across cluster]\u001b[0m\n",
      "\u001b[36m(MapWorker(MapBatches(process_data)->MapBatches(UpserterConcurrent)) pid=44830, ip=10.0.0.17)\u001b[0m   return transform_pyarrow.concat(tables)\u001b[32m [repeated 6x across cluster]\u001b[0m\n",
      "\u001b[36m(MapWorker(MapBatches(process_data)->MapBatches(UpserterConcurrent)) pid=45188, ip=10.0.0.17)\u001b[0m /home/ray/anaconda3/lib/python3.10/site-packages/ray/data/_internal/arrow_block.py:148: FutureWarning: promote has been superseded by mode='default'.\u001b[32m [repeated 4x across cluster]\u001b[0m\n",
      "\u001b[36m(MapWorker(MapBatches(process_data)->MapBatches(UpserterConcurrent)) pid=45188, ip=10.0.0.17)\u001b[0m   return transform_pyarrow.concat(tables)\u001b[32m [repeated 4x across cluster]\u001b[0m\n",
      "\u001b[36m(MapWorker(MapBatches(process_data)->MapBatches(UpserterConcurrent)) pid=44830, ip=10.0.0.17)\u001b[0m /home/ray/anaconda3/lib/python3.10/site-packages/ray/data/_internal/arrow_block.py:148: FutureWarning: promote has been superseded by mode='default'.\u001b[32m [repeated 5x across cluster]\u001b[0m\n",
      "\u001b[36m(MapWorker(MapBatches(process_data)->MapBatches(UpserterConcurrent)) pid=44830, ip=10.0.0.17)\u001b[0m   return transform_pyarrow.concat(tables)\u001b[32m [repeated 5x across cluster]\u001b[0m\n",
      "\u001b[36m(MapWorker(MapBatches(process_data)->MapBatches(UpserterConcurrent)) pid=44830, ip=10.0.0.17)\u001b[0m /home/ray/anaconda3/lib/python3.10/site-packages/ray/data/_internal/arrow_block.py:148: FutureWarning: promote has been superseded by mode='default'.\u001b[32m [repeated 5x across cluster]\u001b[0m\n",
      "\u001b[36m(MapWorker(MapBatches(process_data)->MapBatches(UpserterConcurrent)) pid=44830, ip=10.0.0.17)\u001b[0m   return transform_pyarrow.concat(tables)\u001b[32m [repeated 5x across cluster]\u001b[0m\n",
      "\u001b[36m(MapWorker(MapBatches(process_data)->MapBatches(UpserterConcurrent)) pid=45188, ip=10.0.0.17)\u001b[0m /home/ray/anaconda3/lib/python3.10/site-packages/ray/data/_internal/arrow_block.py:148: FutureWarning: promote has been superseded by mode='default'.\u001b[32m [repeated 5x across cluster]\u001b[0m\n",
      "\u001b[36m(MapWorker(MapBatches(process_data)->MapBatches(UpserterConcurrent)) pid=45188, ip=10.0.0.17)\u001b[0m   return transform_pyarrow.concat(tables)\u001b[32m [repeated 5x across cluster]\u001b[0m\n",
      "\u001b[36m(MapWorker(MapBatches(process_data)->MapBatches(UpserterConcurrent)) pid=45188, ip=10.0.0.17)\u001b[0m /home/ray/anaconda3/lib/python3.10/site-packages/ray/data/_internal/arrow_block.py:148: FutureWarning: promote has been superseded by mode='default'.\u001b[32m [repeated 5x across cluster]\u001b[0m\n",
      "\u001b[36m(MapWorker(MapBatches(process_data)->MapBatches(UpserterConcurrent)) pid=45188, ip=10.0.0.17)\u001b[0m   return transform_pyarrow.concat(tables)\u001b[32m [repeated 5x across cluster]\u001b[0m\n",
      "\u001b[36m(MapWorker(MapBatches(process_data)->MapBatches(UpserterConcurrent)) pid=15918, ip=10.0.0.63)\u001b[0m /home/ray/anaconda3/lib/python3.10/site-packages/ray/data/_internal/arrow_block.py:148: FutureWarning: promote has been superseded by mode='default'.\u001b[32m [repeated 4x across cluster]\u001b[0m\n",
      "\u001b[36m(MapWorker(MapBatches(process_data)->MapBatches(UpserterConcurrent)) pid=15918, ip=10.0.0.63)\u001b[0m   return transform_pyarrow.concat(tables)\u001b[32m [repeated 4x across cluster]\u001b[0m\n",
      "\u001b[36m(MapWorker(MapBatches(process_data)->MapBatches(UpserterConcurrent)) pid=46641, ip=10.0.0.57)\u001b[0m /home/ray/anaconda3/lib/python3.10/site-packages/ray/data/_internal/arrow_block.py:148: FutureWarning: promote has been superseded by mode='default'.\u001b[32m [repeated 4x across cluster]\u001b[0m\n",
      "\u001b[36m(MapWorker(MapBatches(process_data)->MapBatches(UpserterConcurrent)) pid=46641, ip=10.0.0.57)\u001b[0m   return transform_pyarrow.concat(tables)\u001b[32m [repeated 4x across cluster]\u001b[0m\n",
      "\u001b[36m(MapWorker(MapBatches(process_data)->MapBatches(UpserterConcurrent)) pid=46641, ip=10.0.0.57)\u001b[0m /home/ray/anaconda3/lib/python3.10/site-packages/ray/data/_internal/arrow_block.py:148: FutureWarning: promote has been superseded by mode='default'.\u001b[32m [repeated 4x across cluster]\u001b[0m\n",
      "\u001b[36m(MapWorker(MapBatches(process_data)->MapBatches(UpserterConcurrent)) pid=46641, ip=10.0.0.57)\u001b[0m   return transform_pyarrow.concat(tables)\u001b[32m [repeated 4x across cluster]\u001b[0m\n",
      "\u001b[36m(MapWorker(MapBatches(process_data)->MapBatches(UpserterConcurrent)) pid=44830, ip=10.0.0.17)\u001b[0m /home/ray/anaconda3/lib/python3.10/site-packages/ray/data/_internal/arrow_block.py:148: FutureWarning: promote has been superseded by mode='default'.\u001b[32m [repeated 6x across cluster]\u001b[0m\n",
      "\u001b[36m(MapWorker(MapBatches(process_data)->MapBatches(UpserterConcurrent)) pid=44830, ip=10.0.0.17)\u001b[0m   return transform_pyarrow.concat(tables)\u001b[32m [repeated 6x across cluster]\u001b[0m\n",
      "\u001b[36m(MapWorker(MapBatches(process_data)->MapBatches(UpserterConcurrent)) pid=46641, ip=10.0.0.57)\u001b[0m /home/ray/anaconda3/lib/python3.10/site-packages/ray/data/_internal/arrow_block.py:148: FutureWarning: promote has been superseded by mode='default'.\u001b[32m [repeated 3x across cluster]\u001b[0m\n",
      "\u001b[36m(MapWorker(MapBatches(process_data)->MapBatches(UpserterConcurrent)) pid=46641, ip=10.0.0.57)\u001b[0m   return transform_pyarrow.concat(tables)\u001b[32m [repeated 3x across cluster]\u001b[0m\n",
      "\u001b[36m(MapWorker(MapBatches(process_data)->MapBatches(UpserterConcurrent)) pid=45188, ip=10.0.0.17)\u001b[0m /home/ray/anaconda3/lib/python3.10/site-packages/ray/data/_internal/arrow_block.py:148: FutureWarning: promote has been superseded by mode='default'.\u001b[32m [repeated 3x across cluster]\u001b[0m\n",
      "\u001b[36m(MapWorker(MapBatches(process_data)->MapBatches(UpserterConcurrent)) pid=45188, ip=10.0.0.17)\u001b[0m   return transform_pyarrow.concat(tables)\u001b[32m [repeated 3x across cluster]\u001b[0m\n",
      "\u001b[36m(MapWorker(MapBatches(process_data)->MapBatches(UpserterConcurrent)) pid=46641, ip=10.0.0.57)\u001b[0m /home/ray/anaconda3/lib/python3.10/site-packages/ray/data/_internal/arrow_block.py:148: FutureWarning: promote has been superseded by mode='default'.\u001b[32m [repeated 5x across cluster]\u001b[0m\n",
      "\u001b[36m(MapWorker(MapBatches(process_data)->MapBatches(UpserterConcurrent)) pid=46641, ip=10.0.0.57)\u001b[0m   return transform_pyarrow.concat(tables)\u001b[32m [repeated 5x across cluster]\u001b[0m\n",
      "\u001b[36m(MapWorker(MapBatches(process_data)->MapBatches(UpserterConcurrent)) pid=45188, ip=10.0.0.17)\u001b[0m /home/ray/anaconda3/lib/python3.10/site-packages/ray/data/_internal/arrow_block.py:148: FutureWarning: promote has been superseded by mode='default'.\u001b[32m [repeated 5x across cluster]\u001b[0m\n",
      "\u001b[36m(MapWorker(MapBatches(process_data)->MapBatches(UpserterConcurrent)) pid=45188, ip=10.0.0.17)\u001b[0m   return transform_pyarrow.concat(tables)\u001b[32m [repeated 5x across cluster]\u001b[0m\n",
      "\u001b[36m(MapWorker(MapBatches(process_data)->MapBatches(UpserterConcurrent)) pid=46641, ip=10.0.0.57)\u001b[0m /home/ray/anaconda3/lib/python3.10/site-packages/ray/data/_internal/arrow_block.py:148: FutureWarning: promote has been superseded by mode='default'.\u001b[32m [repeated 5x across cluster]\u001b[0m\n",
      "\u001b[36m(MapWorker(MapBatches(process_data)->MapBatches(UpserterConcurrent)) pid=46641, ip=10.0.0.57)\u001b[0m   return transform_pyarrow.concat(tables)\u001b[32m [repeated 5x across cluster]\u001b[0m\n",
      "\u001b[36m(MapWorker(MapBatches(process_data)->MapBatches(UpserterConcurrent)) pid=46641, ip=10.0.0.57)\u001b[0m /home/ray/anaconda3/lib/python3.10/site-packages/ray/data/_internal/arrow_block.py:148: FutureWarning: promote has been superseded by mode='default'.\u001b[32m [repeated 5x across cluster]\u001b[0m\n",
      "\u001b[36m(MapWorker(MapBatches(process_data)->MapBatches(UpserterConcurrent)) pid=46641, ip=10.0.0.57)\u001b[0m   return transform_pyarrow.concat(tables)\u001b[32m [repeated 5x across cluster]\u001b[0m\n",
      "\u001b[36m(MapWorker(MapBatches(process_data)->MapBatches(UpserterConcurrent)) pid=46641, ip=10.0.0.57)\u001b[0m /home/ray/anaconda3/lib/python3.10/site-packages/ray/data/_internal/arrow_block.py:148: FutureWarning: promote has been superseded by mode='default'.\u001b[32m [repeated 5x across cluster]\u001b[0m\n",
      "\u001b[36m(MapWorker(MapBatches(process_data)->MapBatches(UpserterConcurrent)) pid=46641, ip=10.0.0.57)\u001b[0m   return transform_pyarrow.concat(tables)\u001b[32m [repeated 5x across cluster]\u001b[0m\n",
      "\u001b[36m(MapWorker(MapBatches(process_data)->MapBatches(UpserterConcurrent)) pid=15918, ip=10.0.0.63)\u001b[0m /home/ray/anaconda3/lib/python3.10/site-packages/ray/data/_internal/arrow_block.py:148: FutureWarning: promote has been superseded by mode='default'.\u001b[32m [repeated 5x across cluster]\u001b[0m\n",
      "\u001b[36m(MapWorker(MapBatches(process_data)->MapBatches(UpserterConcurrent)) pid=15918, ip=10.0.0.63)\u001b[0m   return transform_pyarrow.concat(tables)\u001b[32m [repeated 5x across cluster]\u001b[0m\n",
      "\u001b[36m(MapWorker(MapBatches(process_data)->MapBatches(UpserterConcurrent)) pid=15918, ip=10.0.0.63)\u001b[0m /home/ray/anaconda3/lib/python3.10/site-packages/ray/data/_internal/arrow_block.py:148: FutureWarning: promote has been superseded by mode='default'.\u001b[32m [repeated 5x across cluster]\u001b[0m\n",
      "\u001b[36m(MapWorker(MapBatches(process_data)->MapBatches(UpserterConcurrent)) pid=15918, ip=10.0.0.63)\u001b[0m   return transform_pyarrow.concat(tables)\u001b[32m [repeated 5x across cluster]\u001b[0m\n",
      "\u001b[36m(MapWorker(MapBatches(process_data)->MapBatches(UpserterConcurrent)) pid=45188, ip=10.0.0.17)\u001b[0m /home/ray/anaconda3/lib/python3.10/site-packages/ray/data/_internal/arrow_block.py:148: FutureWarning: promote has been superseded by mode='default'.\u001b[32m [repeated 5x across cluster]\u001b[0m\n",
      "\u001b[36m(MapWorker(MapBatches(process_data)->MapBatches(UpserterConcurrent)) pid=45188, ip=10.0.0.17)\u001b[0m   return transform_pyarrow.concat(tables)\u001b[32m [repeated 5x across cluster]\u001b[0m\n",
      "\u001b[36m(MapWorker(MapBatches(process_data)->MapBatches(UpserterConcurrent)) pid=15918, ip=10.0.0.63)\u001b[0m /home/ray/anaconda3/lib/python3.10/site-packages/ray/data/_internal/arrow_block.py:148: FutureWarning: promote has been superseded by mode='default'.\u001b[32m [repeated 6x across cluster]\u001b[0m\n",
      "\u001b[36m(MapWorker(MapBatches(process_data)->MapBatches(UpserterConcurrent)) pid=15918, ip=10.0.0.63)\u001b[0m   return transform_pyarrow.concat(tables)\u001b[32m [repeated 6x across cluster]\u001b[0m\n",
      "\u001b[36m(MapWorker(MapBatches(process_data)->MapBatches(UpserterConcurrent)) pid=45188, ip=10.0.0.17)\u001b[0m /home/ray/anaconda3/lib/python3.10/site-packages/ray/data/_internal/arrow_block.py:148: FutureWarning: promote has been superseded by mode='default'.\u001b[32m [repeated 6x across cluster]\u001b[0m\n",
      "\u001b[36m(MapWorker(MapBatches(process_data)->MapBatches(UpserterConcurrent)) pid=45188, ip=10.0.0.17)\u001b[0m   return transform_pyarrow.concat(tables)\u001b[32m [repeated 6x across cluster]\u001b[0m\n",
      "\u001b[36m(MapWorker(MapBatches(process_data)->MapBatches(UpserterConcurrent)) pid=45188, ip=10.0.0.17)\u001b[0m /home/ray/anaconda3/lib/python3.10/site-packages/ray/data/_internal/arrow_block.py:148: FutureWarning: promote has been superseded by mode='default'.\u001b[32m [repeated 5x across cluster]\u001b[0m\n",
      "\u001b[36m(MapWorker(MapBatches(process_data)->MapBatches(UpserterConcurrent)) pid=45188, ip=10.0.0.17)\u001b[0m   return transform_pyarrow.concat(tables)\u001b[32m [repeated 5x across cluster]\u001b[0m\n",
      "\u001b[36m(MapWorker(MapBatches(process_data)->MapBatches(UpserterConcurrent)) pid=45188, ip=10.0.0.17)\u001b[0m /home/ray/anaconda3/lib/python3.10/site-packages/ray/data/_internal/arrow_block.py:148: FutureWarning: promote has been superseded by mode='default'.\u001b[32m [repeated 5x across cluster]\u001b[0m\n",
      "\u001b[36m(MapWorker(MapBatches(process_data)->MapBatches(UpserterConcurrent)) pid=45188, ip=10.0.0.17)\u001b[0m   return transform_pyarrow.concat(tables)\u001b[32m [repeated 5x across cluster]\u001b[0m\n",
      "\u001b[36m(MapWorker(MapBatches(process_data)->MapBatches(UpserterConcurrent)) pid=45188, ip=10.0.0.17)\u001b[0m /home/ray/anaconda3/lib/python3.10/site-packages/ray/data/_internal/arrow_block.py:148: FutureWarning: promote has been superseded by mode='default'.\u001b[32m [repeated 5x across cluster]\u001b[0m\n",
      "\u001b[36m(MapWorker(MapBatches(process_data)->MapBatches(UpserterConcurrent)) pid=45188, ip=10.0.0.17)\u001b[0m   return transform_pyarrow.concat(tables)\u001b[32m [repeated 5x across cluster]\u001b[0m\n",
      "\u001b[36m(MapWorker(MapBatches(process_data)->MapBatches(UpserterConcurrent)) pid=46641, ip=10.0.0.57)\u001b[0m /home/ray/anaconda3/lib/python3.10/site-packages/ray/data/_internal/arrow_block.py:148: FutureWarning: promote has been superseded by mode='default'.\u001b[32m [repeated 5x across cluster]\u001b[0m\n",
      "\u001b[36m(MapWorker(MapBatches(process_data)->MapBatches(UpserterConcurrent)) pid=46641, ip=10.0.0.57)\u001b[0m   return transform_pyarrow.concat(tables)\u001b[32m [repeated 5x across cluster]\u001b[0m\n",
      "\u001b[36m(MapWorker(MapBatches(process_data)->MapBatches(UpserterConcurrent)) pid=44830, ip=10.0.0.17)\u001b[0m /home/ray/anaconda3/lib/python3.10/site-packages/ray/data/_internal/arrow_block.py:148: FutureWarning: promote has been superseded by mode='default'.\u001b[32m [repeated 6x across cluster]\u001b[0m\n",
      "\u001b[36m(MapWorker(MapBatches(process_data)->MapBatches(UpserterConcurrent)) pid=44830, ip=10.0.0.17)\u001b[0m   return transform_pyarrow.concat(tables)\u001b[32m [repeated 6x across cluster]\u001b[0m\n",
      "\u001b[36m(MapWorker(MapBatches(process_data)->MapBatches(UpserterConcurrent)) pid=1215867)\u001b[0m /home/ray/anaconda3/lib/python3.10/site-packages/ray/data/_internal/arrow_block.py:148: FutureWarning: promote has been superseded by mode='default'.\u001b[32m [repeated 5x across cluster]\u001b[0m\n",
      "\u001b[36m(MapWorker(MapBatches(process_data)->MapBatches(UpserterConcurrent)) pid=1215867)\u001b[0m   return transform_pyarrow.concat(tables)\u001b[32m [repeated 5x across cluster]\u001b[0m\n",
      "\u001b[36m(MapWorker(MapBatches(process_data)->MapBatches(UpserterConcurrent)) pid=46641, ip=10.0.0.57)\u001b[0m /home/ray/anaconda3/lib/python3.10/site-packages/ray/data/_internal/arrow_block.py:148: FutureWarning: promote has been superseded by mode='default'.\u001b[32m [repeated 4x across cluster]\u001b[0m\n",
      "\u001b[36m(MapWorker(MapBatches(process_data)->MapBatches(UpserterConcurrent)) pid=46641, ip=10.0.0.57)\u001b[0m   return transform_pyarrow.concat(tables)\u001b[32m [repeated 4x across cluster]\u001b[0m\n",
      "\u001b[36m(MapWorker(MapBatches(process_data)->MapBatches(UpserterConcurrent)) pid=46641, ip=10.0.0.57)\u001b[0m /home/ray/anaconda3/lib/python3.10/site-packages/ray/data/_internal/arrow_block.py:148: FutureWarning: promote has been superseded by mode='default'.\u001b[32m [repeated 5x across cluster]\u001b[0m\n",
      "\u001b[36m(MapWorker(MapBatches(process_data)->MapBatches(UpserterConcurrent)) pid=46641, ip=10.0.0.57)\u001b[0m   return transform_pyarrow.concat(tables)\u001b[32m [repeated 5x across cluster]\u001b[0m\n",
      "\u001b[36m(MapWorker(MapBatches(process_data)->MapBatches(UpserterConcurrent)) pid=44830, ip=10.0.0.17)\u001b[0m /home/ray/anaconda3/lib/python3.10/site-packages/ray/data/_internal/arrow_block.py:148: FutureWarning: promote has been superseded by mode='default'.\u001b[32m [repeated 6x across cluster]\u001b[0m\n",
      "\u001b[36m(MapWorker(MapBatches(process_data)->MapBatches(UpserterConcurrent)) pid=44830, ip=10.0.0.17)\u001b[0m   return transform_pyarrow.concat(tables)\u001b[32m [repeated 6x across cluster]\u001b[0m\n",
      "\u001b[36m(MapWorker(MapBatches(process_data)->MapBatches(UpserterConcurrent)) pid=44830, ip=10.0.0.17)\u001b[0m /home/ray/anaconda3/lib/python3.10/site-packages/ray/data/_internal/arrow_block.py:148: FutureWarning: promote has been superseded by mode='default'.\u001b[32m [repeated 5x across cluster]\u001b[0m\n",
      "\u001b[36m(MapWorker(MapBatches(process_data)->MapBatches(UpserterConcurrent)) pid=44830, ip=10.0.0.17)\u001b[0m   return transform_pyarrow.concat(tables)\u001b[32m [repeated 5x across cluster]\u001b[0m\n",
      "\u001b[36m(MapWorker(MapBatches(process_data)->MapBatches(UpserterConcurrent)) pid=46641, ip=10.0.0.57)\u001b[0m /home/ray/anaconda3/lib/python3.10/site-packages/ray/data/_internal/arrow_block.py:148: FutureWarning: promote has been superseded by mode='default'.\u001b[32m [repeated 6x across cluster]\u001b[0m\n",
      "\u001b[36m(MapWorker(MapBatches(process_data)->MapBatches(UpserterConcurrent)) pid=46641, ip=10.0.0.57)\u001b[0m   return transform_pyarrow.concat(tables)\u001b[32m [repeated 6x across cluster]\u001b[0m\n",
      "\u001b[36m(MapWorker(MapBatches(process_data)->MapBatches(UpserterConcurrent)) pid=44830, ip=10.0.0.17)\u001b[0m /home/ray/anaconda3/lib/python3.10/site-packages/ray/data/_internal/arrow_block.py:148: FutureWarning: promote has been superseded by mode='default'.\u001b[32m [repeated 4x across cluster]\u001b[0m\n",
      "\u001b[36m(MapWorker(MapBatches(process_data)->MapBatches(UpserterConcurrent)) pid=44830, ip=10.0.0.17)\u001b[0m   return transform_pyarrow.concat(tables)\u001b[32m [repeated 4x across cluster]\u001b[0m\n",
      "\u001b[36m(MapWorker(MapBatches(process_data)->MapBatches(UpserterConcurrent)) pid=44830, ip=10.0.0.17)\u001b[0m /home/ray/anaconda3/lib/python3.10/site-packages/ray/data/_internal/arrow_block.py:148: FutureWarning: promote has been superseded by mode='default'.\u001b[32m [repeated 5x across cluster]\u001b[0m\n",
      "\u001b[36m(MapWorker(MapBatches(process_data)->MapBatches(UpserterConcurrent)) pid=44830, ip=10.0.0.17)\u001b[0m   return transform_pyarrow.concat(tables)\u001b[32m [repeated 5x across cluster]\u001b[0m\n",
      "\u001b[36m(MapWorker(MapBatches(process_data)->MapBatches(UpserterConcurrent)) pid=45188, ip=10.0.0.17)\u001b[0m /home/ray/anaconda3/lib/python3.10/site-packages/ray/data/_internal/arrow_block.py:148: FutureWarning: promote has been superseded by mode='default'.\u001b[32m [repeated 5x across cluster]\u001b[0m\n",
      "\u001b[36m(MapWorker(MapBatches(process_data)->MapBatches(UpserterConcurrent)) pid=45188, ip=10.0.0.17)\u001b[0m   return transform_pyarrow.concat(tables)\u001b[32m [repeated 5x across cluster]\u001b[0m\n",
      "\u001b[36m(MapWorker(MapBatches(process_data)->MapBatches(UpserterConcurrent)) pid=46641, ip=10.0.0.57)\u001b[0m /home/ray/anaconda3/lib/python3.10/site-packages/ray/data/_internal/arrow_block.py:148: FutureWarning: promote has been superseded by mode='default'.\u001b[32m [repeated 6x across cluster]\u001b[0m\n",
      "\u001b[36m(MapWorker(MapBatches(process_data)->MapBatches(UpserterConcurrent)) pid=46641, ip=10.0.0.57)\u001b[0m   return transform_pyarrow.concat(tables)\u001b[32m [repeated 6x across cluster]\u001b[0m\n",
      "\u001b[36m(MapWorker(MapBatches(process_data)->MapBatches(UpserterConcurrent)) pid=15918, ip=10.0.0.63)\u001b[0m /home/ray/anaconda3/lib/python3.10/site-packages/ray/data/_internal/arrow_block.py:148: FutureWarning: promote has been superseded by mode='default'.\u001b[32m [repeated 6x across cluster]\u001b[0m\n",
      "\u001b[36m(MapWorker(MapBatches(process_data)->MapBatches(UpserterConcurrent)) pid=15918, ip=10.0.0.63)\u001b[0m   return transform_pyarrow.concat(tables)\u001b[32m [repeated 6x across cluster]\u001b[0m\n",
      "\u001b[36m(MapWorker(MapBatches(process_data)->MapBatches(UpserterConcurrent)) pid=44830, ip=10.0.0.17)\u001b[0m /home/ray/anaconda3/lib/python3.10/site-packages/ray/data/_internal/arrow_block.py:148: FutureWarning: promote has been superseded by mode='default'.\u001b[32m [repeated 3x across cluster]\u001b[0m\n",
      "\u001b[36m(MapWorker(MapBatches(process_data)->MapBatches(UpserterConcurrent)) pid=44830, ip=10.0.0.17)\u001b[0m   return transform_pyarrow.concat(tables)\u001b[32m [repeated 3x across cluster]\u001b[0m\n",
      "\u001b[36m(MapWorker(MapBatches(process_data)->MapBatches(UpserterConcurrent)) pid=15918, ip=10.0.0.63)\u001b[0m /home/ray/anaconda3/lib/python3.10/site-packages/ray/data/_internal/arrow_block.py:148: FutureWarning: promote has been superseded by mode='default'.\u001b[32m [repeated 5x across cluster]\u001b[0m\n",
      "\u001b[36m(MapWorker(MapBatches(process_data)->MapBatches(UpserterConcurrent)) pid=15918, ip=10.0.0.63)\u001b[0m   return transform_pyarrow.concat(tables)\u001b[32m [repeated 5x across cluster]\u001b[0m\n",
      "\u001b[36m(MapWorker(MapBatches(process_data)->MapBatches(UpserterConcurrent)) pid=44830, ip=10.0.0.17)\u001b[0m /home/ray/anaconda3/lib/python3.10/site-packages/ray/data/_internal/arrow_block.py:148: FutureWarning: promote has been superseded by mode='default'.\u001b[32m [repeated 5x across cluster]\u001b[0m\n",
      "\u001b[36m(MapWorker(MapBatches(process_data)->MapBatches(UpserterConcurrent)) pid=44830, ip=10.0.0.17)\u001b[0m   return transform_pyarrow.concat(tables)\u001b[32m [repeated 5x across cluster]\u001b[0m\n",
      "\u001b[36m(MapWorker(MapBatches(process_data)->MapBatches(UpserterConcurrent)) pid=1215867)\u001b[0m /home/ray/anaconda3/lib/python3.10/site-packages/ray/data/_internal/arrow_block.py:148: FutureWarning: promote has been superseded by mode='default'.\u001b[32m [repeated 5x across cluster]\u001b[0m\n",
      "\u001b[36m(MapWorker(MapBatches(process_data)->MapBatches(UpserterConcurrent)) pid=1215867)\u001b[0m   return transform_pyarrow.concat(tables)\u001b[32m [repeated 5x across cluster]\u001b[0m\n",
      "\u001b[36m(MapWorker(MapBatches(process_data)->MapBatches(UpserterConcurrent)) pid=1215867)\u001b[0m /home/ray/anaconda3/lib/python3.10/site-packages/ray/data/_internal/arrow_block.py:148: FutureWarning: promote has been superseded by mode='default'.\u001b[32m [repeated 4x across cluster]\u001b[0m\n",
      "\u001b[36m(MapWorker(MapBatches(process_data)->MapBatches(UpserterConcurrent)) pid=1215867)\u001b[0m   return transform_pyarrow.concat(tables)\u001b[32m [repeated 4x across cluster]\u001b[0m\n",
      "\u001b[36m(MapWorker(MapBatches(process_data)->MapBatches(UpserterConcurrent)) pid=1215867)\u001b[0m /home/ray/anaconda3/lib/python3.10/site-packages/ray/data/_internal/arrow_block.py:148: FutureWarning: promote has been superseded by mode='default'.\u001b[32m [repeated 5x across cluster]\u001b[0m\n",
      "\u001b[36m(MapWorker(MapBatches(process_data)->MapBatches(UpserterConcurrent)) pid=1215867)\u001b[0m   return transform_pyarrow.concat(tables)\u001b[32m [repeated 5x across cluster]\u001b[0m\n",
      "\u001b[36m(MapWorker(MapBatches(process_data)->MapBatches(UpserterConcurrent)) pid=1215867)\u001b[0m /home/ray/anaconda3/lib/python3.10/site-packages/ray/data/_internal/arrow_block.py:148: FutureWarning: promote has been superseded by mode='default'.\u001b[32m [repeated 5x across cluster]\u001b[0m\n",
      "\u001b[36m(MapWorker(MapBatches(process_data)->MapBatches(UpserterConcurrent)) pid=1215867)\u001b[0m   return transform_pyarrow.concat(tables)\u001b[32m [repeated 5x across cluster]\u001b[0m\n",
      "\u001b[36m(MapWorker(MapBatches(process_data)->MapBatches(UpserterConcurrent)) pid=1215867)\u001b[0m /home/ray/anaconda3/lib/python3.10/site-packages/ray/data/_internal/arrow_block.py:148: FutureWarning: promote has been superseded by mode='default'.\u001b[32m [repeated 5x across cluster]\u001b[0m\n",
      "\u001b[36m(MapWorker(MapBatches(process_data)->MapBatches(UpserterConcurrent)) pid=1215867)\u001b[0m   return transform_pyarrow.concat(tables)\u001b[32m [repeated 5x across cluster]\u001b[0m\n",
      "\u001b[36m(MapWorker(MapBatches(process_data)->MapBatches(UpserterConcurrent)) pid=44830, ip=10.0.0.17)\u001b[0m /home/ray/anaconda3/lib/python3.10/site-packages/ray/data/_internal/arrow_block.py:148: FutureWarning: promote has been superseded by mode='default'.\u001b[32m [repeated 6x across cluster]\u001b[0m\n",
      "\u001b[36m(MapWorker(MapBatches(process_data)->MapBatches(UpserterConcurrent)) pid=44830, ip=10.0.0.17)\u001b[0m   return transform_pyarrow.concat(tables)\u001b[32m [repeated 6x across cluster]\u001b[0m\n",
      "\u001b[36m(MapWorker(MapBatches(process_data)->MapBatches(UpserterConcurrent)) pid=15918, ip=10.0.0.63)\u001b[0m /home/ray/anaconda3/lib/python3.10/site-packages/ray/data/_internal/arrow_block.py:148: FutureWarning: promote has been superseded by mode='default'.\u001b[32m [repeated 5x across cluster]\u001b[0m\n",
      "\u001b[36m(MapWorker(MapBatches(process_data)->MapBatches(UpserterConcurrent)) pid=15918, ip=10.0.0.63)\u001b[0m   return transform_pyarrow.concat(tables)\u001b[32m [repeated 5x across cluster]\u001b[0m\n",
      "\u001b[36m(MapWorker(MapBatches(process_data)->MapBatches(UpserterConcurrent)) pid=44830, ip=10.0.0.17)\u001b[0m /home/ray/anaconda3/lib/python3.10/site-packages/ray/data/_internal/arrow_block.py:148: FutureWarning: promote has been superseded by mode='default'.\u001b[32m [repeated 4x across cluster]\u001b[0m\n",
      "\u001b[36m(MapWorker(MapBatches(process_data)->MapBatches(UpserterConcurrent)) pid=44830, ip=10.0.0.17)\u001b[0m   return transform_pyarrow.concat(tables)\u001b[32m [repeated 4x across cluster]\u001b[0m\n",
      "\u001b[36m(MapWorker(MapBatches(process_data)->MapBatches(UpserterConcurrent)) pid=44830, ip=10.0.0.17)\u001b[0m /home/ray/anaconda3/lib/python3.10/site-packages/ray/data/_internal/arrow_block.py:148: FutureWarning: promote has been superseded by mode='default'.\u001b[32m [repeated 5x across cluster]\u001b[0m\n",
      "\u001b[36m(MapWorker(MapBatches(process_data)->MapBatches(UpserterConcurrent)) pid=44830, ip=10.0.0.17)\u001b[0m   return transform_pyarrow.concat(tables)\u001b[32m [repeated 5x across cluster]\u001b[0m\n",
      "\u001b[36m(MapWorker(MapBatches(process_data)->MapBatches(UpserterConcurrent)) pid=44830, ip=10.0.0.17)\u001b[0m /home/ray/anaconda3/lib/python3.10/site-packages/ray/data/_internal/arrow_block.py:148: FutureWarning: promote has been superseded by mode='default'.\u001b[32m [repeated 5x across cluster]\u001b[0m\n",
      "\u001b[36m(MapWorker(MapBatches(process_data)->MapBatches(UpserterConcurrent)) pid=44830, ip=10.0.0.17)\u001b[0m   return transform_pyarrow.concat(tables)\u001b[32m [repeated 5x across cluster]\u001b[0m\n",
      "\u001b[36m(MapWorker(MapBatches(process_data)->MapBatches(UpserterConcurrent)) pid=44830, ip=10.0.0.17)\u001b[0m /home/ray/anaconda3/lib/python3.10/site-packages/ray/data/_internal/arrow_block.py:148: FutureWarning: promote has been superseded by mode='default'.\u001b[32m [repeated 5x across cluster]\u001b[0m\n",
      "\u001b[36m(MapWorker(MapBatches(process_data)->MapBatches(UpserterConcurrent)) pid=44830, ip=10.0.0.17)\u001b[0m   return transform_pyarrow.concat(tables)\u001b[32m [repeated 5x across cluster]\u001b[0m\n",
      "\u001b[36m(MapWorker(MapBatches(process_data)->MapBatches(UpserterConcurrent)) pid=44830, ip=10.0.0.17)\u001b[0m /home/ray/anaconda3/lib/python3.10/site-packages/ray/data/_internal/arrow_block.py:148: FutureWarning: promote has been superseded by mode='default'.\u001b[32m [repeated 5x across cluster]\u001b[0m\n",
      "\u001b[36m(MapWorker(MapBatches(process_data)->MapBatches(UpserterConcurrent)) pid=44830, ip=10.0.0.17)\u001b[0m   return transform_pyarrow.concat(tables)\u001b[32m [repeated 5x across cluster]\u001b[0m\n",
      "\u001b[36m(MapWorker(MapBatches(process_data)->MapBatches(UpserterConcurrent)) pid=45188, ip=10.0.0.17)\u001b[0m /home/ray/anaconda3/lib/python3.10/site-packages/ray/data/_internal/arrow_block.py:148: FutureWarning: promote has been superseded by mode='default'.\u001b[32m [repeated 5x across cluster]\u001b[0m\n",
      "\u001b[36m(MapWorker(MapBatches(process_data)->MapBatches(UpserterConcurrent)) pid=45188, ip=10.0.0.17)\u001b[0m   return transform_pyarrow.concat(tables)\u001b[32m [repeated 5x across cluster]\u001b[0m\n",
      "\u001b[36m(MapWorker(MapBatches(process_data)->MapBatches(UpserterConcurrent)) pid=44830, ip=10.0.0.17)\u001b[0m /home/ray/anaconda3/lib/python3.10/site-packages/ray/data/_internal/arrow_block.py:148: FutureWarning: promote has been superseded by mode='default'.\u001b[32m [repeated 5x across cluster]\u001b[0m\n",
      "\u001b[36m(MapWorker(MapBatches(process_data)->MapBatches(UpserterConcurrent)) pid=44830, ip=10.0.0.17)\u001b[0m   return transform_pyarrow.concat(tables)\u001b[32m [repeated 5x across cluster]\u001b[0m\n",
      "\u001b[36m(MapWorker(MapBatches(process_data)->MapBatches(UpserterConcurrent)) pid=45188, ip=10.0.0.17)\u001b[0m /home/ray/anaconda3/lib/python3.10/site-packages/ray/data/_internal/arrow_block.py:148: FutureWarning: promote has been superseded by mode='default'.\u001b[32m [repeated 6x across cluster]\u001b[0m\n",
      "\u001b[36m(MapWorker(MapBatches(process_data)->MapBatches(UpserterConcurrent)) pid=45188, ip=10.0.0.17)\u001b[0m   return transform_pyarrow.concat(tables)\u001b[32m [repeated 6x across cluster]\u001b[0m\n",
      "\u001b[36m(MapWorker(MapBatches(process_data)->MapBatches(UpserterConcurrent)) pid=45188, ip=10.0.0.17)\u001b[0m /home/ray/anaconda3/lib/python3.10/site-packages/ray/data/_internal/arrow_block.py:148: FutureWarning: promote has been superseded by mode='default'.\u001b[32m [repeated 5x across cluster]\u001b[0m\n",
      "\u001b[36m(MapWorker(MapBatches(process_data)->MapBatches(UpserterConcurrent)) pid=45188, ip=10.0.0.17)\u001b[0m   return transform_pyarrow.concat(tables)\u001b[32m [repeated 5x across cluster]\u001b[0m\n",
      "\u001b[36m(MapWorker(MapBatches(process_data)->MapBatches(UpserterConcurrent)) pid=46641, ip=10.0.0.57)\u001b[0m /home/ray/anaconda3/lib/python3.10/site-packages/ray/data/_internal/arrow_block.py:148: FutureWarning: promote has been superseded by mode='default'.\u001b[32m [repeated 5x across cluster]\u001b[0m\n",
      "\u001b[36m(MapWorker(MapBatches(process_data)->MapBatches(UpserterConcurrent)) pid=46641, ip=10.0.0.57)\u001b[0m   return transform_pyarrow.concat(tables)\u001b[32m [repeated 5x across cluster]\u001b[0m\n",
      "\u001b[36m(MapWorker(MapBatches(process_data)->MapBatches(UpserterConcurrent)) pid=46641, ip=10.0.0.57)\u001b[0m /home/ray/anaconda3/lib/python3.10/site-packages/ray/data/_internal/arrow_block.py:148: FutureWarning: promote has been superseded by mode='default'.\u001b[32m [repeated 5x across cluster]\u001b[0m\n",
      "\u001b[36m(MapWorker(MapBatches(process_data)->MapBatches(UpserterConcurrent)) pid=46641, ip=10.0.0.57)\u001b[0m   return transform_pyarrow.concat(tables)\u001b[32m [repeated 5x across cluster]\u001b[0m\n",
      "\u001b[36m(MapWorker(MapBatches(process_data)->MapBatches(UpserterConcurrent)) pid=46641, ip=10.0.0.57)\u001b[0m /home/ray/anaconda3/lib/python3.10/site-packages/ray/data/_internal/arrow_block.py:148: FutureWarning: promote has been superseded by mode='default'.\u001b[32m [repeated 5x across cluster]\u001b[0m\n",
      "\u001b[36m(MapWorker(MapBatches(process_data)->MapBatches(UpserterConcurrent)) pid=46641, ip=10.0.0.57)\u001b[0m   return transform_pyarrow.concat(tables)\u001b[32m [repeated 5x across cluster]\u001b[0m\n",
      "\u001b[36m(MapWorker(MapBatches(process_data)->MapBatches(UpserterConcurrent)) pid=46641, ip=10.0.0.57)\u001b[0m /home/ray/anaconda3/lib/python3.10/site-packages/ray/data/_internal/arrow_block.py:148: FutureWarning: promote has been superseded by mode='default'.\u001b[32m [repeated 5x across cluster]\u001b[0m\n",
      "\u001b[36m(MapWorker(MapBatches(process_data)->MapBatches(UpserterConcurrent)) pid=46641, ip=10.0.0.57)\u001b[0m   return transform_pyarrow.concat(tables)\u001b[32m [repeated 5x across cluster]\u001b[0m\n",
      "\u001b[36m(MapWorker(MapBatches(process_data)->MapBatches(UpserterConcurrent)) pid=46641, ip=10.0.0.57)\u001b[0m /home/ray/anaconda3/lib/python3.10/site-packages/ray/data/_internal/arrow_block.py:148: FutureWarning: promote has been superseded by mode='default'.\u001b[32m [repeated 5x across cluster]\u001b[0m\n",
      "\u001b[36m(MapWorker(MapBatches(process_data)->MapBatches(UpserterConcurrent)) pid=46641, ip=10.0.0.57)\u001b[0m   return transform_pyarrow.concat(tables)\u001b[32m [repeated 5x across cluster]\u001b[0m\n",
      "\u001b[36m(MapWorker(MapBatches(process_data)->MapBatches(UpserterConcurrent)) pid=45188, ip=10.0.0.17)\u001b[0m /home/ray/anaconda3/lib/python3.10/site-packages/ray/data/_internal/arrow_block.py:148: FutureWarning: promote has been superseded by mode='default'.\u001b[32m [repeated 6x across cluster]\u001b[0m\n",
      "\u001b[36m(MapWorker(MapBatches(process_data)->MapBatches(UpserterConcurrent)) pid=45188, ip=10.0.0.17)\u001b[0m   return transform_pyarrow.concat(tables)\u001b[32m [repeated 6x across cluster]\u001b[0m\n",
      "\u001b[36m(MapWorker(MapBatches(process_data)->MapBatches(UpserterConcurrent)) pid=44830, ip=10.0.0.17)\u001b[0m /home/ray/anaconda3/lib/python3.10/site-packages/ray/data/_internal/arrow_block.py:148: FutureWarning: promote has been superseded by mode='default'.\u001b[32m [repeated 5x across cluster]\u001b[0m\n",
      "\u001b[36m(MapWorker(MapBatches(process_data)->MapBatches(UpserterConcurrent)) pid=44830, ip=10.0.0.17)\u001b[0m   return transform_pyarrow.concat(tables)\u001b[32m [repeated 5x across cluster]\u001b[0m\n",
      "\u001b[36m(MapWorker(MapBatches(process_data)->MapBatches(UpserterConcurrent)) pid=44830, ip=10.0.0.17)\u001b[0m /home/ray/anaconda3/lib/python3.10/site-packages/ray/data/_internal/arrow_block.py:148: FutureWarning: promote has been superseded by mode='default'.\u001b[32m [repeated 5x across cluster]\u001b[0m\n",
      "\u001b[36m(MapWorker(MapBatches(process_data)->MapBatches(UpserterConcurrent)) pid=44830, ip=10.0.0.17)\u001b[0m   return transform_pyarrow.concat(tables)\u001b[32m [repeated 5x across cluster]\u001b[0m\n",
      "\u001b[36m(MapWorker(MapBatches(process_data)->MapBatches(UpserterConcurrent)) pid=44830, ip=10.0.0.17)\u001b[0m /home/ray/anaconda3/lib/python3.10/site-packages/ray/data/_internal/arrow_block.py:148: FutureWarning: promote has been superseded by mode='default'.\u001b[32m [repeated 5x across cluster]\u001b[0m\n",
      "\u001b[36m(MapWorker(MapBatches(process_data)->MapBatches(UpserterConcurrent)) pid=44830, ip=10.0.0.17)\u001b[0m   return transform_pyarrow.concat(tables)\u001b[32m [repeated 5x across cluster]\u001b[0m\n",
      "\u001b[36m(MapWorker(MapBatches(process_data)->MapBatches(UpserterConcurrent)) pid=46641, ip=10.0.0.57)\u001b[0m /home/ray/anaconda3/lib/python3.10/site-packages/ray/data/_internal/arrow_block.py:148: FutureWarning: promote has been superseded by mode='default'.\u001b[32m [repeated 5x across cluster]\u001b[0m\n",
      "\u001b[36m(MapWorker(MapBatches(process_data)->MapBatches(UpserterConcurrent)) pid=46641, ip=10.0.0.57)\u001b[0m   return transform_pyarrow.concat(tables)\u001b[32m [repeated 5x across cluster]\u001b[0m\n",
      "\u001b[36m(MapWorker(MapBatches(process_data)->MapBatches(UpserterConcurrent)) pid=1215867)\u001b[0m /home/ray/anaconda3/lib/python3.10/site-packages/ray/data/_internal/arrow_block.py:148: FutureWarning: promote has been superseded by mode='default'.\u001b[32m [repeated 7x across cluster]\u001b[0m\n",
      "\u001b[36m(MapWorker(MapBatches(process_data)->MapBatches(UpserterConcurrent)) pid=1215867)\u001b[0m   return transform_pyarrow.concat(tables)\u001b[32m [repeated 7x across cluster]\u001b[0m\n",
      "\u001b[36m(MapWorker(MapBatches(process_data)->MapBatches(UpserterConcurrent)) pid=44830, ip=10.0.0.17)\u001b[0m /home/ray/anaconda3/lib/python3.10/site-packages/ray/data/_internal/arrow_block.py:148: FutureWarning: promote has been superseded by mode='default'.\u001b[32m [repeated 3x across cluster]\u001b[0m\n",
      "\u001b[36m(MapWorker(MapBatches(process_data)->MapBatches(UpserterConcurrent)) pid=44830, ip=10.0.0.17)\u001b[0m   return transform_pyarrow.concat(tables)\u001b[32m [repeated 3x across cluster]\u001b[0m\n",
      "\u001b[36m(MapWorker(MapBatches(process_data)->MapBatches(UpserterConcurrent)) pid=45188, ip=10.0.0.17)\u001b[0m /home/ray/anaconda3/lib/python3.10/site-packages/ray/data/_internal/arrow_block.py:148: FutureWarning: promote has been superseded by mode='default'.\u001b[32m [repeated 6x across cluster]\u001b[0m\n",
      "\u001b[36m(MapWorker(MapBatches(process_data)->MapBatches(UpserterConcurrent)) pid=45188, ip=10.0.0.17)\u001b[0m   return transform_pyarrow.concat(tables)\u001b[32m [repeated 6x across cluster]\u001b[0m\n",
      "\u001b[36m(MapWorker(MapBatches(process_data)->MapBatches(UpserterConcurrent)) pid=44830, ip=10.0.0.17)\u001b[0m /home/ray/anaconda3/lib/python3.10/site-packages/ray/data/_internal/arrow_block.py:148: FutureWarning: promote has been superseded by mode='default'.\u001b[32m [repeated 4x across cluster]\u001b[0m\n",
      "\u001b[36m(MapWorker(MapBatches(process_data)->MapBatches(UpserterConcurrent)) pid=44830, ip=10.0.0.17)\u001b[0m   return transform_pyarrow.concat(tables)\u001b[32m [repeated 4x across cluster]\u001b[0m\n",
      "\u001b[36m(MapWorker(MapBatches(process_data)->MapBatches(UpserterConcurrent)) pid=44830, ip=10.0.0.17)\u001b[0m /home/ray/anaconda3/lib/python3.10/site-packages/ray/data/_internal/arrow_block.py:148: FutureWarning: promote has been superseded by mode='default'.\u001b[32m [repeated 5x across cluster]\u001b[0m\n",
      "\u001b[36m(MapWorker(MapBatches(process_data)->MapBatches(UpserterConcurrent)) pid=44830, ip=10.0.0.17)\u001b[0m   return transform_pyarrow.concat(tables)\u001b[32m [repeated 5x across cluster]\u001b[0m\n",
      "\u001b[36m(MapWorker(MapBatches(process_data)->MapBatches(UpserterConcurrent)) pid=46641, ip=10.0.0.57)\u001b[0m /home/ray/anaconda3/lib/python3.10/site-packages/ray/data/_internal/arrow_block.py:148: FutureWarning: promote has been superseded by mode='default'.\u001b[32m [repeated 5x across cluster]\u001b[0m\n",
      "\u001b[36m(MapWorker(MapBatches(process_data)->MapBatches(UpserterConcurrent)) pid=46641, ip=10.0.0.57)\u001b[0m   return transform_pyarrow.concat(tables)\u001b[32m [repeated 5x across cluster]\u001b[0m\n",
      "\u001b[36m(MapWorker(MapBatches(process_data)->MapBatches(UpserterConcurrent)) pid=46641, ip=10.0.0.57)\u001b[0m /home/ray/anaconda3/lib/python3.10/site-packages/ray/data/_internal/arrow_block.py:148: FutureWarning: promote has been superseded by mode='default'.\u001b[32m [repeated 5x across cluster]\u001b[0m\n",
      "\u001b[36m(MapWorker(MapBatches(process_data)->MapBatches(UpserterConcurrent)) pid=46641, ip=10.0.0.57)\u001b[0m   return transform_pyarrow.concat(tables)\u001b[32m [repeated 5x across cluster]\u001b[0m\n",
      "\u001b[36m(MapWorker(MapBatches(process_data)->MapBatches(UpserterConcurrent)) pid=44830, ip=10.0.0.17)\u001b[0m /home/ray/anaconda3/lib/python3.10/site-packages/ray/data/_internal/arrow_block.py:148: FutureWarning: promote has been superseded by mode='default'.\u001b[32m [repeated 5x across cluster]\u001b[0m\n",
      "\u001b[36m(MapWorker(MapBatches(process_data)->MapBatches(UpserterConcurrent)) pid=44830, ip=10.0.0.17)\u001b[0m   return transform_pyarrow.concat(tables)\u001b[32m [repeated 5x across cluster]\u001b[0m\n",
      "\u001b[36m(MapWorker(MapBatches(process_data)->MapBatches(UpserterConcurrent)) pid=46641, ip=10.0.0.57)\u001b[0m /home/ray/anaconda3/lib/python3.10/site-packages/ray/data/_internal/arrow_block.py:148: FutureWarning: promote has been superseded by mode='default'.\u001b[32m [repeated 6x across cluster]\u001b[0m\n",
      "\u001b[36m(MapWorker(MapBatches(process_data)->MapBatches(UpserterConcurrent)) pid=46641, ip=10.0.0.57)\u001b[0m   return transform_pyarrow.concat(tables)\u001b[32m [repeated 6x across cluster]\u001b[0m\n",
      "\u001b[36m(MapWorker(MapBatches(process_data)->MapBatches(UpserterConcurrent)) pid=44830, ip=10.0.0.17)\u001b[0m /home/ray/anaconda3/lib/python3.10/site-packages/ray/data/_internal/arrow_block.py:148: FutureWarning: promote has been superseded by mode='default'.\u001b[32m [repeated 5x across cluster]\u001b[0m\n",
      "\u001b[36m(MapWorker(MapBatches(process_data)->MapBatches(UpserterConcurrent)) pid=44830, ip=10.0.0.17)\u001b[0m   return transform_pyarrow.concat(tables)\u001b[32m [repeated 5x across cluster]\u001b[0m\n",
      "\u001b[36m(MapWorker(MapBatches(process_data)->MapBatches(UpserterConcurrent)) pid=1215867)\u001b[0m /home/ray/anaconda3/lib/python3.10/site-packages/ray/data/_internal/arrow_block.py:148: FutureWarning: promote has been superseded by mode='default'.\u001b[32m [repeated 4x across cluster]\u001b[0m\n",
      "\u001b[36m(MapWorker(MapBatches(process_data)->MapBatches(UpserterConcurrent)) pid=1215867)\u001b[0m   return transform_pyarrow.concat(tables)\u001b[32m [repeated 4x across cluster]\u001b[0m\n",
      "\u001b[36m(MapWorker(MapBatches(process_data)->MapBatches(UpserterConcurrent)) pid=44830, ip=10.0.0.17)\u001b[0m /home/ray/anaconda3/lib/python3.10/site-packages/ray/data/_internal/arrow_block.py:148: FutureWarning: promote has been superseded by mode='default'.\u001b[32m [repeated 5x across cluster]\u001b[0m\n",
      "\u001b[36m(MapWorker(MapBatches(process_data)->MapBatches(UpserterConcurrent)) pid=44830, ip=10.0.0.17)\u001b[0m   return transform_pyarrow.concat(tables)\u001b[32m [repeated 5x across cluster]\u001b[0m\n",
      "\u001b[36m(MapWorker(MapBatches(process_data)->MapBatches(UpserterConcurrent)) pid=15918, ip=10.0.0.63)\u001b[0m /home/ray/anaconda3/lib/python3.10/site-packages/ray/data/_internal/arrow_block.py:148: FutureWarning: promote has been superseded by mode='default'.\u001b[32m [repeated 5x across cluster]\u001b[0m\n",
      "\u001b[36m(MapWorker(MapBatches(process_data)->MapBatches(UpserterConcurrent)) pid=15918, ip=10.0.0.63)\u001b[0m   return transform_pyarrow.concat(tables)\u001b[32m [repeated 5x across cluster]\u001b[0m\n",
      "\u001b[36m(MapWorker(MapBatches(process_data)->MapBatches(UpserterConcurrent)) pid=46641, ip=10.0.0.57)\u001b[0m /home/ray/anaconda3/lib/python3.10/site-packages/ray/data/_internal/arrow_block.py:148: FutureWarning: promote has been superseded by mode='default'.\u001b[32m [repeated 4x across cluster]\u001b[0m\n",
      "\u001b[36m(MapWorker(MapBatches(process_data)->MapBatches(UpserterConcurrent)) pid=46641, ip=10.0.0.57)\u001b[0m   return transform_pyarrow.concat(tables)\u001b[32m [repeated 4x across cluster]\u001b[0m\n",
      "\u001b[36m(MapWorker(MapBatches(process_data)->MapBatches(UpserterConcurrent)) pid=1215867)\u001b[0m /home/ray/anaconda3/lib/python3.10/site-packages/ray/data/_internal/arrow_block.py:148: FutureWarning: promote has been superseded by mode='default'.\u001b[32m [repeated 5x across cluster]\u001b[0m\n",
      "\u001b[36m(MapWorker(MapBatches(process_data)->MapBatches(UpserterConcurrent)) pid=1215867)\u001b[0m   return transform_pyarrow.concat(tables)\u001b[32m [repeated 5x across cluster]\u001b[0m\n",
      "\u001b[36m(MapWorker(MapBatches(process_data)->MapBatches(UpserterConcurrent)) pid=46641, ip=10.0.0.57)\u001b[0m /home/ray/anaconda3/lib/python3.10/site-packages/ray/data/_internal/arrow_block.py:148: FutureWarning: promote has been superseded by mode='default'.\u001b[32m [repeated 5x across cluster]\u001b[0m\n",
      "\u001b[36m(MapWorker(MapBatches(process_data)->MapBatches(UpserterConcurrent)) pid=46641, ip=10.0.0.57)\u001b[0m   return transform_pyarrow.concat(tables)\u001b[32m [repeated 5x across cluster]\u001b[0m\n",
      "\u001b[36m(MapWorker(MapBatches(process_data)->MapBatches(UpserterConcurrent)) pid=1215867)\u001b[0m /home/ray/anaconda3/lib/python3.10/site-packages/ray/data/_internal/arrow_block.py:148: FutureWarning: promote has been superseded by mode='default'.\u001b[32m [repeated 5x across cluster]\u001b[0m\n",
      "\u001b[36m(MapWorker(MapBatches(process_data)->MapBatches(UpserterConcurrent)) pid=1215867)\u001b[0m   return transform_pyarrow.concat(tables)\u001b[32m [repeated 5x across cluster]\u001b[0m\n",
      "\u001b[36m(MapWorker(MapBatches(process_data)->MapBatches(UpserterConcurrent)) pid=15918, ip=10.0.0.63)\u001b[0m /home/ray/anaconda3/lib/python3.10/site-packages/ray/data/_internal/arrow_block.py:148: FutureWarning: promote has been superseded by mode='default'.\u001b[32m [repeated 5x across cluster]\u001b[0m\n",
      "\u001b[36m(MapWorker(MapBatches(process_data)->MapBatches(UpserterConcurrent)) pid=15918, ip=10.0.0.63)\u001b[0m   return transform_pyarrow.concat(tables)\u001b[32m [repeated 5x across cluster]\u001b[0m\n",
      "\u001b[36m(MapWorker(MapBatches(process_data)->MapBatches(UpserterConcurrent)) pid=1215867)\u001b[0m /home/ray/anaconda3/lib/python3.10/site-packages/ray/data/_internal/arrow_block.py:148: FutureWarning: promote has been superseded by mode='default'.\u001b[32m [repeated 6x across cluster]\u001b[0m\n",
      "\u001b[36m(MapWorker(MapBatches(process_data)->MapBatches(UpserterConcurrent)) pid=1215867)\u001b[0m   return transform_pyarrow.concat(tables)\u001b[32m [repeated 6x across cluster]\u001b[0m\n",
      "\u001b[36m(MapWorker(MapBatches(process_data)->MapBatches(UpserterConcurrent)) pid=46641, ip=10.0.0.57)\u001b[0m /home/ray/anaconda3/lib/python3.10/site-packages/ray/data/_internal/arrow_block.py:148: FutureWarning: promote has been superseded by mode='default'.\u001b[32m [repeated 5x across cluster]\u001b[0m\n",
      "\u001b[36m(MapWorker(MapBatches(process_data)->MapBatches(UpserterConcurrent)) pid=46641, ip=10.0.0.57)\u001b[0m   return transform_pyarrow.concat(tables)\u001b[32m [repeated 5x across cluster]\u001b[0m\n",
      "\u001b[36m(MapWorker(MapBatches(process_data)->MapBatches(UpserterConcurrent)) pid=45188, ip=10.0.0.17)\u001b[0m /home/ray/anaconda3/lib/python3.10/site-packages/ray/data/_internal/arrow_block.py:148: FutureWarning: promote has been superseded by mode='default'.\u001b[32m [repeated 3x across cluster]\u001b[0m\n",
      "\u001b[36m(MapWorker(MapBatches(process_data)->MapBatches(UpserterConcurrent)) pid=45188, ip=10.0.0.17)\u001b[0m   return transform_pyarrow.concat(tables)\u001b[32m [repeated 3x across cluster]\u001b[0m\n",
      "\u001b[36m(MapWorker(MapBatches(process_data)->MapBatches(UpserterConcurrent)) pid=15918, ip=10.0.0.63)\u001b[0m /home/ray/anaconda3/lib/python3.10/site-packages/ray/data/_internal/arrow_block.py:148: FutureWarning: promote has been superseded by mode='default'.\u001b[32m [repeated 4x across cluster]\u001b[0m\n",
      "\u001b[36m(MapWorker(MapBatches(process_data)->MapBatches(UpserterConcurrent)) pid=15918, ip=10.0.0.63)\u001b[0m   return transform_pyarrow.concat(tables)\u001b[32m [repeated 4x across cluster]\u001b[0m\n",
      "\u001b[36m(MapWorker(MapBatches(process_data)->MapBatches(UpserterConcurrent)) pid=15918, ip=10.0.0.63)\u001b[0m /home/ray/anaconda3/lib/python3.10/site-packages/ray/data/_internal/arrow_block.py:148: FutureWarning: promote has been superseded by mode='default'.\u001b[32m [repeated 5x across cluster]\u001b[0m\n",
      "\u001b[36m(MapWorker(MapBatches(process_data)->MapBatches(UpserterConcurrent)) pid=15918, ip=10.0.0.63)\u001b[0m   return transform_pyarrow.concat(tables)\u001b[32m [repeated 5x across cluster]\u001b[0m\n",
      "\u001b[36m(MapWorker(MapBatches(process_data)->MapBatches(UpserterConcurrent)) pid=46641, ip=10.0.0.57)\u001b[0m /home/ray/anaconda3/lib/python3.10/site-packages/ray/data/_internal/arrow_block.py:148: FutureWarning: promote has been superseded by mode='default'.\u001b[32m [repeated 5x across cluster]\u001b[0m\n",
      "\u001b[36m(MapWorker(MapBatches(process_data)->MapBatches(UpserterConcurrent)) pid=46641, ip=10.0.0.57)\u001b[0m   return transform_pyarrow.concat(tables)\u001b[32m [repeated 5x across cluster]\u001b[0m\n",
      "\u001b[36m(MapWorker(MapBatches(process_data)->MapBatches(UpserterConcurrent)) pid=46641, ip=10.0.0.57)\u001b[0m /home/ray/anaconda3/lib/python3.10/site-packages/ray/data/_internal/arrow_block.py:148: FutureWarning: promote has been superseded by mode='default'.\u001b[32m [repeated 5x across cluster]\u001b[0m\n",
      "\u001b[36m(MapWorker(MapBatches(process_data)->MapBatches(UpserterConcurrent)) pid=46641, ip=10.0.0.57)\u001b[0m   return transform_pyarrow.concat(tables)\u001b[32m [repeated 5x across cluster]\u001b[0m\n",
      "\u001b[36m(MapWorker(MapBatches(process_data)->MapBatches(UpserterConcurrent)) pid=46641, ip=10.0.0.57)\u001b[0m /home/ray/anaconda3/lib/python3.10/site-packages/ray/data/_internal/arrow_block.py:148: FutureWarning: promote has been superseded by mode='default'.\u001b[32m [repeated 5x across cluster]\u001b[0m\n",
      "\u001b[36m(MapWorker(MapBatches(process_data)->MapBatches(UpserterConcurrent)) pid=46641, ip=10.0.0.57)\u001b[0m   return transform_pyarrow.concat(tables)\u001b[32m [repeated 5x across cluster]\u001b[0m\n",
      "\u001b[36m(MapWorker(MapBatches(process_data)->MapBatches(UpserterConcurrent)) pid=46641, ip=10.0.0.57)\u001b[0m /home/ray/anaconda3/lib/python3.10/site-packages/ray/data/_internal/arrow_block.py:148: FutureWarning: promote has been superseded by mode='default'.\u001b[32m [repeated 5x across cluster]\u001b[0m\n",
      "\u001b[36m(MapWorker(MapBatches(process_data)->MapBatches(UpserterConcurrent)) pid=46641, ip=10.0.0.57)\u001b[0m   return transform_pyarrow.concat(tables)\u001b[32m [repeated 5x across cluster]\u001b[0m\n",
      "\u001b[36m(MapWorker(MapBatches(process_data)->MapBatches(UpserterConcurrent)) pid=46641, ip=10.0.0.57)\u001b[0m /home/ray/anaconda3/lib/python3.10/site-packages/ray/data/_internal/arrow_block.py:148: FutureWarning: promote has been superseded by mode='default'.\u001b[32m [repeated 5x across cluster]\u001b[0m\n",
      "\u001b[36m(MapWorker(MapBatches(process_data)->MapBatches(UpserterConcurrent)) pid=46641, ip=10.0.0.57)\u001b[0m   return transform_pyarrow.concat(tables)\u001b[32m [repeated 5x across cluster]\u001b[0m\n",
      "\u001b[36m(MapWorker(MapBatches(process_data)->MapBatches(UpserterConcurrent)) pid=1215867)\u001b[0m /home/ray/anaconda3/lib/python3.10/site-packages/ray/data/_internal/arrow_block.py:148: FutureWarning: promote has been superseded by mode='default'.\u001b[32m [repeated 5x across cluster]\u001b[0m\n",
      "\u001b[36m(MapWorker(MapBatches(process_data)->MapBatches(UpserterConcurrent)) pid=1215867)\u001b[0m   return transform_pyarrow.concat(tables)\u001b[32m [repeated 5x across cluster]\u001b[0m\n",
      "\u001b[36m(MapWorker(MapBatches(process_data)->MapBatches(UpserterConcurrent)) pid=45188, ip=10.0.0.17)\u001b[0m /home/ray/anaconda3/lib/python3.10/site-packages/ray/data/_internal/arrow_block.py:148: FutureWarning: promote has been superseded by mode='default'.\u001b[32m [repeated 6x across cluster]\u001b[0m\n",
      "\u001b[36m(MapWorker(MapBatches(process_data)->MapBatches(UpserterConcurrent)) pid=45188, ip=10.0.0.17)\u001b[0m   return transform_pyarrow.concat(tables)\u001b[32m [repeated 6x across cluster]\u001b[0m\n",
      "\u001b[36m(MapWorker(MapBatches(process_data)->MapBatches(UpserterConcurrent)) pid=46641, ip=10.0.0.57)\u001b[0m /home/ray/anaconda3/lib/python3.10/site-packages/ray/data/_internal/arrow_block.py:148: FutureWarning: promote has been superseded by mode='default'.\u001b[32m [repeated 4x across cluster]\u001b[0m\n",
      "\u001b[36m(MapWorker(MapBatches(process_data)->MapBatches(UpserterConcurrent)) pid=46641, ip=10.0.0.57)\u001b[0m   return transform_pyarrow.concat(tables)\u001b[32m [repeated 4x across cluster]\u001b[0m\n",
      "\u001b[36m(MapWorker(MapBatches(process_data)->MapBatches(UpserterConcurrent)) pid=44830, ip=10.0.0.17)\u001b[0m /home/ray/anaconda3/lib/python3.10/site-packages/ray/data/_internal/arrow_block.py:148: FutureWarning: promote has been superseded by mode='default'.\u001b[32m [repeated 7x across cluster]\u001b[0m\n",
      "\u001b[36m(MapWorker(MapBatches(process_data)->MapBatches(UpserterConcurrent)) pid=44830, ip=10.0.0.17)\u001b[0m   return transform_pyarrow.concat(tables)\u001b[32m [repeated 7x across cluster]\u001b[0m\n",
      "\u001b[36m(MapWorker(MapBatches(process_data)->MapBatches(UpserterConcurrent)) pid=46641, ip=10.0.0.57)\u001b[0m /home/ray/anaconda3/lib/python3.10/site-packages/ray/data/_internal/arrow_block.py:148: FutureWarning: promote has been superseded by mode='default'.\u001b[32m [repeated 4x across cluster]\u001b[0m\n",
      "\u001b[36m(MapWorker(MapBatches(process_data)->MapBatches(UpserterConcurrent)) pid=46641, ip=10.0.0.57)\u001b[0m   return transform_pyarrow.concat(tables)\u001b[32m [repeated 4x across cluster]\u001b[0m\n",
      "\u001b[36m(MapWorker(MapBatches(process_data)->MapBatches(UpserterConcurrent)) pid=45188, ip=10.0.0.17)\u001b[0m /home/ray/anaconda3/lib/python3.10/site-packages/ray/data/_internal/arrow_block.py:148: FutureWarning: promote has been superseded by mode='default'.\u001b[32m [repeated 4x across cluster]\u001b[0m\n",
      "\u001b[36m(MapWorker(MapBatches(process_data)->MapBatches(UpserterConcurrent)) pid=45188, ip=10.0.0.17)\u001b[0m   return transform_pyarrow.concat(tables)\u001b[32m [repeated 4x across cluster]\u001b[0m\n",
      "\u001b[36m(MapWorker(MapBatches(process_data)->MapBatches(UpserterConcurrent)) pid=46641, ip=10.0.0.57)\u001b[0m /home/ray/anaconda3/lib/python3.10/site-packages/ray/data/_internal/arrow_block.py:148: FutureWarning: promote has been superseded by mode='default'.\u001b[32m [repeated 5x across cluster]\u001b[0m\n",
      "\u001b[36m(MapWorker(MapBatches(process_data)->MapBatches(UpserterConcurrent)) pid=46641, ip=10.0.0.57)\u001b[0m   return transform_pyarrow.concat(tables)\u001b[32m [repeated 5x across cluster]\u001b[0m\n",
      "\u001b[36m(MapWorker(MapBatches(process_data)->MapBatches(UpserterConcurrent)) pid=46641, ip=10.0.0.57)\u001b[0m /home/ray/anaconda3/lib/python3.10/site-packages/ray/data/_internal/arrow_block.py:148: FutureWarning: promote has been superseded by mode='default'.\u001b[32m [repeated 5x across cluster]\u001b[0m\n",
      "\u001b[36m(MapWorker(MapBatches(process_data)->MapBatches(UpserterConcurrent)) pid=46641, ip=10.0.0.57)\u001b[0m   return transform_pyarrow.concat(tables)\u001b[32m [repeated 5x across cluster]\u001b[0m\n",
      "\u001b[36m(MapWorker(MapBatches(process_data)->MapBatches(UpserterConcurrent)) pid=45188, ip=10.0.0.17)\u001b[0m /home/ray/anaconda3/lib/python3.10/site-packages/ray/data/_internal/arrow_block.py:148: FutureWarning: promote has been superseded by mode='default'.\u001b[32m [repeated 6x across cluster]\u001b[0m\n",
      "\u001b[36m(MapWorker(MapBatches(process_data)->MapBatches(UpserterConcurrent)) pid=45188, ip=10.0.0.17)\u001b[0m   return transform_pyarrow.concat(tables)\u001b[32m [repeated 6x across cluster]\u001b[0m\n",
      "\u001b[36m(MapWorker(MapBatches(process_data)->MapBatches(UpserterConcurrent)) pid=46641, ip=10.0.0.57)\u001b[0m /home/ray/anaconda3/lib/python3.10/site-packages/ray/data/_internal/arrow_block.py:148: FutureWarning: promote has been superseded by mode='default'.\u001b[32m [repeated 4x across cluster]\u001b[0m\n",
      "\u001b[36m(MapWorker(MapBatches(process_data)->MapBatches(UpserterConcurrent)) pid=46641, ip=10.0.0.57)\u001b[0m   return transform_pyarrow.concat(tables)\u001b[32m [repeated 4x across cluster]\u001b[0m\n",
      "\u001b[36m(MapWorker(MapBatches(process_data)->MapBatches(UpserterConcurrent)) pid=46641, ip=10.0.0.57)\u001b[0m /home/ray/anaconda3/lib/python3.10/site-packages/ray/data/_internal/arrow_block.py:148: FutureWarning: promote has been superseded by mode='default'.\u001b[32m [repeated 5x across cluster]\u001b[0m\n",
      "\u001b[36m(MapWorker(MapBatches(process_data)->MapBatches(UpserterConcurrent)) pid=46641, ip=10.0.0.57)\u001b[0m   return transform_pyarrow.concat(tables)\u001b[32m [repeated 5x across cluster]\u001b[0m\n",
      "\u001b[36m(MapWorker(MapBatches(process_data)->MapBatches(UpserterConcurrent)) pid=15918, ip=10.0.0.63)\u001b[0m /home/ray/anaconda3/lib/python3.10/site-packages/ray/data/_internal/arrow_block.py:148: FutureWarning: promote has been superseded by mode='default'.\u001b[32m [repeated 6x across cluster]\u001b[0m\n",
      "\u001b[36m(MapWorker(MapBatches(process_data)->MapBatches(UpserterConcurrent)) pid=15918, ip=10.0.0.63)\u001b[0m   return transform_pyarrow.concat(tables)\u001b[32m [repeated 6x across cluster]\u001b[0m\n",
      "\u001b[36m(MapWorker(MapBatches(process_data)->MapBatches(UpserterConcurrent)) pid=15918, ip=10.0.0.63)\u001b[0m /home/ray/anaconda3/lib/python3.10/site-packages/ray/data/_internal/arrow_block.py:148: FutureWarning: promote has been superseded by mode='default'.\u001b[32m [repeated 5x across cluster]\u001b[0m\n",
      "\u001b[36m(MapWorker(MapBatches(process_data)->MapBatches(UpserterConcurrent)) pid=15918, ip=10.0.0.63)\u001b[0m   return transform_pyarrow.concat(tables)\u001b[32m [repeated 5x across cluster]\u001b[0m\n",
      "\u001b[36m(MapWorker(MapBatches(process_data)->MapBatches(UpserterConcurrent)) pid=45188, ip=10.0.0.17)\u001b[0m /home/ray/anaconda3/lib/python3.10/site-packages/ray/data/_internal/arrow_block.py:148: FutureWarning: promote has been superseded by mode='default'.\u001b[32m [repeated 6x across cluster]\u001b[0m\n",
      "\u001b[36m(MapWorker(MapBatches(process_data)->MapBatches(UpserterConcurrent)) pid=45188, ip=10.0.0.17)\u001b[0m   return transform_pyarrow.concat(tables)\u001b[32m [repeated 6x across cluster]\u001b[0m\n",
      "\u001b[36m(MapWorker(MapBatches(process_data)->MapBatches(UpserterConcurrent)) pid=1215867)\u001b[0m /home/ray/anaconda3/lib/python3.10/site-packages/ray/data/_internal/arrow_block.py:148: FutureWarning: promote has been superseded by mode='default'.\u001b[32m [repeated 5x across cluster]\u001b[0m\n",
      "\u001b[36m(MapWorker(MapBatches(process_data)->MapBatches(UpserterConcurrent)) pid=1215867)\u001b[0m   return transform_pyarrow.concat(tables)\u001b[32m [repeated 5x across cluster]\u001b[0m\n",
      "\u001b[36m(MapWorker(MapBatches(process_data)->MapBatches(UpserterConcurrent)) pid=15918, ip=10.0.0.63)\u001b[0m /home/ray/anaconda3/lib/python3.10/site-packages/ray/data/_internal/arrow_block.py:148: FutureWarning: promote has been superseded by mode='default'.\u001b[32m [repeated 5x across cluster]\u001b[0m\n",
      "\u001b[36m(MapWorker(MapBatches(process_data)->MapBatches(UpserterConcurrent)) pid=15918, ip=10.0.0.63)\u001b[0m   return transform_pyarrow.concat(tables)\u001b[32m [repeated 5x across cluster]\u001b[0m\n",
      "\u001b[36m(MapWorker(MapBatches(process_data)->MapBatches(UpserterConcurrent)) pid=1215867)\u001b[0m /home/ray/anaconda3/lib/python3.10/site-packages/ray/data/_internal/arrow_block.py:148: FutureWarning: promote has been superseded by mode='default'.\u001b[32m [repeated 4x across cluster]\u001b[0m\n",
      "\u001b[36m(MapWorker(MapBatches(process_data)->MapBatches(UpserterConcurrent)) pid=1215867)\u001b[0m   return transform_pyarrow.concat(tables)\u001b[32m [repeated 4x across cluster]\u001b[0m\n",
      "\u001b[36m(MapWorker(MapBatches(process_data)->MapBatches(UpserterConcurrent)) pid=45188, ip=10.0.0.17)\u001b[0m /home/ray/anaconda3/lib/python3.10/site-packages/ray/data/_internal/arrow_block.py:148: FutureWarning: promote has been superseded by mode='default'.\u001b[32m [repeated 5x across cluster]\u001b[0m\n",
      "\u001b[36m(MapWorker(MapBatches(process_data)->MapBatches(UpserterConcurrent)) pid=45188, ip=10.0.0.17)\u001b[0m   return transform_pyarrow.concat(tables)\u001b[32m [repeated 5x across cluster]\u001b[0m\n",
      "\u001b[36m(MapWorker(MapBatches(process_data)->MapBatches(UpserterConcurrent)) pid=45188, ip=10.0.0.17)\u001b[0m /home/ray/anaconda3/lib/python3.10/site-packages/ray/data/_internal/arrow_block.py:148: FutureWarning: promote has been superseded by mode='default'.\u001b[32m [repeated 6x across cluster]\u001b[0m\n",
      "\u001b[36m(MapWorker(MapBatches(process_data)->MapBatches(UpserterConcurrent)) pid=45188, ip=10.0.0.17)\u001b[0m   return transform_pyarrow.concat(tables)\u001b[32m [repeated 6x across cluster]\u001b[0m\n",
      "\u001b[36m(MapWorker(MapBatches(process_data)->MapBatches(UpserterConcurrent)) pid=45188, ip=10.0.0.17)\u001b[0m /home/ray/anaconda3/lib/python3.10/site-packages/ray/data/_internal/arrow_block.py:148: FutureWarning: promote has been superseded by mode='default'.\u001b[32m [repeated 6x across cluster]\u001b[0m\n",
      "\u001b[36m(MapWorker(MapBatches(process_data)->MapBatches(UpserterConcurrent)) pid=45188, ip=10.0.0.17)\u001b[0m   return transform_pyarrow.concat(tables)\u001b[32m [repeated 6x across cluster]\u001b[0m\n",
      "\u001b[36m(MapWorker(MapBatches(process_data)->MapBatches(UpserterConcurrent)) pid=44830, ip=10.0.0.17)\u001b[0m /home/ray/anaconda3/lib/python3.10/site-packages/ray/data/_internal/arrow_block.py:148: FutureWarning: promote has been superseded by mode='default'.\u001b[32m [repeated 3x across cluster]\u001b[0m\n",
      "\u001b[36m(MapWorker(MapBatches(process_data)->MapBatches(UpserterConcurrent)) pid=44830, ip=10.0.0.17)\u001b[0m   return transform_pyarrow.concat(tables)\u001b[32m [repeated 3x across cluster]\u001b[0m\n",
      "\u001b[36m(MapWorker(MapBatches(process_data)->MapBatches(UpserterConcurrent)) pid=1215867)\u001b[0m /home/ray/anaconda3/lib/python3.10/site-packages/ray/data/_internal/arrow_block.py:148: FutureWarning: promote has been superseded by mode='default'.\u001b[32m [repeated 4x across cluster]\u001b[0m\n",
      "\u001b[36m(MapWorker(MapBatches(process_data)->MapBatches(UpserterConcurrent)) pid=1215867)\u001b[0m   return transform_pyarrow.concat(tables)\u001b[32m [repeated 4x across cluster]\u001b[0m\n",
      "\u001b[36m(MapWorker(MapBatches(process_data)->MapBatches(UpserterConcurrent)) pid=46641, ip=10.0.0.57)\u001b[0m /home/ray/anaconda3/lib/python3.10/site-packages/ray/data/_internal/arrow_block.py:148: FutureWarning: promote has been superseded by mode='default'.\u001b[32m [repeated 4x across cluster]\u001b[0m\n",
      "\u001b[36m(MapWorker(MapBatches(process_data)->MapBatches(UpserterConcurrent)) pid=46641, ip=10.0.0.57)\u001b[0m   return transform_pyarrow.concat(tables)\u001b[32m [repeated 4x across cluster]\u001b[0m\n",
      "\u001b[36m(MapWorker(MapBatches(process_data)->MapBatches(UpserterConcurrent)) pid=15918, ip=10.0.0.63)\u001b[0m /home/ray/anaconda3/lib/python3.10/site-packages/ray/data/_internal/arrow_block.py:148: FutureWarning: promote has been superseded by mode='default'.\u001b[32m [repeated 6x across cluster]\u001b[0m\n",
      "\u001b[36m(MapWorker(MapBatches(process_data)->MapBatches(UpserterConcurrent)) pid=15918, ip=10.0.0.63)\u001b[0m   return transform_pyarrow.concat(tables)\u001b[32m [repeated 6x across cluster]\u001b[0m\n",
      "\u001b[36m(MapWorker(MapBatches(process_data)->MapBatches(UpserterConcurrent)) pid=45188, ip=10.0.0.17)\u001b[0m /home/ray/anaconda3/lib/python3.10/site-packages/ray/data/_internal/arrow_block.py:148: FutureWarning: promote has been superseded by mode='default'.\u001b[32m [repeated 4x across cluster]\u001b[0m\n",
      "\u001b[36m(MapWorker(MapBatches(process_data)->MapBatches(UpserterConcurrent)) pid=45188, ip=10.0.0.17)\u001b[0m   return transform_pyarrow.concat(tables)\u001b[32m [repeated 4x across cluster]\u001b[0m\n",
      "\u001b[36m(MapWorker(MapBatches(process_data)->MapBatches(UpserterConcurrent)) pid=45188, ip=10.0.0.17)\u001b[0m /home/ray/anaconda3/lib/python3.10/site-packages/ray/data/_internal/arrow_block.py:148: FutureWarning: promote has been superseded by mode='default'.\u001b[32m [repeated 5x across cluster]\u001b[0m\n",
      "\u001b[36m(MapWorker(MapBatches(process_data)->MapBatches(UpserterConcurrent)) pid=45188, ip=10.0.0.17)\u001b[0m   return transform_pyarrow.concat(tables)\u001b[32m [repeated 5x across cluster]\u001b[0m\n",
      "\u001b[36m(MapWorker(MapBatches(process_data)->MapBatches(UpserterConcurrent)) pid=45188, ip=10.0.0.17)\u001b[0m /home/ray/anaconda3/lib/python3.10/site-packages/ray/data/_internal/arrow_block.py:148: FutureWarning: promote has been superseded by mode='default'.\u001b[32m [repeated 5x across cluster]\u001b[0m\n",
      "\u001b[36m(MapWorker(MapBatches(process_data)->MapBatches(UpserterConcurrent)) pid=45188, ip=10.0.0.17)\u001b[0m   return transform_pyarrow.concat(tables)\u001b[32m [repeated 5x across cluster]\u001b[0m\n",
      "\u001b[36m(MapWorker(MapBatches(process_data)->MapBatches(UpserterConcurrent)) pid=45188, ip=10.0.0.17)\u001b[0m /home/ray/anaconda3/lib/python3.10/site-packages/ray/data/_internal/arrow_block.py:148: FutureWarning: promote has been superseded by mode='default'.\u001b[32m [repeated 5x across cluster]\u001b[0m\n",
      "\u001b[36m(MapWorker(MapBatches(process_data)->MapBatches(UpserterConcurrent)) pid=45188, ip=10.0.0.17)\u001b[0m   return transform_pyarrow.concat(tables)\u001b[32m [repeated 5x across cluster]\u001b[0m\n",
      "\u001b[36m(MapWorker(MapBatches(process_data)->MapBatches(UpserterConcurrent)) pid=44830, ip=10.0.0.17)\u001b[0m /home/ray/anaconda3/lib/python3.10/site-packages/ray/data/_internal/arrow_block.py:148: FutureWarning: promote has been superseded by mode='default'.\u001b[32m [repeated 6x across cluster]\u001b[0m\n",
      "\u001b[36m(MapWorker(MapBatches(process_data)->MapBatches(UpserterConcurrent)) pid=44830, ip=10.0.0.17)\u001b[0m   return transform_pyarrow.concat(tables)\u001b[32m [repeated 6x across cluster]\u001b[0m\n",
      "\u001b[36m(MapWorker(MapBatches(process_data)->MapBatches(UpserterConcurrent)) pid=44830, ip=10.0.0.17)\u001b[0m /home/ray/anaconda3/lib/python3.10/site-packages/ray/data/_internal/arrow_block.py:148: FutureWarning: promote has been superseded by mode='default'.\u001b[32m [repeated 5x across cluster]\u001b[0m\n",
      "\u001b[36m(MapWorker(MapBatches(process_data)->MapBatches(UpserterConcurrent)) pid=44830, ip=10.0.0.17)\u001b[0m   return transform_pyarrow.concat(tables)\u001b[32m [repeated 5x across cluster]\u001b[0m\n",
      "\u001b[36m(MapWorker(MapBatches(process_data)->MapBatches(UpserterConcurrent)) pid=44830, ip=10.0.0.17)\u001b[0m /home/ray/anaconda3/lib/python3.10/site-packages/ray/data/_internal/arrow_block.py:148: FutureWarning: promote has been superseded by mode='default'.\u001b[32m [repeated 5x across cluster]\u001b[0m\n",
      "\u001b[36m(MapWorker(MapBatches(process_data)->MapBatches(UpserterConcurrent)) pid=44830, ip=10.0.0.17)\u001b[0m   return transform_pyarrow.concat(tables)\u001b[32m [repeated 5x across cluster]\u001b[0m\n",
      "\u001b[36m(MapWorker(MapBatches(process_data)->MapBatches(UpserterConcurrent)) pid=44830, ip=10.0.0.17)\u001b[0m /home/ray/anaconda3/lib/python3.10/site-packages/ray/data/_internal/arrow_block.py:148: FutureWarning: promote has been superseded by mode='default'.\u001b[32m [repeated 5x across cluster]\u001b[0m\n",
      "\u001b[36m(MapWorker(MapBatches(process_data)->MapBatches(UpserterConcurrent)) pid=44830, ip=10.0.0.17)\u001b[0m   return transform_pyarrow.concat(tables)\u001b[32m [repeated 5x across cluster]\u001b[0m\n",
      "\u001b[36m(MapWorker(MapBatches(process_data)->MapBatches(UpserterConcurrent)) pid=15918, ip=10.0.0.63)\u001b[0m /home/ray/anaconda3/lib/python3.10/site-packages/ray/data/_internal/arrow_block.py:148: FutureWarning: promote has been superseded by mode='default'.\u001b[32m [repeated 5x across cluster]\u001b[0m\n",
      "\u001b[36m(MapWorker(MapBatches(process_data)->MapBatches(UpserterConcurrent)) pid=15918, ip=10.0.0.63)\u001b[0m   return transform_pyarrow.concat(tables)\u001b[32m [repeated 5x across cluster]\u001b[0m\n",
      "\u001b[36m(MapWorker(MapBatches(process_data)->MapBatches(UpserterConcurrent)) pid=15918, ip=10.0.0.63)\u001b[0m /home/ray/anaconda3/lib/python3.10/site-packages/ray/data/_internal/arrow_block.py:148: FutureWarning: promote has been superseded by mode='default'.\u001b[32m [repeated 5x across cluster]\u001b[0m\n",
      "\u001b[36m(MapWorker(MapBatches(process_data)->MapBatches(UpserterConcurrent)) pid=15918, ip=10.0.0.63)\u001b[0m   return transform_pyarrow.concat(tables)\u001b[32m [repeated 5x across cluster]\u001b[0m\n",
      "\u001b[36m(MapWorker(MapBatches(process_data)->MapBatches(UpserterConcurrent)) pid=15918, ip=10.0.0.63)\u001b[0m /home/ray/anaconda3/lib/python3.10/site-packages/ray/data/_internal/arrow_block.py:148: FutureWarning: promote has been superseded by mode='default'.\u001b[32m [repeated 5x across cluster]\u001b[0m\n",
      "\u001b[36m(MapWorker(MapBatches(process_data)->MapBatches(UpserterConcurrent)) pid=15918, ip=10.0.0.63)\u001b[0m   return transform_pyarrow.concat(tables)\u001b[32m [repeated 5x across cluster]\u001b[0m\n",
      "\u001b[36m(MapWorker(MapBatches(process_data)->MapBatches(UpserterConcurrent)) pid=44830, ip=10.0.0.17)\u001b[0m /home/ray/anaconda3/lib/python3.10/site-packages/ray/data/_internal/arrow_block.py:148: FutureWarning: promote has been superseded by mode='default'.\u001b[32m [repeated 5x across cluster]\u001b[0m\n",
      "\u001b[36m(MapWorker(MapBatches(process_data)->MapBatches(UpserterConcurrent)) pid=44830, ip=10.0.0.17)\u001b[0m   return transform_pyarrow.concat(tables)\u001b[32m [repeated 5x across cluster]\u001b[0m\n",
      "\u001b[36m(MapWorker(MapBatches(process_data)->MapBatches(UpserterConcurrent)) pid=15918, ip=10.0.0.63)\u001b[0m /home/ray/anaconda3/lib/python3.10/site-packages/ray/data/_internal/arrow_block.py:148: FutureWarning: promote has been superseded by mode='default'.\u001b[32m [repeated 6x across cluster]\u001b[0m\n",
      "\u001b[36m(MapWorker(MapBatches(process_data)->MapBatches(UpserterConcurrent)) pid=15918, ip=10.0.0.63)\u001b[0m   return transform_pyarrow.concat(tables)\u001b[32m [repeated 6x across cluster]\u001b[0m\n",
      "\u001b[36m(MapWorker(MapBatches(process_data)->MapBatches(UpserterConcurrent)) pid=15918, ip=10.0.0.63)\u001b[0m /home/ray/anaconda3/lib/python3.10/site-packages/ray/data/_internal/arrow_block.py:148: FutureWarning: promote has been superseded by mode='default'.\u001b[32m [repeated 4x across cluster]\u001b[0m\n",
      "\u001b[36m(MapWorker(MapBatches(process_data)->MapBatches(UpserterConcurrent)) pid=15918, ip=10.0.0.63)\u001b[0m   return transform_pyarrow.concat(tables)\u001b[32m [repeated 4x across cluster]\u001b[0m\n",
      "\u001b[36m(MapWorker(MapBatches(process_data)->MapBatches(UpserterConcurrent)) pid=46641, ip=10.0.0.57)\u001b[0m /home/ray/anaconda3/lib/python3.10/site-packages/ray/data/_internal/arrow_block.py:148: FutureWarning: promote has been superseded by mode='default'.\u001b[32m [repeated 6x across cluster]\u001b[0m\n",
      "\u001b[36m(MapWorker(MapBatches(process_data)->MapBatches(UpserterConcurrent)) pid=46641, ip=10.0.0.57)\u001b[0m   return transform_pyarrow.concat(tables)\u001b[32m [repeated 6x across cluster]\u001b[0m\n",
      "\u001b[36m(MapWorker(MapBatches(process_data)->MapBatches(UpserterConcurrent)) pid=15918, ip=10.0.0.63)\u001b[0m /home/ray/anaconda3/lib/python3.10/site-packages/ray/data/_internal/arrow_block.py:148: FutureWarning: promote has been superseded by mode='default'.\u001b[32m [repeated 4x across cluster]\u001b[0m\n",
      "\u001b[36m(MapWorker(MapBatches(process_data)->MapBatches(UpserterConcurrent)) pid=15918, ip=10.0.0.63)\u001b[0m   return transform_pyarrow.concat(tables)\u001b[32m [repeated 4x across cluster]\u001b[0m\n",
      "\u001b[36m(MapWorker(MapBatches(process_data)->MapBatches(UpserterConcurrent)) pid=45188, ip=10.0.0.17)\u001b[0m /home/ray/anaconda3/lib/python3.10/site-packages/ray/data/_internal/arrow_block.py:148: FutureWarning: promote has been superseded by mode='default'.\u001b[32m [repeated 6x across cluster]\u001b[0m\n",
      "\u001b[36m(MapWorker(MapBatches(process_data)->MapBatches(UpserterConcurrent)) pid=45188, ip=10.0.0.17)\u001b[0m   return transform_pyarrow.concat(tables)\u001b[32m [repeated 6x across cluster]\u001b[0m\n",
      "\u001b[36m(MapWorker(MapBatches(process_data)->MapBatches(UpserterConcurrent)) pid=45188, ip=10.0.0.17)\u001b[0m /home/ray/anaconda3/lib/python3.10/site-packages/ray/data/_internal/arrow_block.py:148: FutureWarning: promote has been superseded by mode='default'.\u001b[32m [repeated 5x across cluster]\u001b[0m\n",
      "\u001b[36m(MapWorker(MapBatches(process_data)->MapBatches(UpserterConcurrent)) pid=45188, ip=10.0.0.17)\u001b[0m   return transform_pyarrow.concat(tables)\u001b[32m [repeated 5x across cluster]\u001b[0m\n",
      "\u001b[36m(MapWorker(MapBatches(process_data)->MapBatches(UpserterConcurrent)) pid=44830, ip=10.0.0.17)\u001b[0m /home/ray/anaconda3/lib/python3.10/site-packages/ray/data/_internal/arrow_block.py:148: FutureWarning: promote has been superseded by mode='default'.\u001b[32m [repeated 6x across cluster]\u001b[0m\n",
      "\u001b[36m(MapWorker(MapBatches(process_data)->MapBatches(UpserterConcurrent)) pid=44830, ip=10.0.0.17)\u001b[0m   return transform_pyarrow.concat(tables)\u001b[32m [repeated 6x across cluster]\u001b[0m\n",
      "\u001b[36m(MapWorker(MapBatches(process_data)->MapBatches(UpserterConcurrent)) pid=44830, ip=10.0.0.17)\u001b[0m /home/ray/anaconda3/lib/python3.10/site-packages/ray/data/_internal/arrow_block.py:148: FutureWarning: promote has been superseded by mode='default'.\u001b[32m [repeated 5x across cluster]\u001b[0m\n",
      "\u001b[36m(MapWorker(MapBatches(process_data)->MapBatches(UpserterConcurrent)) pid=44830, ip=10.0.0.17)\u001b[0m   return transform_pyarrow.concat(tables)\u001b[32m [repeated 5x across cluster]\u001b[0m\n",
      "\u001b[36m(MapWorker(MapBatches(process_data)->MapBatches(UpserterConcurrent)) pid=44830, ip=10.0.0.17)\u001b[0m /home/ray/anaconda3/lib/python3.10/site-packages/ray/data/_internal/arrow_block.py:148: FutureWarning: promote has been superseded by mode='default'.\u001b[32m [repeated 5x across cluster]\u001b[0m\n",
      "\u001b[36m(MapWorker(MapBatches(process_data)->MapBatches(UpserterConcurrent)) pid=44830, ip=10.0.0.17)\u001b[0m   return transform_pyarrow.concat(tables)\u001b[32m [repeated 5x across cluster]\u001b[0m\n",
      "\u001b[36m(MapWorker(MapBatches(process_data)->MapBatches(UpserterConcurrent)) pid=44830, ip=10.0.0.17)\u001b[0m /home/ray/anaconda3/lib/python3.10/site-packages/ray/data/_internal/arrow_block.py:148: FutureWarning: promote has been superseded by mode='default'.\u001b[32m [repeated 5x across cluster]\u001b[0m\n",
      "\u001b[36m(MapWorker(MapBatches(process_data)->MapBatches(UpserterConcurrent)) pid=44830, ip=10.0.0.17)\u001b[0m   return transform_pyarrow.concat(tables)\u001b[32m [repeated 5x across cluster]\u001b[0m\n",
      "\u001b[36m(MapWorker(MapBatches(process_data)->MapBatches(UpserterConcurrent)) pid=44830, ip=10.0.0.17)\u001b[0m /home/ray/anaconda3/lib/python3.10/site-packages/ray/data/_internal/arrow_block.py:148: FutureWarning: promote has been superseded by mode='default'.\u001b[32m [repeated 5x across cluster]\u001b[0m\n",
      "\u001b[36m(MapWorker(MapBatches(process_data)->MapBatches(UpserterConcurrent)) pid=44830, ip=10.0.0.17)\u001b[0m   return transform_pyarrow.concat(tables)\u001b[32m [repeated 5x across cluster]\u001b[0m\n",
      "\u001b[36m(MapWorker(MapBatches(process_data)->MapBatches(UpserterConcurrent)) pid=44830, ip=10.0.0.17)\u001b[0m /home/ray/anaconda3/lib/python3.10/site-packages/ray/data/_internal/arrow_block.py:148: FutureWarning: promote has been superseded by mode='default'.\u001b[32m [repeated 5x across cluster]\u001b[0m\n",
      "\u001b[36m(MapWorker(MapBatches(process_data)->MapBatches(UpserterConcurrent)) pid=44830, ip=10.0.0.17)\u001b[0m   return transform_pyarrow.concat(tables)\u001b[32m [repeated 5x across cluster]\u001b[0m\n",
      "\u001b[36m(MapWorker(MapBatches(process_data)->MapBatches(UpserterConcurrent)) pid=44830, ip=10.0.0.17)\u001b[0m /home/ray/anaconda3/lib/python3.10/site-packages/ray/data/_internal/arrow_block.py:148: FutureWarning: promote has been superseded by mode='default'.\u001b[32m [repeated 5x across cluster]\u001b[0m\n",
      "\u001b[36m(MapWorker(MapBatches(process_data)->MapBatches(UpserterConcurrent)) pid=44830, ip=10.0.0.17)\u001b[0m   return transform_pyarrow.concat(tables)\u001b[32m [repeated 5x across cluster]\u001b[0m\n",
      "\u001b[36m(MapWorker(MapBatches(process_data)->MapBatches(UpserterConcurrent)) pid=1215867)\u001b[0m /home/ray/anaconda3/lib/python3.10/site-packages/ray/data/_internal/arrow_block.py:148: FutureWarning: promote has been superseded by mode='default'.\u001b[32m [repeated 6x across cluster]\u001b[0m\n",
      "\u001b[36m(MapWorker(MapBatches(process_data)->MapBatches(UpserterConcurrent)) pid=1215867)\u001b[0m   return transform_pyarrow.concat(tables)\u001b[32m [repeated 6x across cluster]\u001b[0m\n",
      "\u001b[36m(MapWorker(MapBatches(process_data)->MapBatches(UpserterConcurrent)) pid=1215867)\u001b[0m /home/ray/anaconda3/lib/python3.10/site-packages/ray/data/_internal/arrow_block.py:148: FutureWarning: promote has been superseded by mode='default'.\u001b[32m [repeated 5x across cluster]\u001b[0m\n",
      "\u001b[36m(MapWorker(MapBatches(process_data)->MapBatches(UpserterConcurrent)) pid=1215867)\u001b[0m   return transform_pyarrow.concat(tables)\u001b[32m [repeated 5x across cluster]\u001b[0m\n",
      "\u001b[36m(MapWorker(MapBatches(process_data)->MapBatches(UpserterConcurrent)) pid=1215867)\u001b[0m /home/ray/anaconda3/lib/python3.10/site-packages/ray/data/_internal/arrow_block.py:148: FutureWarning: promote has been superseded by mode='default'.\u001b[32m [repeated 5x across cluster]\u001b[0m\n",
      "\u001b[36m(MapWorker(MapBatches(process_data)->MapBatches(UpserterConcurrent)) pid=1215867)\u001b[0m   return transform_pyarrow.concat(tables)\u001b[32m [repeated 5x across cluster]\u001b[0m\n",
      "\u001b[36m(MapWorker(MapBatches(process_data)->MapBatches(UpserterConcurrent)) pid=44830, ip=10.0.0.17)\u001b[0m /home/ray/anaconda3/lib/python3.10/site-packages/ray/data/_internal/arrow_block.py:148: FutureWarning: promote has been superseded by mode='default'.\u001b[32m [repeated 4x across cluster]\u001b[0m\n",
      "\u001b[36m(MapWorker(MapBatches(process_data)->MapBatches(UpserterConcurrent)) pid=44830, ip=10.0.0.17)\u001b[0m   return transform_pyarrow.concat(tables)\u001b[32m [repeated 4x across cluster]\u001b[0m\n",
      "\u001b[36m(MapWorker(MapBatches(process_data)->MapBatches(UpserterConcurrent)) pid=45188, ip=10.0.0.17)\u001b[0m /home/ray/anaconda3/lib/python3.10/site-packages/ray/data/_internal/arrow_block.py:148: FutureWarning: promote has been superseded by mode='default'.\u001b[32m [repeated 5x across cluster]\u001b[0m\n",
      "\u001b[36m(MapWorker(MapBatches(process_data)->MapBatches(UpserterConcurrent)) pid=45188, ip=10.0.0.17)\u001b[0m   return transform_pyarrow.concat(tables)\u001b[32m [repeated 5x across cluster]\u001b[0m\n",
      "\u001b[36m(MapWorker(MapBatches(process_data)->MapBatches(UpserterConcurrent)) pid=44830, ip=10.0.0.17)\u001b[0m /home/ray/anaconda3/lib/python3.10/site-packages/ray/data/_internal/arrow_block.py:148: FutureWarning: promote has been superseded by mode='default'.\u001b[32m [repeated 5x across cluster]\u001b[0m\n",
      "\u001b[36m(MapWorker(MapBatches(process_data)->MapBatches(UpserterConcurrent)) pid=44830, ip=10.0.0.17)\u001b[0m   return transform_pyarrow.concat(tables)\u001b[32m [repeated 5x across cluster]\u001b[0m\n",
      "\u001b[36m(MapWorker(MapBatches(process_data)->MapBatches(UpserterConcurrent)) pid=45188, ip=10.0.0.17)\u001b[0m /home/ray/anaconda3/lib/python3.10/site-packages/ray/data/_internal/arrow_block.py:148: FutureWarning: promote has been superseded by mode='default'.\u001b[32m [repeated 4x across cluster]\u001b[0m\n",
      "\u001b[36m(MapWorker(MapBatches(process_data)->MapBatches(UpserterConcurrent)) pid=45188, ip=10.0.0.17)\u001b[0m   return transform_pyarrow.concat(tables)\u001b[32m [repeated 4x across cluster]\u001b[0m\n",
      "\u001b[36m(MapWorker(MapBatches(process_data)->MapBatches(UpserterConcurrent)) pid=45188, ip=10.0.0.17)\u001b[0m /home/ray/anaconda3/lib/python3.10/site-packages/ray/data/_internal/arrow_block.py:148: FutureWarning: promote has been superseded by mode='default'.\u001b[32m [repeated 5x across cluster]\u001b[0m\n",
      "\u001b[36m(MapWorker(MapBatches(process_data)->MapBatches(UpserterConcurrent)) pid=45188, ip=10.0.0.17)\u001b[0m   return transform_pyarrow.concat(tables)\u001b[32m [repeated 5x across cluster]\u001b[0m\n",
      "\u001b[36m(MapWorker(MapBatches(process_data)->MapBatches(UpserterConcurrent)) pid=45188, ip=10.0.0.17)\u001b[0m /home/ray/anaconda3/lib/python3.10/site-packages/ray/data/_internal/arrow_block.py:148: FutureWarning: promote has been superseded by mode='default'.\u001b[32m [repeated 5x across cluster]\u001b[0m\n",
      "\u001b[36m(MapWorker(MapBatches(process_data)->MapBatches(UpserterConcurrent)) pid=45188, ip=10.0.0.17)\u001b[0m   return transform_pyarrow.concat(tables)\u001b[32m [repeated 5x across cluster]\u001b[0m\n",
      "\u001b[36m(MapWorker(MapBatches(process_data)->MapBatches(UpserterConcurrent)) pid=1215867)\u001b[0m /home/ray/anaconda3/lib/python3.10/site-packages/ray/data/_internal/arrow_block.py:148: FutureWarning: promote has been superseded by mode='default'.\u001b[32m [repeated 4x across cluster]\u001b[0m\n",
      "\u001b[36m(MapWorker(MapBatches(process_data)->MapBatches(UpserterConcurrent)) pid=1215867)\u001b[0m   return transform_pyarrow.concat(tables)\u001b[32m [repeated 4x across cluster]\u001b[0m\n",
      "\u001b[36m(MapWorker(MapBatches(process_data)->MapBatches(UpserterConcurrent)) pid=44830, ip=10.0.0.17)\u001b[0m /home/ray/anaconda3/lib/python3.10/site-packages/ray/data/_internal/arrow_block.py:148: FutureWarning: promote has been superseded by mode='default'.\u001b[32m [repeated 5x across cluster]\u001b[0m\n",
      "\u001b[36m(MapWorker(MapBatches(process_data)->MapBatches(UpserterConcurrent)) pid=44830, ip=10.0.0.17)\u001b[0m   return transform_pyarrow.concat(tables)\u001b[32m [repeated 5x across cluster]\u001b[0m\n",
      "\u001b[36m(MapWorker(MapBatches(process_data)->MapBatches(UpserterConcurrent)) pid=1215867)\u001b[0m /home/ray/anaconda3/lib/python3.10/site-packages/ray/data/_internal/arrow_block.py:148: FutureWarning: promote has been superseded by mode='default'.\u001b[32m [repeated 4x across cluster]\u001b[0m\n",
      "\u001b[36m(MapWorker(MapBatches(process_data)->MapBatches(UpserterConcurrent)) pid=1215867)\u001b[0m   return transform_pyarrow.concat(tables)\u001b[32m [repeated 4x across cluster]\u001b[0m\n",
      "\u001b[36m(MapWorker(MapBatches(process_data)->MapBatches(UpserterConcurrent)) pid=46641, ip=10.0.0.57)\u001b[0m /home/ray/anaconda3/lib/python3.10/site-packages/ray/data/_internal/arrow_block.py:148: FutureWarning: promote has been superseded by mode='default'.\u001b[32m [repeated 4x across cluster]\u001b[0m\n",
      "\u001b[36m(MapWorker(MapBatches(process_data)->MapBatches(UpserterConcurrent)) pid=46641, ip=10.0.0.57)\u001b[0m   return transform_pyarrow.concat(tables)\u001b[32m [repeated 4x across cluster]\u001b[0m\n",
      "\u001b[36m(MapWorker(MapBatches(process_data)->MapBatches(UpserterConcurrent)) pid=46641, ip=10.0.0.57)\u001b[0m /home/ray/anaconda3/lib/python3.10/site-packages/ray/data/_internal/arrow_block.py:148: FutureWarning: promote has been superseded by mode='default'.\u001b[32m [repeated 5x across cluster]\u001b[0m\n",
      "\u001b[36m(MapWorker(MapBatches(process_data)->MapBatches(UpserterConcurrent)) pid=46641, ip=10.0.0.57)\u001b[0m   return transform_pyarrow.concat(tables)\u001b[32m [repeated 5x across cluster]\u001b[0m\n",
      "\u001b[36m(MapWorker(MapBatches(process_data)->MapBatches(UpserterConcurrent)) pid=46641, ip=10.0.0.57)\u001b[0m /home/ray/anaconda3/lib/python3.10/site-packages/ray/data/_internal/arrow_block.py:148: FutureWarning: promote has been superseded by mode='default'.\u001b[32m [repeated 5x across cluster]\u001b[0m\n",
      "\u001b[36m(MapWorker(MapBatches(process_data)->MapBatches(UpserterConcurrent)) pid=46641, ip=10.0.0.57)\u001b[0m   return transform_pyarrow.concat(tables)\u001b[32m [repeated 5x across cluster]\u001b[0m\n",
      "\u001b[36m(MapWorker(MapBatches(process_data)->MapBatches(UpserterConcurrent)) pid=1215867)\u001b[0m /home/ray/anaconda3/lib/python3.10/site-packages/ray/data/_internal/arrow_block.py:148: FutureWarning: promote has been superseded by mode='default'.\u001b[32m [repeated 6x across cluster]\u001b[0m\n",
      "\u001b[36m(MapWorker(MapBatches(process_data)->MapBatches(UpserterConcurrent)) pid=1215867)\u001b[0m   return transform_pyarrow.concat(tables)\u001b[32m [repeated 6x across cluster]\u001b[0m\n",
      "\u001b[36m(MapWorker(MapBatches(process_data)->MapBatches(UpserterConcurrent)) pid=44830, ip=10.0.0.17)\u001b[0m /home/ray/anaconda3/lib/python3.10/site-packages/ray/data/_internal/arrow_block.py:148: FutureWarning: promote has been superseded by mode='default'.\u001b[32m [repeated 6x across cluster]\u001b[0m\n",
      "\u001b[36m(MapWorker(MapBatches(process_data)->MapBatches(UpserterConcurrent)) pid=44830, ip=10.0.0.17)\u001b[0m   return transform_pyarrow.concat(tables)\u001b[32m [repeated 6x across cluster]\u001b[0m\n",
      "\u001b[36m(MapWorker(MapBatches(process_data)->MapBatches(UpserterConcurrent)) pid=44830, ip=10.0.0.17)\u001b[0m /home/ray/anaconda3/lib/python3.10/site-packages/ray/data/_internal/arrow_block.py:148: FutureWarning: promote has been superseded by mode='default'.\u001b[32m [repeated 6x across cluster]\u001b[0m\n",
      "\u001b[36m(MapWorker(MapBatches(process_data)->MapBatches(UpserterConcurrent)) pid=44830, ip=10.0.0.17)\u001b[0m   return transform_pyarrow.concat(tables)\u001b[32m [repeated 6x across cluster]\u001b[0m\n",
      "\u001b[36m(MapWorker(MapBatches(process_data)->MapBatches(UpserterConcurrent)) pid=46641, ip=10.0.0.57)\u001b[0m /home/ray/anaconda3/lib/python3.10/site-packages/ray/data/_internal/arrow_block.py:148: FutureWarning: promote has been superseded by mode='default'.\u001b[32m [repeated 5x across cluster]\u001b[0m\n",
      "\u001b[36m(MapWorker(MapBatches(process_data)->MapBatches(UpserterConcurrent)) pid=46641, ip=10.0.0.57)\u001b[0m   return transform_pyarrow.concat(tables)\u001b[32m [repeated 5x across cluster]\u001b[0m\n",
      "\u001b[36m(MapWorker(MapBatches(process_data)->MapBatches(UpserterConcurrent)) pid=45188, ip=10.0.0.17)\u001b[0m /home/ray/anaconda3/lib/python3.10/site-packages/ray/data/_internal/arrow_block.py:148: FutureWarning: promote has been superseded by mode='default'.\u001b[32m [repeated 6x across cluster]\u001b[0m\n",
      "\u001b[36m(MapWorker(MapBatches(process_data)->MapBatches(UpserterConcurrent)) pid=45188, ip=10.0.0.17)\u001b[0m   return transform_pyarrow.concat(tables)\u001b[32m [repeated 6x across cluster]\u001b[0m\n",
      "\u001b[36m(MapWorker(MapBatches(process_data)->MapBatches(UpserterConcurrent)) pid=46641, ip=10.0.0.57)\u001b[0m /home/ray/anaconda3/lib/python3.10/site-packages/ray/data/_internal/arrow_block.py:148: FutureWarning: promote has been superseded by mode='default'.\u001b[32m [repeated 4x across cluster]\u001b[0m\n",
      "\u001b[36m(MapWorker(MapBatches(process_data)->MapBatches(UpserterConcurrent)) pid=46641, ip=10.0.0.57)\u001b[0m   return transform_pyarrow.concat(tables)\u001b[32m [repeated 4x across cluster]\u001b[0m\n",
      "\u001b[36m(MapWorker(MapBatches(process_data)->MapBatches(UpserterConcurrent)) pid=15918, ip=10.0.0.63)\u001b[0m /home/ray/anaconda3/lib/python3.10/site-packages/ray/data/_internal/arrow_block.py:148: FutureWarning: promote has been superseded by mode='default'.\u001b[32m [repeated 5x across cluster]\u001b[0m\n",
      "\u001b[36m(MapWorker(MapBatches(process_data)->MapBatches(UpserterConcurrent)) pid=15918, ip=10.0.0.63)\u001b[0m   return transform_pyarrow.concat(tables)\u001b[32m [repeated 5x across cluster]\u001b[0m\n",
      "\u001b[36m(MapWorker(MapBatches(process_data)->MapBatches(UpserterConcurrent)) pid=46641, ip=10.0.0.57)\u001b[0m /home/ray/anaconda3/lib/python3.10/site-packages/ray/data/_internal/arrow_block.py:148: FutureWarning: promote has been superseded by mode='default'.\u001b[32m [repeated 4x across cluster]\u001b[0m\n",
      "\u001b[36m(MapWorker(MapBatches(process_data)->MapBatches(UpserterConcurrent)) pid=46641, ip=10.0.0.57)\u001b[0m   return transform_pyarrow.concat(tables)\u001b[32m [repeated 4x across cluster]\u001b[0m\n",
      "\u001b[36m(MapWorker(MapBatches(process_data)->MapBatches(UpserterConcurrent)) pid=44830, ip=10.0.0.17)\u001b[0m /home/ray/anaconda3/lib/python3.10/site-packages/ray/data/_internal/arrow_block.py:148: FutureWarning: promote has been superseded by mode='default'.\u001b[32m [repeated 3x across cluster]\u001b[0m\n",
      "\u001b[36m(MapWorker(MapBatches(process_data)->MapBatches(UpserterConcurrent)) pid=44830, ip=10.0.0.17)\u001b[0m   return transform_pyarrow.concat(tables)\u001b[32m [repeated 3x across cluster]\u001b[0m\n",
      "\u001b[36m(MapWorker(MapBatches(process_data)->MapBatches(UpserterConcurrent)) pid=1215867)\u001b[0m /home/ray/anaconda3/lib/python3.10/site-packages/ray/data/_internal/arrow_block.py:148: FutureWarning: promote has been superseded by mode='default'.\u001b[32m [repeated 5x across cluster]\u001b[0m\n",
      "\u001b[36m(MapWorker(MapBatches(process_data)->MapBatches(UpserterConcurrent)) pid=1215867)\u001b[0m   return transform_pyarrow.concat(tables)\u001b[32m [repeated 5x across cluster]\u001b[0m\n",
      "\u001b[36m(MapWorker(MapBatches(process_data)->MapBatches(UpserterConcurrent)) pid=45188, ip=10.0.0.17)\u001b[0m /home/ray/anaconda3/lib/python3.10/site-packages/ray/data/_internal/arrow_block.py:148: FutureWarning: promote has been superseded by mode='default'.\u001b[32m [repeated 4x across cluster]\u001b[0m\n",
      "\u001b[36m(MapWorker(MapBatches(process_data)->MapBatches(UpserterConcurrent)) pid=45188, ip=10.0.0.17)\u001b[0m   return transform_pyarrow.concat(tables)\u001b[32m [repeated 4x across cluster]\u001b[0m\n",
      "\u001b[36m(MapWorker(MapBatches(process_data)->MapBatches(UpserterConcurrent)) pid=1215867)\u001b[0m /home/ray/anaconda3/lib/python3.10/site-packages/ray/data/_internal/arrow_block.py:148: FutureWarning: promote has been superseded by mode='default'.\u001b[32m [repeated 5x across cluster]\u001b[0m\n",
      "\u001b[36m(MapWorker(MapBatches(process_data)->MapBatches(UpserterConcurrent)) pid=1215867)\u001b[0m   return transform_pyarrow.concat(tables)\u001b[32m [repeated 5x across cluster]\u001b[0m\n",
      "\u001b[36m(MapWorker(MapBatches(process_data)->MapBatches(UpserterConcurrent)) pid=1215867)\u001b[0m /home/ray/anaconda3/lib/python3.10/site-packages/ray/data/_internal/arrow_block.py:148: FutureWarning: promote has been superseded by mode='default'.\u001b[32m [repeated 5x across cluster]\u001b[0m\n",
      "\u001b[36m(MapWorker(MapBatches(process_data)->MapBatches(UpserterConcurrent)) pid=1215867)\u001b[0m   return transform_pyarrow.concat(tables)\u001b[32m [repeated 5x across cluster]\u001b[0m\n",
      "\u001b[36m(MapWorker(MapBatches(process_data)->MapBatches(UpserterConcurrent)) pid=1215867)\u001b[0m /home/ray/anaconda3/lib/python3.10/site-packages/ray/data/_internal/arrow_block.py:148: FutureWarning: promote has been superseded by mode='default'.\u001b[32m [repeated 5x across cluster]\u001b[0m\n",
      "\u001b[36m(MapWorker(MapBatches(process_data)->MapBatches(UpserterConcurrent)) pid=1215867)\u001b[0m   return transform_pyarrow.concat(tables)\u001b[32m [repeated 5x across cluster]\u001b[0m\n",
      "\u001b[36m(MapWorker(MapBatches(process_data)->MapBatches(UpserterConcurrent)) pid=46641, ip=10.0.0.57)\u001b[0m /home/ray/anaconda3/lib/python3.10/site-packages/ray/data/_internal/arrow_block.py:148: FutureWarning: promote has been superseded by mode='default'.\u001b[32m [repeated 5x across cluster]\u001b[0m\n",
      "\u001b[36m(MapWorker(MapBatches(process_data)->MapBatches(UpserterConcurrent)) pid=46641, ip=10.0.0.57)\u001b[0m   return transform_pyarrow.concat(tables)\u001b[32m [repeated 5x across cluster]\u001b[0m\n",
      "\u001b[36m(MapWorker(MapBatches(process_data)->MapBatches(UpserterConcurrent)) pid=46641, ip=10.0.0.57)\u001b[0m /home/ray/anaconda3/lib/python3.10/site-packages/ray/data/_internal/arrow_block.py:148: FutureWarning: promote has been superseded by mode='default'.\u001b[32m [repeated 5x across cluster]\u001b[0m\n",
      "\u001b[36m(MapWorker(MapBatches(process_data)->MapBatches(UpserterConcurrent)) pid=46641, ip=10.0.0.57)\u001b[0m   return transform_pyarrow.concat(tables)\u001b[32m [repeated 5x across cluster]\u001b[0m\n",
      "\u001b[36m(MapWorker(MapBatches(process_data)->MapBatches(UpserterConcurrent)) pid=1215867)\u001b[0m /home/ray/anaconda3/lib/python3.10/site-packages/ray/data/_internal/arrow_block.py:148: FutureWarning: promote has been superseded by mode='default'.\u001b[32m [repeated 5x across cluster]\u001b[0m\n",
      "\u001b[36m(MapWorker(MapBatches(process_data)->MapBatches(UpserterConcurrent)) pid=1215867)\u001b[0m   return transform_pyarrow.concat(tables)\u001b[32m [repeated 5x across cluster]\u001b[0m\n",
      "\u001b[36m(MapWorker(MapBatches(process_data)->MapBatches(UpserterConcurrent)) pid=46641, ip=10.0.0.57)\u001b[0m /home/ray/anaconda3/lib/python3.10/site-packages/ray/data/_internal/arrow_block.py:148: FutureWarning: promote has been superseded by mode='default'.\u001b[32m [repeated 5x across cluster]\u001b[0m\n",
      "\u001b[36m(MapWorker(MapBatches(process_data)->MapBatches(UpserterConcurrent)) pid=46641, ip=10.0.0.57)\u001b[0m   return transform_pyarrow.concat(tables)\u001b[32m [repeated 5x across cluster]\u001b[0m\n",
      "\u001b[36m(MapWorker(MapBatches(process_data)->MapBatches(UpserterConcurrent)) pid=46641, ip=10.0.0.57)\u001b[0m /home/ray/anaconda3/lib/python3.10/site-packages/ray/data/_internal/arrow_block.py:148: FutureWarning: promote has been superseded by mode='default'.\u001b[32m [repeated 5x across cluster]\u001b[0m\n",
      "\u001b[36m(MapWorker(MapBatches(process_data)->MapBatches(UpserterConcurrent)) pid=46641, ip=10.0.0.57)\u001b[0m   return transform_pyarrow.concat(tables)\u001b[32m [repeated 5x across cluster]\u001b[0m\n",
      "\u001b[36m(MapWorker(MapBatches(process_data)->MapBatches(UpserterConcurrent)) pid=46641, ip=10.0.0.57)\u001b[0m /home/ray/anaconda3/lib/python3.10/site-packages/ray/data/_internal/arrow_block.py:148: FutureWarning: promote has been superseded by mode='default'.\u001b[32m [repeated 5x across cluster]\u001b[0m\n",
      "\u001b[36m(MapWorker(MapBatches(process_data)->MapBatches(UpserterConcurrent)) pid=46641, ip=10.0.0.57)\u001b[0m   return transform_pyarrow.concat(tables)\u001b[32m [repeated 5x across cluster]\u001b[0m\n",
      "\u001b[36m(MapWorker(MapBatches(process_data)->MapBatches(UpserterConcurrent)) pid=1215867)\u001b[0m /home/ray/anaconda3/lib/python3.10/site-packages/ray/data/_internal/arrow_block.py:148: FutureWarning: promote has been superseded by mode='default'.\u001b[32m [repeated 5x across cluster]\u001b[0m\n",
      "\u001b[36m(MapWorker(MapBatches(process_data)->MapBatches(UpserterConcurrent)) pid=1215867)\u001b[0m   return transform_pyarrow.concat(tables)\u001b[32m [repeated 5x across cluster]\u001b[0m\n",
      "\u001b[36m(MapWorker(MapBatches(process_data)->MapBatches(UpserterConcurrent)) pid=46641, ip=10.0.0.57)\u001b[0m /home/ray/anaconda3/lib/python3.10/site-packages/ray/data/_internal/arrow_block.py:148: FutureWarning: promote has been superseded by mode='default'.\u001b[32m [repeated 7x across cluster]\u001b[0m\n",
      "\u001b[36m(MapWorker(MapBatches(process_data)->MapBatches(UpserterConcurrent)) pid=46641, ip=10.0.0.57)\u001b[0m   return transform_pyarrow.concat(tables)\u001b[32m [repeated 7x across cluster]\u001b[0m\n",
      "\u001b[36m(MapWorker(MapBatches(process_data)->MapBatches(UpserterConcurrent)) pid=15918, ip=10.0.0.63)\u001b[0m /home/ray/anaconda3/lib/python3.10/site-packages/ray/data/_internal/arrow_block.py:148: FutureWarning: promote has been superseded by mode='default'.\u001b[32m [repeated 4x across cluster]\u001b[0m\n",
      "\u001b[36m(MapWorker(MapBatches(process_data)->MapBatches(UpserterConcurrent)) pid=15918, ip=10.0.0.63)\u001b[0m   return transform_pyarrow.concat(tables)\u001b[32m [repeated 4x across cluster]\u001b[0m\n",
      "\u001b[36m(MapWorker(MapBatches(process_data)->MapBatches(UpserterConcurrent)) pid=46641, ip=10.0.0.57)\u001b[0m /home/ray/anaconda3/lib/python3.10/site-packages/ray/data/_internal/arrow_block.py:148: FutureWarning: promote has been superseded by mode='default'.\u001b[32m [repeated 5x across cluster]\u001b[0m\n",
      "\u001b[36m(MapWorker(MapBatches(process_data)->MapBatches(UpserterConcurrent)) pid=46641, ip=10.0.0.57)\u001b[0m   return transform_pyarrow.concat(tables)\u001b[32m [repeated 5x across cluster]\u001b[0m\n",
      "\u001b[36m(MapWorker(MapBatches(process_data)->MapBatches(UpserterConcurrent)) pid=46641, ip=10.0.0.57)\u001b[0m /home/ray/anaconda3/lib/python3.10/site-packages/ray/data/_internal/arrow_block.py:148: FutureWarning: promote has been superseded by mode='default'.\u001b[32m [repeated 5x across cluster]\u001b[0m\n",
      "\u001b[36m(MapWorker(MapBatches(process_data)->MapBatches(UpserterConcurrent)) pid=46641, ip=10.0.0.57)\u001b[0m   return transform_pyarrow.concat(tables)\u001b[32m [repeated 5x across cluster]\u001b[0m\n",
      "\u001b[36m(MapWorker(MapBatches(process_data)->MapBatches(UpserterConcurrent)) pid=46641, ip=10.0.0.57)\u001b[0m /home/ray/anaconda3/lib/python3.10/site-packages/ray/data/_internal/arrow_block.py:148: FutureWarning: promote has been superseded by mode='default'.\u001b[32m [repeated 5x across cluster]\u001b[0m\n",
      "\u001b[36m(MapWorker(MapBatches(process_data)->MapBatches(UpserterConcurrent)) pid=46641, ip=10.0.0.57)\u001b[0m   return transform_pyarrow.concat(tables)\u001b[32m [repeated 5x across cluster]\u001b[0m\n",
      "\u001b[36m(MapWorker(MapBatches(process_data)->MapBatches(UpserterConcurrent)) pid=46641, ip=10.0.0.57)\u001b[0m /home/ray/anaconda3/lib/python3.10/site-packages/ray/data/_internal/arrow_block.py:148: FutureWarning: promote has been superseded by mode='default'.\u001b[32m [repeated 6x across cluster]\u001b[0m\n",
      "\u001b[36m(MapWorker(MapBatches(process_data)->MapBatches(UpserterConcurrent)) pid=46641, ip=10.0.0.57)\u001b[0m   return transform_pyarrow.concat(tables)\u001b[32m [repeated 6x across cluster]\u001b[0m\n",
      "\u001b[36m(MapWorker(MapBatches(process_data)->MapBatches(UpserterConcurrent)) pid=15918, ip=10.0.0.63)\u001b[0m /home/ray/anaconda3/lib/python3.10/site-packages/ray/data/_internal/arrow_block.py:148: FutureWarning: promote has been superseded by mode='default'.\u001b[32m [repeated 5x across cluster]\u001b[0m\n",
      "\u001b[36m(MapWorker(MapBatches(process_data)->MapBatches(UpserterConcurrent)) pid=15918, ip=10.0.0.63)\u001b[0m   return transform_pyarrow.concat(tables)\u001b[32m [repeated 5x across cluster]\u001b[0m\n",
      "\u001b[36m(MapWorker(MapBatches(process_data)->MapBatches(UpserterConcurrent)) pid=46641, ip=10.0.0.57)\u001b[0m /home/ray/anaconda3/lib/python3.10/site-packages/ray/data/_internal/arrow_block.py:148: FutureWarning: promote has been superseded by mode='default'.\u001b[32m [repeated 4x across cluster]\u001b[0m\n",
      "\u001b[36m(MapWorker(MapBatches(process_data)->MapBatches(UpserterConcurrent)) pid=46641, ip=10.0.0.57)\u001b[0m   return transform_pyarrow.concat(tables)\u001b[32m [repeated 4x across cluster]\u001b[0m\n",
      "\u001b[36m(MapWorker(MapBatches(process_data)->MapBatches(UpserterConcurrent)) pid=46641, ip=10.0.0.57)\u001b[0m /home/ray/anaconda3/lib/python3.10/site-packages/ray/data/_internal/arrow_block.py:148: FutureWarning: promote has been superseded by mode='default'.\u001b[32m [repeated 5x across cluster]\u001b[0m\n",
      "\u001b[36m(MapWorker(MapBatches(process_data)->MapBatches(UpserterConcurrent)) pid=46641, ip=10.0.0.57)\u001b[0m   return transform_pyarrow.concat(tables)\u001b[32m [repeated 5x across cluster]\u001b[0m\n",
      "\u001b[36m(MapWorker(MapBatches(process_data)->MapBatches(UpserterConcurrent)) pid=15918, ip=10.0.0.63)\u001b[0m /home/ray/anaconda3/lib/python3.10/site-packages/ray/data/_internal/arrow_block.py:148: FutureWarning: promote has been superseded by mode='default'.\u001b[32m [repeated 6x across cluster]\u001b[0m\n",
      "\u001b[36m(MapWorker(MapBatches(process_data)->MapBatches(UpserterConcurrent)) pid=15918, ip=10.0.0.63)\u001b[0m   return transform_pyarrow.concat(tables)\u001b[32m [repeated 6x across cluster]\u001b[0m\n",
      "\u001b[36m(MapWorker(MapBatches(process_data)->MapBatches(UpserterConcurrent)) pid=15918, ip=10.0.0.63)\u001b[0m /home/ray/anaconda3/lib/python3.10/site-packages/ray/data/_internal/arrow_block.py:148: FutureWarning: promote has been superseded by mode='default'.\u001b[32m [repeated 4x across cluster]\u001b[0m\n",
      "\u001b[36m(MapWorker(MapBatches(process_data)->MapBatches(UpserterConcurrent)) pid=15918, ip=10.0.0.63)\u001b[0m   return transform_pyarrow.concat(tables)\u001b[32m [repeated 4x across cluster]\u001b[0m\n",
      "\u001b[36m(MapWorker(MapBatches(process_data)->MapBatches(UpserterConcurrent)) pid=46641, ip=10.0.0.57)\u001b[0m /home/ray/anaconda3/lib/python3.10/site-packages/ray/data/_internal/arrow_block.py:148: FutureWarning: promote has been superseded by mode='default'.\u001b[32m [repeated 7x across cluster]\u001b[0m\n",
      "\u001b[36m(MapWorker(MapBatches(process_data)->MapBatches(UpserterConcurrent)) pid=46641, ip=10.0.0.57)\u001b[0m   return transform_pyarrow.concat(tables)\u001b[32m [repeated 7x across cluster]\u001b[0m\n",
      "\u001b[36m(MapWorker(MapBatches(process_data)->MapBatches(UpserterConcurrent)) pid=15918, ip=10.0.0.63)\u001b[0m /home/ray/anaconda3/lib/python3.10/site-packages/ray/data/_internal/arrow_block.py:148: FutureWarning: promote has been superseded by mode='default'.\u001b[32m [repeated 6x across cluster]\u001b[0m\n",
      "\u001b[36m(MapWorker(MapBatches(process_data)->MapBatches(UpserterConcurrent)) pid=15918, ip=10.0.0.63)\u001b[0m   return transform_pyarrow.concat(tables)\u001b[32m [repeated 6x across cluster]\u001b[0m\n",
      "\u001b[36m(MapWorker(MapBatches(process_data)->MapBatches(UpserterConcurrent)) pid=1215867)\u001b[0m /home/ray/anaconda3/lib/python3.10/site-packages/ray/data/_internal/arrow_block.py:148: FutureWarning: promote has been superseded by mode='default'.\u001b[32m [repeated 5x across cluster]\u001b[0m\n",
      "\u001b[36m(MapWorker(MapBatches(process_data)->MapBatches(UpserterConcurrent)) pid=1215867)\u001b[0m   return transform_pyarrow.concat(tables)\u001b[32m [repeated 5x across cluster]\u001b[0m\n",
      "\u001b[36m(MapWorker(MapBatches(process_data)->MapBatches(UpserterConcurrent)) pid=15918, ip=10.0.0.63)\u001b[0m /home/ray/anaconda3/lib/python3.10/site-packages/ray/data/_internal/arrow_block.py:148: FutureWarning: promote has been superseded by mode='default'.\u001b[32m [repeated 4x across cluster]\u001b[0m\n",
      "\u001b[36m(MapWorker(MapBatches(process_data)->MapBatches(UpserterConcurrent)) pid=15918, ip=10.0.0.63)\u001b[0m   return transform_pyarrow.concat(tables)\u001b[32m [repeated 4x across cluster]\u001b[0m\n",
      "\u001b[36m(MapWorker(MapBatches(process_data)->MapBatches(UpserterConcurrent)) pid=15918, ip=10.0.0.63)\u001b[0m /home/ray/anaconda3/lib/python3.10/site-packages/ray/data/_internal/arrow_block.py:148: FutureWarning: promote has been superseded by mode='default'.\u001b[32m [repeated 5x across cluster]\u001b[0m\n",
      "\u001b[36m(MapWorker(MapBatches(process_data)->MapBatches(UpserterConcurrent)) pid=15918, ip=10.0.0.63)\u001b[0m   return transform_pyarrow.concat(tables)\u001b[32m [repeated 5x across cluster]\u001b[0m\n",
      "\u001b[36m(MapWorker(MapBatches(process_data)->MapBatches(UpserterConcurrent)) pid=45188, ip=10.0.0.17)\u001b[0m /home/ray/anaconda3/lib/python3.10/site-packages/ray/data/_internal/arrow_block.py:148: FutureWarning: promote has been superseded by mode='default'.\u001b[32m [repeated 4x across cluster]\u001b[0m\n",
      "\u001b[36m(MapWorker(MapBatches(process_data)->MapBatches(UpserterConcurrent)) pid=45188, ip=10.0.0.17)\u001b[0m   return transform_pyarrow.concat(tables)\u001b[32m [repeated 4x across cluster]\u001b[0m\n",
      "\u001b[36m(MapWorker(MapBatches(process_data)->MapBatches(UpserterConcurrent)) pid=44830, ip=10.0.0.17)\u001b[0m /home/ray/anaconda3/lib/python3.10/site-packages/ray/data/_internal/arrow_block.py:148: FutureWarning: promote has been superseded by mode='default'.\u001b[32m [repeated 4x across cluster]\u001b[0m\n",
      "\u001b[36m(MapWorker(MapBatches(process_data)->MapBatches(UpserterConcurrent)) pid=44830, ip=10.0.0.17)\u001b[0m   return transform_pyarrow.concat(tables)\u001b[32m [repeated 4x across cluster]\u001b[0m\n",
      "\u001b[36m(MapWorker(MapBatches(process_data)->MapBatches(UpserterConcurrent)) pid=46641, ip=10.0.0.57)\u001b[0m /home/ray/anaconda3/lib/python3.10/site-packages/ray/data/_internal/arrow_block.py:148: FutureWarning: promote has been superseded by mode='default'.\u001b[32m [repeated 4x across cluster]\u001b[0m\n",
      "\u001b[36m(MapWorker(MapBatches(process_data)->MapBatches(UpserterConcurrent)) pid=46641, ip=10.0.0.57)\u001b[0m   return transform_pyarrow.concat(tables)\u001b[32m [repeated 4x across cluster]\u001b[0m\n",
      "\u001b[36m(MapWorker(MapBatches(process_data)->MapBatches(UpserterConcurrent)) pid=46641, ip=10.0.0.57)\u001b[0m /home/ray/anaconda3/lib/python3.10/site-packages/ray/data/_internal/arrow_block.py:148: FutureWarning: promote has been superseded by mode='default'.\u001b[32m [repeated 5x across cluster]\u001b[0m\n",
      "\u001b[36m(MapWorker(MapBatches(process_data)->MapBatches(UpserterConcurrent)) pid=46641, ip=10.0.0.57)\u001b[0m   return transform_pyarrow.concat(tables)\u001b[32m [repeated 5x across cluster]\u001b[0m\n",
      "\u001b[36m(MapWorker(MapBatches(process_data)->MapBatches(UpserterConcurrent)) pid=46641, ip=10.0.0.57)\u001b[0m /home/ray/anaconda3/lib/python3.10/site-packages/ray/data/_internal/arrow_block.py:148: FutureWarning: promote has been superseded by mode='default'.\u001b[32m [repeated 5x across cluster]\u001b[0m\n",
      "\u001b[36m(MapWorker(MapBatches(process_data)->MapBatches(UpserterConcurrent)) pid=46641, ip=10.0.0.57)\u001b[0m   return transform_pyarrow.concat(tables)\u001b[32m [repeated 5x across cluster]\u001b[0m\n",
      "\u001b[36m(MapWorker(MapBatches(process_data)->MapBatches(UpserterConcurrent)) pid=1215867)\u001b[0m /home/ray/anaconda3/lib/python3.10/site-packages/ray/data/_internal/arrow_block.py:148: FutureWarning: promote has been superseded by mode='default'.\u001b[32m [repeated 4x across cluster]\u001b[0m\n",
      "\u001b[36m(MapWorker(MapBatches(process_data)->MapBatches(UpserterConcurrent)) pid=1215867)\u001b[0m   return transform_pyarrow.concat(tables)\u001b[32m [repeated 4x across cluster]\u001b[0m\n",
      "\u001b[36m(MapWorker(MapBatches(process_data)->MapBatches(UpserterConcurrent)) pid=15918, ip=10.0.0.63)\u001b[0m /home/ray/anaconda3/lib/python3.10/site-packages/ray/data/_internal/arrow_block.py:148: FutureWarning: promote has been superseded by mode='default'.\u001b[32m [repeated 4x across cluster]\u001b[0m\n",
      "\u001b[36m(MapWorker(MapBatches(process_data)->MapBatches(UpserterConcurrent)) pid=15918, ip=10.0.0.63)\u001b[0m   return transform_pyarrow.concat(tables)\u001b[32m [repeated 4x across cluster]\u001b[0m\n",
      "\u001b[36m(MapWorker(MapBatches(process_data)->MapBatches(UpserterConcurrent)) pid=45188, ip=10.0.0.17)\u001b[0m /home/ray/anaconda3/lib/python3.10/site-packages/ray/data/_internal/arrow_block.py:148: FutureWarning: promote has been superseded by mode='default'.\u001b[32m [repeated 4x across cluster]\u001b[0m\n",
      "\u001b[36m(MapWorker(MapBatches(process_data)->MapBatches(UpserterConcurrent)) pid=45188, ip=10.0.0.17)\u001b[0m   return transform_pyarrow.concat(tables)\u001b[32m [repeated 4x across cluster]\u001b[0m\n",
      "\u001b[36m(MapWorker(MapBatches(process_data)->MapBatches(UpserterConcurrent)) pid=44830, ip=10.0.0.17)\u001b[0m /home/ray/anaconda3/lib/python3.10/site-packages/ray/data/_internal/arrow_block.py:148: FutureWarning: promote has been superseded by mode='default'.\u001b[32m [repeated 4x across cluster]\u001b[0m\n",
      "\u001b[36m(MapWorker(MapBatches(process_data)->MapBatches(UpserterConcurrent)) pid=44830, ip=10.0.0.17)\u001b[0m   return transform_pyarrow.concat(tables)\u001b[32m [repeated 4x across cluster]\u001b[0m\n",
      "\u001b[36m(MapWorker(MapBatches(process_data)->MapBatches(UpserterConcurrent)) pid=46641, ip=10.0.0.57)\u001b[0m /home/ray/anaconda3/lib/python3.10/site-packages/ray/data/_internal/arrow_block.py:148: FutureWarning: promote has been superseded by mode='default'.\u001b[32m [repeated 6x across cluster]\u001b[0m\n",
      "\u001b[36m(MapWorker(MapBatches(process_data)->MapBatches(UpserterConcurrent)) pid=46641, ip=10.0.0.57)\u001b[0m   return transform_pyarrow.concat(tables)\u001b[32m [repeated 6x across cluster]\u001b[0m\n",
      "\u001b[36m(MapWorker(MapBatches(process_data)->MapBatches(UpserterConcurrent)) pid=45188, ip=10.0.0.17)\u001b[0m /home/ray/anaconda3/lib/python3.10/site-packages/ray/data/_internal/arrow_block.py:148: FutureWarning: promote has been superseded by mode='default'.\u001b[32m [repeated 5x across cluster]\u001b[0m\n",
      "\u001b[36m(MapWorker(MapBatches(process_data)->MapBatches(UpserterConcurrent)) pid=45188, ip=10.0.0.17)\u001b[0m   return transform_pyarrow.concat(tables)\u001b[32m [repeated 5x across cluster]\u001b[0m\n",
      "\u001b[36m(MapWorker(MapBatches(process_data)->MapBatches(UpserterConcurrent)) pid=1215867)\u001b[0m /home/ray/anaconda3/lib/python3.10/site-packages/ray/data/_internal/arrow_block.py:148: FutureWarning: promote has been superseded by mode='default'.\u001b[32m [repeated 5x across cluster]\u001b[0m\n",
      "\u001b[36m(MapWorker(MapBatches(process_data)->MapBatches(UpserterConcurrent)) pid=1215867)\u001b[0m   return transform_pyarrow.concat(tables)\u001b[32m [repeated 5x across cluster]\u001b[0m\n",
      "\u001b[36m(MapWorker(MapBatches(process_data)->MapBatches(UpserterConcurrent)) pid=15918, ip=10.0.0.63)\u001b[0m /home/ray/anaconda3/lib/python3.10/site-packages/ray/data/_internal/arrow_block.py:148: FutureWarning: promote has been superseded by mode='default'.\u001b[32m [repeated 5x across cluster]\u001b[0m\n",
      "\u001b[36m(MapWorker(MapBatches(process_data)->MapBatches(UpserterConcurrent)) pid=15918, ip=10.0.0.63)\u001b[0m   return transform_pyarrow.concat(tables)\u001b[32m [repeated 5x across cluster]\u001b[0m\n",
      "\u001b[36m(MapWorker(MapBatches(process_data)->MapBatches(UpserterConcurrent)) pid=45188, ip=10.0.0.17)\u001b[0m /home/ray/anaconda3/lib/python3.10/site-packages/ray/data/_internal/arrow_block.py:148: FutureWarning: promote has been superseded by mode='default'.\u001b[32m [repeated 6x across cluster]\u001b[0m\n",
      "\u001b[36m(MapWorker(MapBatches(process_data)->MapBatches(UpserterConcurrent)) pid=45188, ip=10.0.0.17)\u001b[0m   return transform_pyarrow.concat(tables)\u001b[32m [repeated 6x across cluster]\u001b[0m\n",
      "\u001b[36m(MapWorker(MapBatches(process_data)->MapBatches(UpserterConcurrent)) pid=44830, ip=10.0.0.17)\u001b[0m /home/ray/anaconda3/lib/python3.10/site-packages/ray/data/_internal/arrow_block.py:148: FutureWarning: promote has been superseded by mode='default'.\u001b[32m [repeated 8x across cluster]\u001b[0m\n",
      "\u001b[36m(MapWorker(MapBatches(process_data)->MapBatches(UpserterConcurrent)) pid=44830, ip=10.0.0.17)\u001b[0m   return transform_pyarrow.concat(tables)\u001b[32m [repeated 8x across cluster]\u001b[0m\n",
      "\u001b[36m(MapWorker(MapBatches(process_data)->MapBatches(UpserterConcurrent)) pid=46641, ip=10.0.0.57)\u001b[0m /home/ray/anaconda3/lib/python3.10/site-packages/ray/data/_internal/arrow_block.py:148: FutureWarning: promote has been superseded by mode='default'.\u001b[32m [repeated 4x across cluster]\u001b[0m\n",
      "\u001b[36m(MapWorker(MapBatches(process_data)->MapBatches(UpserterConcurrent)) pid=46641, ip=10.0.0.57)\u001b[0m   return transform_pyarrow.concat(tables)\u001b[32m [repeated 4x across cluster]\u001b[0m\n",
      "\u001b[36m(MapWorker(MapBatches(process_data)->MapBatches(UpserterConcurrent)) pid=46641, ip=10.0.0.57)\u001b[0m /home/ray/anaconda3/lib/python3.10/site-packages/ray/data/_internal/arrow_block.py:148: FutureWarning: promote has been superseded by mode='default'.\u001b[32m [repeated 4x across cluster]\u001b[0m\n",
      "\u001b[36m(MapWorker(MapBatches(process_data)->MapBatches(UpserterConcurrent)) pid=46641, ip=10.0.0.57)\u001b[0m   return transform_pyarrow.concat(tables)\u001b[32m [repeated 4x across cluster]\u001b[0m\n",
      "\u001b[36m(MapWorker(MapBatches(process_data)->MapBatches(UpserterConcurrent)) pid=45188, ip=10.0.0.17)\u001b[0m /home/ray/anaconda3/lib/python3.10/site-packages/ray/data/_internal/arrow_block.py:148: FutureWarning: promote has been superseded by mode='default'.\u001b[32m [repeated 3x across cluster]\u001b[0m\n",
      "\u001b[36m(MapWorker(MapBatches(process_data)->MapBatches(UpserterConcurrent)) pid=45188, ip=10.0.0.17)\u001b[0m   return transform_pyarrow.concat(tables)\u001b[32m [repeated 3x across cluster]\u001b[0m\n",
      "\u001b[36m(MapWorker(MapBatches(process_data)->MapBatches(UpserterConcurrent)) pid=45188, ip=10.0.0.17)\u001b[0m /home/ray/anaconda3/lib/python3.10/site-packages/ray/data/_internal/arrow_block.py:148: FutureWarning: promote has been superseded by mode='default'.\u001b[32m [repeated 5x across cluster]\u001b[0m\n",
      "\u001b[36m(MapWorker(MapBatches(process_data)->MapBatches(UpserterConcurrent)) pid=45188, ip=10.0.0.17)\u001b[0m   return transform_pyarrow.concat(tables)\u001b[32m [repeated 5x across cluster]\u001b[0m\n",
      "\u001b[36m(MapWorker(MapBatches(process_data)->MapBatches(UpserterConcurrent)) pid=1215867)\u001b[0m /home/ray/anaconda3/lib/python3.10/site-packages/ray/data/_internal/arrow_block.py:148: FutureWarning: promote has been superseded by mode='default'.\u001b[32m [repeated 6x across cluster]\u001b[0m\n",
      "\u001b[36m(MapWorker(MapBatches(process_data)->MapBatches(UpserterConcurrent)) pid=1215867)\u001b[0m   return transform_pyarrow.concat(tables)\u001b[32m [repeated 6x across cluster]\u001b[0m\n",
      "\u001b[36m(MapWorker(MapBatches(process_data)->MapBatches(UpserterConcurrent)) pid=44830, ip=10.0.0.17)\u001b[0m /home/ray/anaconda3/lib/python3.10/site-packages/ray/data/_internal/arrow_block.py:148: FutureWarning: promote has been superseded by mode='default'.\u001b[32m [repeated 4x across cluster]\u001b[0m\n",
      "\u001b[36m(MapWorker(MapBatches(process_data)->MapBatches(UpserterConcurrent)) pid=44830, ip=10.0.0.17)\u001b[0m   return transform_pyarrow.concat(tables)\u001b[32m [repeated 4x across cluster]\u001b[0m\n",
      "\u001b[36m(MapWorker(MapBatches(process_data)->MapBatches(UpserterConcurrent)) pid=45188, ip=10.0.0.17)\u001b[0m /home/ray/anaconda3/lib/python3.10/site-packages/ray/data/_internal/arrow_block.py:148: FutureWarning: promote has been superseded by mode='default'.\u001b[32m [repeated 4x across cluster]\u001b[0m\n",
      "\u001b[36m(MapWorker(MapBatches(process_data)->MapBatches(UpserterConcurrent)) pid=45188, ip=10.0.0.17)\u001b[0m   return transform_pyarrow.concat(tables)\u001b[32m [repeated 4x across cluster]\u001b[0m\n",
      "\u001b[36m(MapWorker(MapBatches(process_data)->MapBatches(UpserterConcurrent)) pid=46641, ip=10.0.0.57)\u001b[0m /home/ray/anaconda3/lib/python3.10/site-packages/ray/data/_internal/arrow_block.py:148: FutureWarning: promote has been superseded by mode='default'.\u001b[32m [repeated 5x across cluster]\u001b[0m\n",
      "\u001b[36m(MapWorker(MapBatches(process_data)->MapBatches(UpserterConcurrent)) pid=46641, ip=10.0.0.57)\u001b[0m   return transform_pyarrow.concat(tables)\u001b[32m [repeated 5x across cluster]\u001b[0m\n",
      "\u001b[36m(MapWorker(MapBatches(process_data)->MapBatches(UpserterConcurrent)) pid=44830, ip=10.0.0.17)\u001b[0m /home/ray/anaconda3/lib/python3.10/site-packages/ray/data/_internal/arrow_block.py:148: FutureWarning: promote has been superseded by mode='default'.\u001b[32m [repeated 5x across cluster]\u001b[0m\n",
      "\u001b[36m(MapWorker(MapBatches(process_data)->MapBatches(UpserterConcurrent)) pid=44830, ip=10.0.0.17)\u001b[0m   return transform_pyarrow.concat(tables)\u001b[32m [repeated 5x across cluster]\u001b[0m\n",
      "\u001b[36m(MapWorker(MapBatches(process_data)->MapBatches(UpserterConcurrent)) pid=44830, ip=10.0.0.17)\u001b[0m /home/ray/anaconda3/lib/python3.10/site-packages/ray/data/_internal/arrow_block.py:148: FutureWarning: promote has been superseded by mode='default'.\u001b[32m [repeated 5x across cluster]\u001b[0m\n",
      "\u001b[36m(MapWorker(MapBatches(process_data)->MapBatches(UpserterConcurrent)) pid=44830, ip=10.0.0.17)\u001b[0m   return transform_pyarrow.concat(tables)\u001b[32m [repeated 5x across cluster]\u001b[0m\n",
      "\u001b[36m(MapWorker(MapBatches(process_data)->MapBatches(UpserterConcurrent)) pid=45188, ip=10.0.0.17)\u001b[0m /home/ray/anaconda3/lib/python3.10/site-packages/ray/data/_internal/arrow_block.py:148: FutureWarning: promote has been superseded by mode='default'.\u001b[32m [repeated 6x across cluster]\u001b[0m\n",
      "\u001b[36m(MapWorker(MapBatches(process_data)->MapBatches(UpserterConcurrent)) pid=45188, ip=10.0.0.17)\u001b[0m   return transform_pyarrow.concat(tables)\u001b[32m [repeated 6x across cluster]\u001b[0m\n",
      "\u001b[36m(MapWorker(MapBatches(process_data)->MapBatches(UpserterConcurrent)) pid=1215867)\u001b[0m /home/ray/anaconda3/lib/python3.10/site-packages/ray/data/_internal/arrow_block.py:148: FutureWarning: promote has been superseded by mode='default'.\u001b[32m [repeated 5x across cluster]\u001b[0m\n",
      "\u001b[36m(MapWorker(MapBatches(process_data)->MapBatches(UpserterConcurrent)) pid=1215867)\u001b[0m   return transform_pyarrow.concat(tables)\u001b[32m [repeated 5x across cluster]\u001b[0m\n",
      "\u001b[36m(MapWorker(MapBatches(process_data)->MapBatches(UpserterConcurrent)) pid=45188, ip=10.0.0.17)\u001b[0m /home/ray/anaconda3/lib/python3.10/site-packages/ray/data/_internal/arrow_block.py:148: FutureWarning: promote has been superseded by mode='default'.\u001b[32m [repeated 4x across cluster]\u001b[0m\n",
      "\u001b[36m(MapWorker(MapBatches(process_data)->MapBatches(UpserterConcurrent)) pid=45188, ip=10.0.0.17)\u001b[0m   return transform_pyarrow.concat(tables)\u001b[32m [repeated 4x across cluster]\u001b[0m\n",
      "\u001b[36m(MapWorker(MapBatches(process_data)->MapBatches(UpserterConcurrent)) pid=46641, ip=10.0.0.57)\u001b[0m /home/ray/anaconda3/lib/python3.10/site-packages/ray/data/_internal/arrow_block.py:148: FutureWarning: promote has been superseded by mode='default'.\u001b[32m [repeated 4x across cluster]\u001b[0m\n",
      "\u001b[36m(MapWorker(MapBatches(process_data)->MapBatches(UpserterConcurrent)) pid=46641, ip=10.0.0.57)\u001b[0m   return transform_pyarrow.concat(tables)\u001b[32m [repeated 4x across cluster]\u001b[0m\n",
      "\u001b[36m(MapWorker(MapBatches(process_data)->MapBatches(UpserterConcurrent)) pid=46641, ip=10.0.0.57)\u001b[0m /home/ray/anaconda3/lib/python3.10/site-packages/ray/data/_internal/arrow_block.py:148: FutureWarning: promote has been superseded by mode='default'.\u001b[32m [repeated 5x across cluster]\u001b[0m\n",
      "\u001b[36m(MapWorker(MapBatches(process_data)->MapBatches(UpserterConcurrent)) pid=46641, ip=10.0.0.57)\u001b[0m   return transform_pyarrow.concat(tables)\u001b[32m [repeated 5x across cluster]\u001b[0m\n",
      "\u001b[36m(MapWorker(MapBatches(process_data)->MapBatches(UpserterConcurrent)) pid=45188, ip=10.0.0.17)\u001b[0m /home/ray/anaconda3/lib/python3.10/site-packages/ray/data/_internal/arrow_block.py:148: FutureWarning: promote has been superseded by mode='default'.\u001b[32m [repeated 6x across cluster]\u001b[0m\n",
      "\u001b[36m(MapWorker(MapBatches(process_data)->MapBatches(UpserterConcurrent)) pid=45188, ip=10.0.0.17)\u001b[0m   return transform_pyarrow.concat(tables)\u001b[32m [repeated 6x across cluster]\u001b[0m\n",
      "\u001b[36m(MapWorker(MapBatches(process_data)->MapBatches(UpserterConcurrent)) pid=15918, ip=10.0.0.63)\u001b[0m /home/ray/anaconda3/lib/python3.10/site-packages/ray/data/_internal/arrow_block.py:148: FutureWarning: promote has been superseded by mode='default'.\u001b[32m [repeated 5x across cluster]\u001b[0m\n",
      "\u001b[36m(MapWorker(MapBatches(process_data)->MapBatches(UpserterConcurrent)) pid=15918, ip=10.0.0.63)\u001b[0m   return transform_pyarrow.concat(tables)\u001b[32m [repeated 5x across cluster]\u001b[0m\n",
      "\u001b[36m(MapWorker(MapBatches(process_data)->MapBatches(UpserterConcurrent)) pid=15918, ip=10.0.0.63)\u001b[0m /home/ray/anaconda3/lib/python3.10/site-packages/ray/data/_internal/arrow_block.py:148: FutureWarning: promote has been superseded by mode='default'.\u001b[32m [repeated 5x across cluster]\u001b[0m\n",
      "\u001b[36m(MapWorker(MapBatches(process_data)->MapBatches(UpserterConcurrent)) pid=15918, ip=10.0.0.63)\u001b[0m   return transform_pyarrow.concat(tables)\u001b[32m [repeated 5x across cluster]\u001b[0m\n",
      "\u001b[36m(MapWorker(MapBatches(process_data)->MapBatches(UpserterConcurrent)) pid=45188, ip=10.0.0.17)\u001b[0m /home/ray/anaconda3/lib/python3.10/site-packages/ray/data/_internal/arrow_block.py:148: FutureWarning: promote has been superseded by mode='default'.\u001b[32m [repeated 5x across cluster]\u001b[0m\n",
      "\u001b[36m(MapWorker(MapBatches(process_data)->MapBatches(UpserterConcurrent)) pid=45188, ip=10.0.0.17)\u001b[0m   return transform_pyarrow.concat(tables)\u001b[32m [repeated 5x across cluster]\u001b[0m\n",
      "\u001b[36m(MapWorker(MapBatches(process_data)->MapBatches(UpserterConcurrent)) pid=15918, ip=10.0.0.63)\u001b[0m /home/ray/anaconda3/lib/python3.10/site-packages/ray/data/_internal/arrow_block.py:148: FutureWarning: promote has been superseded by mode='default'.\u001b[32m [repeated 5x across cluster]\u001b[0m\n",
      "\u001b[36m(MapWorker(MapBatches(process_data)->MapBatches(UpserterConcurrent)) pid=15918, ip=10.0.0.63)\u001b[0m   return transform_pyarrow.concat(tables)\u001b[32m [repeated 5x across cluster]\u001b[0m\n",
      "\u001b[36m(MapWorker(MapBatches(process_data)->MapBatches(UpserterConcurrent)) pid=15918, ip=10.0.0.63)\u001b[0m /home/ray/anaconda3/lib/python3.10/site-packages/ray/data/_internal/arrow_block.py:148: FutureWarning: promote has been superseded by mode='default'.\u001b[32m [repeated 5x across cluster]\u001b[0m\n",
      "\u001b[36m(MapWorker(MapBatches(process_data)->MapBatches(UpserterConcurrent)) pid=15918, ip=10.0.0.63)\u001b[0m   return transform_pyarrow.concat(tables)\u001b[32m [repeated 5x across cluster]\u001b[0m\n",
      "\u001b[36m(MapWorker(MapBatches(process_data)->MapBatches(UpserterConcurrent)) pid=15918, ip=10.0.0.63)\u001b[0m /home/ray/anaconda3/lib/python3.10/site-packages/ray/data/_internal/arrow_block.py:148: FutureWarning: promote has been superseded by mode='default'.\u001b[32m [repeated 5x across cluster]\u001b[0m\n",
      "\u001b[36m(MapWorker(MapBatches(process_data)->MapBatches(UpserterConcurrent)) pid=15918, ip=10.0.0.63)\u001b[0m   return transform_pyarrow.concat(tables)\u001b[32m [repeated 5x across cluster]\u001b[0m\n",
      "\u001b[36m(MapWorker(MapBatches(process_data)->MapBatches(UpserterConcurrent)) pid=1215867)\u001b[0m /home/ray/anaconda3/lib/python3.10/site-packages/ray/data/_internal/arrow_block.py:148: FutureWarning: promote has been superseded by mode='default'.\u001b[32m [repeated 5x across cluster]\u001b[0m\n",
      "\u001b[36m(MapWorker(MapBatches(process_data)->MapBatches(UpserterConcurrent)) pid=1215867)\u001b[0m   return transform_pyarrow.concat(tables)\u001b[32m [repeated 5x across cluster]\u001b[0m\n",
      "\u001b[36m(MapWorker(MapBatches(process_data)->MapBatches(UpserterConcurrent)) pid=44830, ip=10.0.0.17)\u001b[0m /home/ray/anaconda3/lib/python3.10/site-packages/ray/data/_internal/arrow_block.py:148: FutureWarning: promote has been superseded by mode='default'.\u001b[32m [repeated 5x across cluster]\u001b[0m\n",
      "\u001b[36m(MapWorker(MapBatches(process_data)->MapBatches(UpserterConcurrent)) pid=44830, ip=10.0.0.17)\u001b[0m   return transform_pyarrow.concat(tables)\u001b[32m [repeated 5x across cluster]\u001b[0m\n",
      "\u001b[36m(MapWorker(MapBatches(process_data)->MapBatches(UpserterConcurrent)) pid=44830, ip=10.0.0.17)\u001b[0m /home/ray/anaconda3/lib/python3.10/site-packages/ray/data/_internal/arrow_block.py:148: FutureWarning: promote has been superseded by mode='default'.\u001b[32m [repeated 5x across cluster]\u001b[0m\n",
      "\u001b[36m(MapWorker(MapBatches(process_data)->MapBatches(UpserterConcurrent)) pid=44830, ip=10.0.0.17)\u001b[0m   return transform_pyarrow.concat(tables)\u001b[32m [repeated 5x across cluster]\u001b[0m\n",
      "\u001b[36m(MapWorker(MapBatches(process_data)->MapBatches(UpserterConcurrent)) pid=44830, ip=10.0.0.17)\u001b[0m /home/ray/anaconda3/lib/python3.10/site-packages/ray/data/_internal/arrow_block.py:148: FutureWarning: promote has been superseded by mode='default'.\u001b[32m [repeated 5x across cluster]\u001b[0m\n",
      "\u001b[36m(MapWorker(MapBatches(process_data)->MapBatches(UpserterConcurrent)) pid=44830, ip=10.0.0.17)\u001b[0m   return transform_pyarrow.concat(tables)\u001b[32m [repeated 5x across cluster]\u001b[0m\n",
      "\u001b[36m(MapWorker(MapBatches(process_data)->MapBatches(UpserterConcurrent)) pid=44830, ip=10.0.0.17)\u001b[0m /home/ray/anaconda3/lib/python3.10/site-packages/ray/data/_internal/arrow_block.py:148: FutureWarning: promote has been superseded by mode='default'.\u001b[32m [repeated 5x across cluster]\u001b[0m\n",
      "\u001b[36m(MapWorker(MapBatches(process_data)->MapBatches(UpserterConcurrent)) pid=44830, ip=10.0.0.17)\u001b[0m   return transform_pyarrow.concat(tables)\u001b[32m [repeated 5x across cluster]\u001b[0m\n",
      "\u001b[36m(MapWorker(MapBatches(process_data)->MapBatches(UpserterConcurrent)) pid=44830, ip=10.0.0.17)\u001b[0m /home/ray/anaconda3/lib/python3.10/site-packages/ray/data/_internal/arrow_block.py:148: FutureWarning: promote has been superseded by mode='default'.\u001b[32m [repeated 5x across cluster]\u001b[0m\n",
      "\u001b[36m(MapWorker(MapBatches(process_data)->MapBatches(UpserterConcurrent)) pid=44830, ip=10.0.0.17)\u001b[0m   return transform_pyarrow.concat(tables)\u001b[32m [repeated 5x across cluster]\u001b[0m\n",
      "\u001b[36m(MapWorker(MapBatches(process_data)->MapBatches(UpserterConcurrent)) pid=44830, ip=10.0.0.17)\u001b[0m /home/ray/anaconda3/lib/python3.10/site-packages/ray/data/_internal/arrow_block.py:148: FutureWarning: promote has been superseded by mode='default'.\u001b[32m [repeated 5x across cluster]\u001b[0m\n",
      "\u001b[36m(MapWorker(MapBatches(process_data)->MapBatches(UpserterConcurrent)) pid=44830, ip=10.0.0.17)\u001b[0m   return transform_pyarrow.concat(tables)\u001b[32m [repeated 5x across cluster]\u001b[0m\n",
      "\u001b[36m(MapWorker(MapBatches(process_data)->MapBatches(UpserterConcurrent)) pid=45188, ip=10.0.0.17)\u001b[0m /home/ray/anaconda3/lib/python3.10/site-packages/ray/data/_internal/arrow_block.py:148: FutureWarning: promote has been superseded by mode='default'.\u001b[32m [repeated 5x across cluster]\u001b[0m\n",
      "\u001b[36m(MapWorker(MapBatches(process_data)->MapBatches(UpserterConcurrent)) pid=45188, ip=10.0.0.17)\u001b[0m   return transform_pyarrow.concat(tables)\u001b[32m [repeated 5x across cluster]\u001b[0m\n",
      "\u001b[36m(MapWorker(MapBatches(process_data)->MapBatches(UpserterConcurrent)) pid=44830, ip=10.0.0.17)\u001b[0m /home/ray/anaconda3/lib/python3.10/site-packages/ray/data/_internal/arrow_block.py:148: FutureWarning: promote has been superseded by mode='default'.\u001b[32m [repeated 5x across cluster]\u001b[0m\n",
      "\u001b[36m(MapWorker(MapBatches(process_data)->MapBatches(UpserterConcurrent)) pid=44830, ip=10.0.0.17)\u001b[0m   return transform_pyarrow.concat(tables)\u001b[32m [repeated 5x across cluster]\u001b[0m\n",
      "\u001b[36m(MapWorker(MapBatches(process_data)->MapBatches(UpserterConcurrent)) pid=15918, ip=10.0.0.63)\u001b[0m /home/ray/anaconda3/lib/python3.10/site-packages/ray/data/_internal/arrow_block.py:148: FutureWarning: promote has been superseded by mode='default'.\u001b[32m [repeated 6x across cluster]\u001b[0m\n",
      "\u001b[36m(MapWorker(MapBatches(process_data)->MapBatches(UpserterConcurrent)) pid=15918, ip=10.0.0.63)\u001b[0m   return transform_pyarrow.concat(tables)\u001b[32m [repeated 6x across cluster]\u001b[0m\n",
      "\u001b[36m(MapWorker(MapBatches(process_data)->MapBatches(UpserterConcurrent)) pid=44830, ip=10.0.0.17)\u001b[0m /home/ray/anaconda3/lib/python3.10/site-packages/ray/data/_internal/arrow_block.py:148: FutureWarning: promote has been superseded by mode='default'.\u001b[32m [repeated 5x across cluster]\u001b[0m\n",
      "\u001b[36m(MapWorker(MapBatches(process_data)->MapBatches(UpserterConcurrent)) pid=44830, ip=10.0.0.17)\u001b[0m   return transform_pyarrow.concat(tables)\u001b[32m [repeated 5x across cluster]\u001b[0m\n",
      "\u001b[36m(MapWorker(MapBatches(process_data)->MapBatches(UpserterConcurrent)) pid=45188, ip=10.0.0.17)\u001b[0m /home/ray/anaconda3/lib/python3.10/site-packages/ray/data/_internal/arrow_block.py:148: FutureWarning: promote has been superseded by mode='default'.\u001b[32m [repeated 5x across cluster]\u001b[0m\n",
      "\u001b[36m(MapWorker(MapBatches(process_data)->MapBatches(UpserterConcurrent)) pid=45188, ip=10.0.0.17)\u001b[0m   return transform_pyarrow.concat(tables)\u001b[32m [repeated 5x across cluster]\u001b[0m\n",
      "\u001b[36m(MapWorker(MapBatches(process_data)->MapBatches(UpserterConcurrent)) pid=46641, ip=10.0.0.57)\u001b[0m /home/ray/anaconda3/lib/python3.10/site-packages/ray/data/_internal/arrow_block.py:148: FutureWarning: promote has been superseded by mode='default'.\u001b[32m [repeated 7x across cluster]\u001b[0m\n",
      "\u001b[36m(MapWorker(MapBatches(process_data)->MapBatches(UpserterConcurrent)) pid=46641, ip=10.0.0.57)\u001b[0m   return transform_pyarrow.concat(tables)\u001b[32m [repeated 7x across cluster]\u001b[0m\n",
      "\u001b[36m(MapWorker(MapBatches(process_data)->MapBatches(UpserterConcurrent)) pid=44830, ip=10.0.0.17)\u001b[0m /home/ray/anaconda3/lib/python3.10/site-packages/ray/data/_internal/arrow_block.py:148: FutureWarning: promote has been superseded by mode='default'.\u001b[32m [repeated 6x across cluster]\u001b[0m\n",
      "\u001b[36m(MapWorker(MapBatches(process_data)->MapBatches(UpserterConcurrent)) pid=44830, ip=10.0.0.17)\u001b[0m   return transform_pyarrow.concat(tables)\u001b[32m [repeated 6x across cluster]\u001b[0m\n",
      "\u001b[36m(MapWorker(MapBatches(process_data)->MapBatches(UpserterConcurrent)) pid=44830, ip=10.0.0.17)\u001b[0m /home/ray/anaconda3/lib/python3.10/site-packages/ray/data/_internal/arrow_block.py:148: FutureWarning: promote has been superseded by mode='default'.\u001b[32m [repeated 5x across cluster]\u001b[0m\n",
      "\u001b[36m(MapWorker(MapBatches(process_data)->MapBatches(UpserterConcurrent)) pid=44830, ip=10.0.0.17)\u001b[0m   return transform_pyarrow.concat(tables)\u001b[32m [repeated 5x across cluster]\u001b[0m\n"
     ]
    },
    {
     "name": "stdout",
     "output_type": "stream",
     "text": [
      "\u001b[36m(autoscaler +43m20s)\u001b[0m [autoscaler] Downscaling node g-b9af25ad7f7db0001 (node IP: 10.0.0.27) due to node idle termination.\n",
      "\u001b[36m(autoscaler +43m21s)\u001b[0m [autoscaler] Cluster resized to {352 CPU, 0 GPU}.\n"
     ]
    },
    {
     "name": "stderr",
     "output_type": "stream",
     "text": [
      "\u001b[33m(raylet, ip=10.0.0.27)\u001b[0m [2024-01-12 13:12:56,505 C 288 338] (raylet) object_buffer_pool.cc:292:  Check failed: _s.ok() Bad status: IOError: Broken pipe\n",
      "\u001b[33m(raylet, ip=10.0.0.27)\u001b[0m *** StackTrace Information ***\n",
      "\u001b[33m(raylet, ip=10.0.0.27)\u001b[0m /home/ray/anaconda3/lib/python3.10/site-packages/ray/core/src/ray/raylet/raylet(+0xb83a1a) [0x5616f5e16a1a] ray::operator<<()\n",
      "\u001b[33m(raylet, ip=10.0.0.27)\u001b[0m /home/ray/anaconda3/lib/python3.10/site-packages/ray/core/src/ray/raylet/raylet(+0xb851d7) [0x5616f5e181d7] ray::SpdLogMessage::Flush()\n",
      "\u001b[33m(raylet, ip=10.0.0.27)\u001b[0m /home/ray/anaconda3/lib/python3.10/site-packages/ray/core/src/ray/raylet/raylet(+0xb85677) [0x5616f5e18677] ray::RayLog::~RayLog()\n",
      "\u001b[33m(raylet, ip=10.0.0.27)\u001b[0m /home/ray/anaconda3/lib/python3.10/site-packages/ray/core/src/ray/raylet/raylet(+0x3d4d8d) [0x5616f5667d8d] ray::ObjectBufferPool::FreeObjects()\n",
      "\u001b[33m(raylet, ip=10.0.0.27)\u001b[0m /home/ray/anaconda3/lib/python3.10/site-packages/ray/core/src/ray/raylet/raylet(+0x3a0247) [0x5616f5633247] ray::ObjectManager::FreeObjects()\n",
      "\u001b[33m(raylet, ip=10.0.0.27)\u001b[0m /home/ray/anaconda3/lib/python3.10/site-packages/ray/core/src/ray/raylet/raylet(+0x3a0974) [0x5616f5633974] ray::ObjectManager::HandleFreeObjects()\n",
      "\u001b[33m(raylet, ip=10.0.0.27)\u001b[0m /home/ray/anaconda3/lib/python3.10/site-packages/ray/core/src/ray/raylet/raylet(+0x395c41) [0x5616f5628c41] ray::rpc::ServerCallImpl<>::HandleRequestImpl()\n",
      "\u001b[33m(raylet, ip=10.0.0.27)\u001b[0m /home/ray/anaconda3/lib/python3.10/site-packages/ray/core/src/ray/raylet/raylet(+0x5b420e) [0x5616f584720e] EventTracker::RecordExecution()\n",
      "\u001b[33m(raylet, ip=10.0.0.27)\u001b[0m /home/ray/anaconda3/lib/python3.10/site-packages/ray/core/src/ray/raylet/raylet(+0x5ad5fe) [0x5616f58405fe] std::_Function_handler<>::_M_invoke()\n",
      "\u001b[33m(raylet, ip=10.0.0.27)\u001b[0m /home/ray/anaconda3/lib/python3.10/site-packages/ray/core/src/ray/raylet/raylet(+0x5ada76) [0x5616f5840a76] boost::asio::detail::completion_handler<>::do_complete()\n",
      "\u001b[33m(raylet, ip=10.0.0.27)\u001b[0m /home/ray/anaconda3/lib/python3.10/site-packages/ray/core/src/ray/raylet/raylet(+0xc6529b) [0x5616f5ef829b] boost::asio::detail::scheduler::do_run_one()\n",
      "\u001b[33m(raylet, ip=10.0.0.27)\u001b[0m /home/ray/anaconda3/lib/python3.10/site-packages/ray/core/src/ray/raylet/raylet(+0xc67829) [0x5616f5efa829] boost::asio::detail::scheduler::run()\n",
      "\u001b[33m(raylet, ip=10.0.0.27)\u001b[0m /home/ray/anaconda3/lib/python3.10/site-packages/ray/core/src/ray/raylet/raylet(+0xc67d42) [0x5616f5efad42] boost::asio::io_context::run()\n",
      "\u001b[33m(raylet, ip=10.0.0.27)\u001b[0m /home/ray/anaconda3/lib/python3.10/site-packages/ray/core/src/ray/raylet/raylet(+0xcbf9d0) [0x5616f5f529d0] execute_native_thread_routine\n",
      "\u001b[33m(raylet, ip=10.0.0.27)\u001b[0m /lib/x86_64-linux-gnu/libpthread.so.0(+0x8609) [0x7f2991ca2609] start_thread\n",
      "\u001b[33m(raylet, ip=10.0.0.27)\u001b[0m /lib/x86_64-linux-gnu/libc.so.6(clone+0x43) [0x7f299186f353] __clone\n",
      "\u001b[33m(raylet, ip=10.0.0.27)\u001b[0m \n",
      "\u001b[36m(MapWorker(MapBatches(process_data)->MapBatches(UpserterConcurrent)) pid=44830, ip=10.0.0.17)\u001b[0m /home/ray/anaconda3/lib/python3.10/site-packages/ray/data/_internal/arrow_block.py:148: FutureWarning: promote has been superseded by mode='default'.\u001b[32m [repeated 5x across cluster]\u001b[0m\n",
      "\u001b[36m(MapWorker(MapBatches(process_data)->MapBatches(UpserterConcurrent)) pid=44830, ip=10.0.0.17)\u001b[0m   return transform_pyarrow.concat(tables)\u001b[32m [repeated 5x across cluster]\u001b[0m\n",
      "\u001b[36m(MapWorker(MapBatches(process_data)->MapBatches(UpserterConcurrent)) pid=44830, ip=10.0.0.17)\u001b[0m /home/ray/anaconda3/lib/python3.10/site-packages/ray/data/_internal/arrow_block.py:148: FutureWarning: promote has been superseded by mode='default'.\u001b[32m [repeated 5x across cluster]\u001b[0m\n",
      "\u001b[36m(MapWorker(MapBatches(process_data)->MapBatches(UpserterConcurrent)) pid=44830, ip=10.0.0.17)\u001b[0m   return transform_pyarrow.concat(tables)\u001b[32m [repeated 5x across cluster]\u001b[0m\n"
     ]
    },
    {
     "name": "stdout",
     "output_type": "stream",
     "text": [
      "\u001b[36m(autoscaler +43m38s)\u001b[0m [autoscaler] Downscaling node g-2e56d600b15f90001 (node IP: 10.0.0.67) due to node idle termination.\n",
      "\u001b[36m(autoscaler +43m38s)\u001b[0m [autoscaler] Downscaling node g-446513b32ebc40001 (node IP: 10.0.0.5) due to node idle termination.\n",
      "\u001b[36m(autoscaler +43m39s)\u001b[0m [autoscaler] Cluster resized to {288 CPU, 0 GPU}.\n"
     ]
    },
    {
     "name": "stderr",
     "output_type": "stream",
     "text": [
      "\u001b[36m(MapWorker(MapBatches(process_data)->MapBatches(UpserterConcurrent)) pid=44830, ip=10.0.0.17)\u001b[0m /home/ray/anaconda3/lib/python3.10/site-packages/ray/data/_internal/arrow_block.py:148: FutureWarning: promote has been superseded by mode='default'.\u001b[32m [repeated 5x across cluster]\u001b[0m\n",
      "\u001b[36m(MapWorker(MapBatches(process_data)->MapBatches(UpserterConcurrent)) pid=44830, ip=10.0.0.17)\u001b[0m   return transform_pyarrow.concat(tables)\u001b[32m [repeated 5x across cluster]\u001b[0m\n",
      "\u001b[33m(raylet, ip=10.0.0.5)\u001b[0m [2024-01-12 13:13:14,451 C 289 337] (raylet) object_buffer_pool.cc:292:  Check failed: _s.ok() Bad status: IOError: Broken pipe\n",
      "\u001b[33m(raylet, ip=10.0.0.5)\u001b[0m *** StackTrace Information ***\n",
      "\u001b[33m(raylet, ip=10.0.0.5)\u001b[0m /home/ray/anaconda3/lib/python3.10/site-packages/ray/core/src/ray/raylet/raylet(+0xb83a1a) [0x5561a16c9a1a] ray::operator<<()\n",
      "\u001b[33m(raylet, ip=10.0.0.5)\u001b[0m /home/ray/anaconda3/lib/python3.10/site-packages/ray/core/src/ray/raylet/raylet(+0xb851d7) [0x5561a16cb1d7] ray::SpdLogMessage::Flush()\n",
      "\u001b[33m(raylet, ip=10.0.0.5)\u001b[0m /home/ray/anaconda3/lib/python3.10/site-packages/ray/core/src/ray/raylet/raylet(+0xb85677) [0x5561a16cb677] ray::RayLog::~RayLog()\n",
      "\u001b[33m(raylet, ip=10.0.0.5)\u001b[0m /home/ray/anaconda3/lib/python3.10/site-packages/ray/core/src/ray/raylet/raylet(+0x3d4d8d) [0x5561a0f1ad8d] ray::ObjectBufferPool::FreeObjects()\n",
      "\u001b[33m(raylet, ip=10.0.0.5)\u001b[0m /home/ray/anaconda3/lib/python3.10/site-packages/ray/core/src/ray/raylet/raylet(+0x3a0247) [0x5561a0ee6247] ray::ObjectManager::FreeObjects()\n",
      "\u001b[33m(raylet, ip=10.0.0.5)\u001b[0m /home/ray/anaconda3/lib/python3.10/site-packages/ray/core/src/ray/raylet/raylet(+0x3a0974) [0x5561a0ee6974] ray::ObjectManager::HandleFreeObjects()\n",
      "\u001b[33m(raylet, ip=10.0.0.5)\u001b[0m /home/ray/anaconda3/lib/python3.10/site-packages/ray/core/src/ray/raylet/raylet(+0x395c41) [0x5561a0edbc41] ray::rpc::ServerCallImpl<>::HandleRequestImpl()\n",
      "\u001b[33m(raylet, ip=10.0.0.5)\u001b[0m /home/ray/anaconda3/lib/python3.10/site-packages/ray/core/src/ray/raylet/raylet(+0x5b420e) [0x5561a10fa20e] EventTracker::RecordExecution()\n",
      "\u001b[33m(raylet, ip=10.0.0.5)\u001b[0m /home/ray/anaconda3/lib/python3.10/site-packages/ray/core/src/ray/raylet/raylet(+0x5ad5fe) [0x5561a10f35fe] std::_Function_handler<>::_M_invoke()\n",
      "\u001b[33m(raylet, ip=10.0.0.5)\u001b[0m /home/ray/anaconda3/lib/python3.10/site-packages/ray/core/src/ray/raylet/raylet(+0x5ada76) [0x5561a10f3a76] boost::asio::detail::completion_handler<>::do_complete()\n",
      "\u001b[33m(raylet, ip=10.0.0.5)\u001b[0m /home/ray/anaconda3/lib/python3.10/site-packages/ray/core/src/ray/raylet/raylet(+0xc6529b) [0x5561a17ab29b] boost::asio::detail::scheduler::do_run_one()\n",
      "\u001b[33m(raylet, ip=10.0.0.5)\u001b[0m /home/ray/anaconda3/lib/python3.10/site-packages/ray/core/src/ray/raylet/raylet(+0xc67829) [0x5561a17ad829] boost::asio::detail::scheduler::run()\n",
      "\u001b[33m(raylet, ip=10.0.0.5)\u001b[0m /home/ray/anaconda3/lib/python3.10/site-packages/ray/core/src/ray/raylet/raylet(+0xc67d42) [0x5561a17add42] boost::asio::io_context::run()\n",
      "\u001b[33m(raylet, ip=10.0.0.5)\u001b[0m /home/ray/anaconda3/lib/python3.10/site-packages/ray/core/src/ray/raylet/raylet(+0xcbf9d0) [0x5561a18059d0] execute_native_thread_routine\n",
      "\u001b[33m(raylet, ip=10.0.0.5)\u001b[0m /lib/x86_64-linux-gnu/libpthread.so.0(+0x8609) [0x7f5ef81f4609] start_thread\n",
      "\u001b[33m(raylet, ip=10.0.0.5)\u001b[0m /lib/x86_64-linux-gnu/libc.so.6(clone+0x43) [0x7f5ef7dc1353] __clone\n",
      "\u001b[33m(raylet, ip=10.0.0.5)\u001b[0m \n",
      "\u001b[36m(MapWorker(MapBatches(process_data)->MapBatches(UpserterConcurrent)) pid=46641, ip=10.0.0.57)\u001b[0m /home/ray/anaconda3/lib/python3.10/site-packages/ray/data/_internal/arrow_block.py:148: FutureWarning: promote has been superseded by mode='default'.\u001b[32m [repeated 4x across cluster]\u001b[0m\n",
      "\u001b[36m(MapWorker(MapBatches(process_data)->MapBatches(UpserterConcurrent)) pid=46641, ip=10.0.0.57)\u001b[0m   return transform_pyarrow.concat(tables)\u001b[32m [repeated 4x across cluster]\u001b[0m\n",
      "\u001b[33m(raylet, ip=10.0.0.67)\u001b[0m [2024-01-12 13:13:14,450 C 288 334] (raylet) object_buffer_pool.cc:292:  Check failed: _s.ok() Bad status: IOError: Broken pipe\n",
      "\u001b[33m(raylet, ip=10.0.0.67)\u001b[0m *** StackTrace Information ***\n",
      "\u001b[33m(raylet, ip=10.0.0.67)\u001b[0m /home/ray/anaconda3/lib/python3.10/site-packages/ray/core/src/ray/raylet/raylet(+0xb83a1a) [0x56514d013a1a] ray::operator<<()\n",
      "\u001b[33m(raylet, ip=10.0.0.67)\u001b[0m /home/ray/anaconda3/lib/python3.10/site-packages/ray/core/src/ray/raylet/raylet(+0xb851d7) [0x56514d0151d7] ray::SpdLogMessage::Flush()\n",
      "\u001b[33m(raylet, ip=10.0.0.67)\u001b[0m /home/ray/anaconda3/lib/python3.10/site-packages/ray/core/src/ray/raylet/raylet(+0xb85677) [0x56514d015677] ray::RayLog::~RayLog()\n",
      "\u001b[33m(raylet, ip=10.0.0.67)\u001b[0m /home/ray/anaconda3/lib/python3.10/site-packages/ray/core/src/ray/raylet/raylet(+0x3d4d8d) [0x56514c864d8d] ray::ObjectBufferPool::FreeObjects()\n",
      "\u001b[33m(raylet, ip=10.0.0.67)\u001b[0m /home/ray/anaconda3/lib/python3.10/site-packages/ray/core/src/ray/raylet/raylet(+0x3a0247) [0x56514c830247] ray::ObjectManager::FreeObjects()\n",
      "\u001b[33m(raylet, ip=10.0.0.67)\u001b[0m /home/ray/anaconda3/lib/python3.10/site-packages/ray/core/src/ray/raylet/raylet(+0x3a0974) [0x56514c830974] ray::ObjectManager::HandleFreeObjects()\n",
      "\u001b[33m(raylet, ip=10.0.0.67)\u001b[0m /home/ray/anaconda3/lib/python3.10/site-packages/ray/core/src/ray/raylet/raylet(+0x395c41) [0x56514c825c41] ray::rpc::ServerCallImpl<>::HandleRequestImpl()\n",
      "\u001b[33m(raylet, ip=10.0.0.67)\u001b[0m /home/ray/anaconda3/lib/python3.10/site-packages/ray/core/src/ray/raylet/raylet(+0x5b420e) [0x56514ca4420e] EventTracker::RecordExecution()\n",
      "\u001b[33m(raylet, ip=10.0.0.67)\u001b[0m /home/ray/anaconda3/lib/python3.10/site-packages/ray/core/src/ray/raylet/raylet(+0x5ad5fe) [0x56514ca3d5fe] std::_Function_handler<>::_M_invoke()\n",
      "\u001b[33m(raylet, ip=10.0.0.67)\u001b[0m /home/ray/anaconda3/lib/python3.10/site-packages/ray/core/src/ray/raylet/raylet(+0x5ada76) [0x56514ca3da76] boost::asio::detail::completion_handler<>::do_complete()\n",
      "\u001b[33m(raylet, ip=10.0.0.67)\u001b[0m /home/ray/anaconda3/lib/python3.10/site-packages/ray/core/src/ray/raylet/raylet(+0xc6529b) [0x56514d0f529b] boost::asio::detail::scheduler::do_run_one()\n",
      "\u001b[33m(raylet, ip=10.0.0.67)\u001b[0m /home/ray/anaconda3/lib/python3.10/site-packages/ray/core/src/ray/raylet/raylet(+0xc67829) [0x56514d0f7829] boost::asio::detail::scheduler::run()\n",
      "\u001b[33m(raylet, ip=10.0.0.67)\u001b[0m /home/ray/anaconda3/lib/python3.10/site-packages/ray/core/src/ray/raylet/raylet(+0xc67d42) [0x56514d0f7d42] boost::asio::io_context::run()\n",
      "\u001b[33m(raylet, ip=10.0.0.67)\u001b[0m /home/ray/anaconda3/lib/python3.10/site-packages/ray/core/src/ray/raylet/raylet(+0xcbf9d0) [0x56514d14f9d0] execute_native_thread_routine\n",
      "\u001b[33m(raylet, ip=10.0.0.67)\u001b[0m /lib/x86_64-linux-gnu/libpthread.so.0(+0x8609) [0x7f37bad07609] start_thread\n",
      "\u001b[33m(raylet, ip=10.0.0.67)\u001b[0m /lib/x86_64-linux-gnu/libc.so.6(clone+0x43) [0x7f37ba8d4353] __clone\n",
      "\u001b[33m(raylet, ip=10.0.0.67)\u001b[0m \n"
     ]
    },
    {
     "name": "stdout",
     "output_type": "stream",
     "text": [
      "\u001b[36m(autoscaler +43m50s)\u001b[0m [autoscaler] Downscaling node g-1a760a1f86fab0001 (node IP: 10.0.0.4) due to node idle termination.\n"
     ]
    },
    {
     "name": "stderr",
     "output_type": "stream",
     "text": [
      "\u001b[36m(MapWorker(MapBatches(process_data)->MapBatches(UpserterConcurrent)) pid=46641, ip=10.0.0.57)\u001b[0m /home/ray/anaconda3/lib/python3.10/site-packages/ray/data/_internal/arrow_block.py:148: FutureWarning: promote has been superseded by mode='default'.\u001b[32m [repeated 5x across cluster]\u001b[0m\n",
      "\u001b[36m(MapWorker(MapBatches(process_data)->MapBatches(UpserterConcurrent)) pid=46641, ip=10.0.0.57)\u001b[0m   return transform_pyarrow.concat(tables)\u001b[32m [repeated 5x across cluster]\u001b[0m\n"
     ]
    },
    {
     "name": "stdout",
     "output_type": "stream",
     "text": [
      "\u001b[36m(autoscaler +43m51s)\u001b[0m [autoscaler] Cluster resized to {256 CPU, 0 GPU}.\n"
     ]
    },
    {
     "name": "stderr",
     "output_type": "stream",
     "text": [
      "\u001b[36m(MapWorker(MapBatches(process_data)->MapBatches(UpserterConcurrent)) pid=46641, ip=10.0.0.57)\u001b[0m /home/ray/anaconda3/lib/python3.10/site-packages/ray/data/_internal/arrow_block.py:148: FutureWarning: promote has been superseded by mode='default'.\u001b[32m [repeated 5x across cluster]\u001b[0m\n",
      "\u001b[36m(MapWorker(MapBatches(process_data)->MapBatches(UpserterConcurrent)) pid=46641, ip=10.0.0.57)\u001b[0m   return transform_pyarrow.concat(tables)\u001b[32m [repeated 5x across cluster]\u001b[0m\n",
      "\u001b[36m(MapWorker(MapBatches(process_data)->MapBatches(UpserterConcurrent)) pid=15918, ip=10.0.0.63)\u001b[0m /home/ray/anaconda3/lib/python3.10/site-packages/ray/data/_internal/arrow_block.py:148: FutureWarning: promote has been superseded by mode='default'.\u001b[32m [repeated 6x across cluster]\u001b[0m\n",
      "\u001b[36m(MapWorker(MapBatches(process_data)->MapBatches(UpserterConcurrent)) pid=15918, ip=10.0.0.63)\u001b[0m   return transform_pyarrow.concat(tables)\u001b[32m [repeated 6x across cluster]\u001b[0m\n",
      "\u001b[36m(MapWorker(MapBatches(process_data)->MapBatches(UpserterConcurrent)) pid=45188, ip=10.0.0.17)\u001b[0m /home/ray/anaconda3/lib/python3.10/site-packages/ray/data/_internal/arrow_block.py:148: FutureWarning: promote has been superseded by mode='default'.\u001b[32m [repeated 7x across cluster]\u001b[0m\n",
      "\u001b[36m(MapWorker(MapBatches(process_data)->MapBatches(UpserterConcurrent)) pid=45188, ip=10.0.0.17)\u001b[0m   return transform_pyarrow.concat(tables)\u001b[32m [repeated 7x across cluster]\u001b[0m\n"
     ]
    },
    {
     "name": "stdout",
     "output_type": "stream",
     "text": [
      "\u001b[36m(autoscaler +44m12s)\u001b[0m [autoscaler] Downscaling node g-6a32fefadc59f0001 (node IP: 10.0.0.85) due to node idle termination.\n",
      "\u001b[36m(autoscaler +44m13s)\u001b[0m [autoscaler] Cluster resized to {224 CPU, 0 GPU}.\n"
     ]
    },
    {
     "name": "stderr",
     "output_type": "stream",
     "text": [
      "\u001b[33m(raylet, ip=10.0.0.85)\u001b[0m [2024-01-12 13:13:50,417 C 288 336] (raylet) object_buffer_pool.cc:292:  Check failed: _s.ok() Bad status: IOError: Broken pipe\n",
      "\u001b[33m(raylet, ip=10.0.0.85)\u001b[0m *** StackTrace Information ***\n",
      "\u001b[33m(raylet, ip=10.0.0.85)\u001b[0m /home/ray/anaconda3/lib/python3.10/site-packages/ray/core/src/ray/raylet/raylet(+0xb83a1a) [0x55c84f16fa1a] ray::operator<<()\n",
      "\u001b[33m(raylet, ip=10.0.0.85)\u001b[0m /home/ray/anaconda3/lib/python3.10/site-packages/ray/core/src/ray/raylet/raylet(+0xb851d7) [0x55c84f1711d7] ray::SpdLogMessage::Flush()\n",
      "\u001b[33m(raylet, ip=10.0.0.85)\u001b[0m /home/ray/anaconda3/lib/python3.10/site-packages/ray/core/src/ray/raylet/raylet(+0xb85677) [0x55c84f171677] ray::RayLog::~RayLog()\n",
      "\u001b[33m(raylet, ip=10.0.0.85)\u001b[0m /home/ray/anaconda3/lib/python3.10/site-packages/ray/core/src/ray/raylet/raylet(+0x3d4d8d) [0x55c84e9c0d8d] ray::ObjectBufferPool::FreeObjects()\n",
      "\u001b[33m(raylet, ip=10.0.0.85)\u001b[0m /home/ray/anaconda3/lib/python3.10/site-packages/ray/core/src/ray/raylet/raylet(+0x3a0247) [0x55c84e98c247] ray::ObjectManager::FreeObjects()\n",
      "\u001b[33m(raylet, ip=10.0.0.85)\u001b[0m /home/ray/anaconda3/lib/python3.10/site-packages/ray/core/src/ray/raylet/raylet(+0x3a0974) [0x55c84e98c974] ray::ObjectManager::HandleFreeObjects()\n",
      "\u001b[33m(raylet, ip=10.0.0.85)\u001b[0m /home/ray/anaconda3/lib/python3.10/site-packages/ray/core/src/ray/raylet/raylet(+0x395c41) [0x55c84e981c41] ray::rpc::ServerCallImpl<>::HandleRequestImpl()\n",
      "\u001b[33m(raylet, ip=10.0.0.85)\u001b[0m /home/ray/anaconda3/lib/python3.10/site-packages/ray/core/src/ray/raylet/raylet(+0x5b420e) [0x55c84eba020e] EventTracker::RecordExecution()\n",
      "\u001b[33m(raylet, ip=10.0.0.85)\u001b[0m /home/ray/anaconda3/lib/python3.10/site-packages/ray/core/src/ray/raylet/raylet(+0x5ad5fe) [0x55c84eb995fe] std::_Function_handler<>::_M_invoke()\n",
      "\u001b[33m(raylet, ip=10.0.0.85)\u001b[0m /home/ray/anaconda3/lib/python3.10/site-packages/ray/core/src/ray/raylet/raylet(+0x5ada76) [0x55c84eb99a76] boost::asio::detail::completion_handler<>::do_complete()\n",
      "\u001b[33m(raylet, ip=10.0.0.85)\u001b[0m /home/ray/anaconda3/lib/python3.10/site-packages/ray/core/src/ray/raylet/raylet(+0xc6529b) [0x55c84f25129b] boost::asio::detail::scheduler::do_run_one()\n",
      "\u001b[33m(raylet, ip=10.0.0.85)\u001b[0m /home/ray/anaconda3/lib/python3.10/site-packages/ray/core/src/ray/raylet/raylet(+0xc67829) [0x55c84f253829] boost::asio::detail::scheduler::run()\n",
      "\u001b[33m(raylet, ip=10.0.0.85)\u001b[0m /home/ray/anaconda3/lib/python3.10/site-packages/ray/core/src/ray/raylet/raylet(+0xc67d42) [0x55c84f253d42] boost::asio::io_context::run()\n",
      "\u001b[33m(raylet, ip=10.0.0.85)\u001b[0m /home/ray/anaconda3/lib/python3.10/site-packages/ray/core/src/ray/raylet/raylet(+0xcbf9d0) [0x55c84f2ab9d0] execute_native_thread_routine\n",
      "\u001b[33m(raylet, ip=10.0.0.85)\u001b[0m /lib/x86_64-linux-gnu/libpthread.so.0(+0x8609) [0x7fcc527ae609] start_thread\n",
      "\u001b[33m(raylet, ip=10.0.0.85)\u001b[0m /lib/x86_64-linux-gnu/libc.so.6(clone+0x43) [0x7fcc5237b353] __clone\n",
      "\u001b[33m(raylet, ip=10.0.0.85)\u001b[0m \n",
      "\u001b[36m(MapWorker(MapBatches(process_data)->MapBatches(UpserterConcurrent)) pid=45188, ip=10.0.0.17)\u001b[0m /home/ray/anaconda3/lib/python3.10/site-packages/ray/data/_internal/arrow_block.py:148: FutureWarning: promote has been superseded by mode='default'.\u001b[32m [repeated 5x across cluster]\u001b[0m\n",
      "\u001b[36m(MapWorker(MapBatches(process_data)->MapBatches(UpserterConcurrent)) pid=45188, ip=10.0.0.17)\u001b[0m   return transform_pyarrow.concat(tables)\u001b[32m [repeated 5x across cluster]\u001b[0m\n",
      "\u001b[36m(MapWorker(MapBatches(process_data)->MapBatches(UpserterConcurrent)) pid=1215867)\u001b[0m /home/ray/anaconda3/lib/python3.10/site-packages/ray/data/_internal/arrow_block.py:148: FutureWarning: promote has been superseded by mode='default'.\u001b[32m [repeated 6x across cluster]\u001b[0m\n",
      "\u001b[36m(MapWorker(MapBatches(process_data)->MapBatches(UpserterConcurrent)) pid=1215867)\u001b[0m   return transform_pyarrow.concat(tables)\u001b[32m [repeated 6x across cluster]\u001b[0m\n",
      "\u001b[36m(MapWorker(MapBatches(process_data)->MapBatches(UpserterConcurrent)) pid=46641, ip=10.0.0.57)\u001b[0m /home/ray/anaconda3/lib/python3.10/site-packages/ray/data/_internal/arrow_block.py:148: FutureWarning: promote has been superseded by mode='default'.\u001b[32m [repeated 3x across cluster]\u001b[0m\n",
      "\u001b[36m(MapWorker(MapBatches(process_data)->MapBatches(UpserterConcurrent)) pid=46641, ip=10.0.0.57)\u001b[0m   return transform_pyarrow.concat(tables)\u001b[32m [repeated 3x across cluster]\u001b[0m\n",
      "2024-01-12 13:14:02,329\tINFO dataset.py:2488 -- Tip: Use `take_batch()` instead of `take() / show()` to return records in pandas or numpy batch format.\n",
      "2024-01-12 13:14:02,332\tINFO streaming_executor.py:112 -- Executing DAG InputDataBuffer[Input] -> AllToAllOperator[Aggregate] -> LimitOperator[limit=1]\n",
      "2024-01-12 13:14:02,333\tINFO streaming_executor.py:113 -- Execution config: ExecutionOptions(resource_limits=ExecutionResources(cpu=None, gpu=None, object_store_memory=None), exclude_resources=ExecutionResources(cpu=0, gpu=0, object_store_memory=0), locality_with_output=False, preserve_order=False, actor_locality_enabled=True, verbose_progress=False)\n",
      "2024-01-12 13:14:02,333\tINFO streaming_executor.py:115 -- Tip: For detailed progress reporting, run `ray.data.DataContext.get_current().execution_options.verbose_progress = True`\n"
     ]
    },
    {
     "data": {
      "application/vnd.jupyter.widget-view+json": {
       "model_id": "4d8140aa18cb40028426791c3cabd485",
       "version_major": 2,
       "version_minor": 0
      },
      "text/plain": [
       "- Aggregate 1:   0%|          | 0/2024 [00:00<?, ?it/s]"
      ]
     },
     "metadata": {},
     "output_type": "display_data"
    },
    {
     "data": {
      "application/vnd.jupyter.widget-view+json": {
       "model_id": "8b098f8946a7497589d7cf12497d84a0",
       "version_major": 2,
       "version_minor": 0
      },
      "text/plain": [
       "Shuffle Map 2:   0%|          | 0/2024 [00:00<?, ?it/s]"
      ]
     },
     "metadata": {},
     "output_type": "display_data"
    },
    {
     "data": {
      "application/vnd.jupyter.widget-view+json": {
       "model_id": "1a0f437eb4984a5181e26c55da1a91e5",
       "version_major": 2,
       "version_minor": 0
      },
      "text/plain": [
       "Shuffle Reduce 3:   0%|          | 0/2024 [00:00<?, ?it/s]"
      ]
     },
     "metadata": {},
     "output_type": "display_data"
    },
    {
     "data": {
      "application/vnd.jupyter.widget-view+json": {
       "model_id": "606d1fa2ef39430a9ca668f20eed4a1d",
       "version_major": 2,
       "version_minor": 0
      },
      "text/plain": [
       "Running 0:   0%|          | 0/2024 [00:00<?, ?it/s]"
      ]
     },
     "metadata": {},
     "output_type": "display_data"
    },
    {
     "name": "stdout",
     "output_type": "stream",
     "text": [
      "\u001b[36m(autoscaler +44m30s)\u001b[0m [autoscaler] Downscaling node g-446513b32ebc40002 (node IP: 10.0.0.24) due to node idle termination.\n",
      "\u001b[36m(autoscaler +44m31s)\u001b[0m [autoscaler] Cluster resized to {192 CPU, 0 GPU}.\n",
      "{'sum(upsreted)': ' 35,167,920', 'sum(errors)': ' 0'}\n",
      "0:43:10.921066\n",
      "CPU times: user 1min 17s, sys: 9.55 s, total: 1min 27s\n",
      "Wall time: 43min 10s\n"
     ]
    }
   ],
   "source": [
    "%%time\n",
    "\n",
    "num_workers = 5\n",
    "\n",
    "new_ds = ds.map_batches(\n",
    "    process_data, \n",
    "    batch_format=\"pandas\"\n",
    ").map_batches(\n",
    "    UpserterConcurrent, \n",
    "    batch_size=batch_size * 20, \n",
    "    batch_format='pandas', \n",
    "    zero_copy_batch=True,\n",
    "    concurrency=(1, num_workers)\n",
    ")\n",
    "\n",
    "before = datetime.now()\n",
    "summary = new_ds.materialize().sum(['upsreted', 'errors'])\n",
    "# summary\n",
    "duration = datetime.now() - before\n",
    "print({k: f\"{v: ,}\" for k,v in summary.items()})\n",
    "print(duration)"
   ]
  },
  {
   "cell_type": "code",
   "execution_count": 24,
   "id": "48e8cf72-c10d-41ec-b015-f0b64ea301d2",
   "metadata": {
    "tags": []
   },
   "outputs": [
    {
     "name": "stdout",
     "output_type": "stream",
     "text": [
      "Upserted 35,167,920 vectors, duration: 0:43:10.921066. Failed to upsert 0 vectors, see log for more details\n"
     ]
    },
    {
     "name": "stdout",
     "output_type": "stream",
     "text": [
      "\u001b[36m(autoscaler +45m0s)\u001b[0m [autoscaler] Downscaling node g-fa67927eec76e0001 (node IP: 10.0.0.49) due to node idle termination.\n",
      "\u001b[36m(autoscaler +45m1s)\u001b[0m [autoscaler] Cluster resized to {160 CPU, 0 GPU}.\n"
     ]
    }
   ],
   "source": [
    "print(f\"Upserted {summary['sum(upsreted)']:,} vectors, duration: {duration}. Failed to upsert {summary['sum(errors)']:,} vectors, see log for more details\")"
   ]
  },
  {
   "cell_type": "code",
   "execution_count": null,
   "id": "eeb94580-83d2-4d8b-a7ec-fabcd70eaec2",
   "metadata": {},
   "outputs": [],
   "source": []
  }
 ],
 "metadata": {
  "kernelspec": {
   "display_name": "Python 3 (ipykernel)",
   "language": "python",
   "name": "python3"
  },
  "language_info": {
   "codemirror_mode": {
    "name": "ipython",
    "version": 3
   },
   "file_extension": ".py",
   "mimetype": "text/x-python",
   "name": "python",
   "nbconvert_exporter": "python",
   "pygments_lexer": "ipython3",
   "version": "3.10.13"
  }
 },
 "nbformat": 4,
 "nbformat_minor": 5
}
